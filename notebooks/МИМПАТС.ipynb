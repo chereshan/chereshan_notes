{
 "cells": [
  {
   "cell_type": "markdown",
   "id": "127bdead",
   "metadata": {},
   "source": [
    "# Лекция 1 (12.11.2022)"
   ]
  },
  {
   "cell_type": "markdown",
   "id": "6cd0a908",
   "metadata": {},
   "source": [
    "* 60 баллов за теоретическую часть\n",
    "* 40 за потоковую контрольную\n",
    "* 20 баллов за итоговую письменную работу (в декабре)\n",
    "* Итоговая оценка:\n",
    "    * ``2`` - 40<\n",
    "    * ``3`` - 40-60\n",
    "    * ``4`` - 60-80\n",
    "    * ``5``- 80>"
   ]
  },
  {
   "cell_type": "markdown",
   "id": "9db09ae8",
   "metadata": {},
   "source": [
    "Аппарат прикладного анализа пространственных аспектов развития\n",
    "\n",
    "Модели: \n",
    "1. **эмпирические:** описательная статистика, эконометрические модели\n",
    "2. **балансовые:** модели региона, мультирегиональные модели\n",
    "3. **оптимизационные**\n",
    "4. **имитационные**\n",
    "5. **теория графиов и сетей**"
   ]
  },
  {
   "cell_type": "markdown",
   "id": "84c57264",
   "metadata": {},
   "source": [
    "**Эмпиричсекие методы**\n",
    "\n",
    "1. Описательная статистика\n",
    "* Таблицы \n",
    "* Диаграммы\n",
    "* Графики \n",
    "* Карты"
   ]
  },
  {
   "cell_type": "markdown",
   "id": "4d7737c4",
   "metadata": {},
   "source": []
  },
  {
   "cell_type": "markdown",
   "id": "be12fbf1",
   "metadata": {},
   "source": []
  },
  {
   "cell_type": "markdown",
   "id": "5eca37de",
   "metadata": {},
   "source": []
  },
  {
   "cell_type": "markdown",
   "id": "81a51d82",
   "metadata": {},
   "source": []
  },
  {
   "cell_type": "markdown",
   "id": "28314f32",
   "metadata": {},
   "source": []
  },
  {
   "cell_type": "markdown",
   "id": "18659aec",
   "metadata": {},
   "source": []
  },
  {
   "cell_type": "markdown",
   "id": "81a11421",
   "metadata": {},
   "source": []
  },
  {
   "cell_type": "markdown",
   "id": "595f3430",
   "metadata": {},
   "source": []
  },
  {
   "cell_type": "markdown",
   "id": "90bde482",
   "metadata": {},
   "source": []
  },
  {
   "cell_type": "markdown",
   "id": "cb96ddba",
   "metadata": {},
   "source": []
  },
  {
   "cell_type": "markdown",
   "id": "2ab32165",
   "metadata": {},
   "source": []
  },
  {
   "cell_type": "markdown",
   "id": "0ca53ada",
   "metadata": {},
   "source": []
  },
  {
   "cell_type": "markdown",
   "id": "a8109e68",
   "metadata": {},
   "source": []
  },
  {
   "cell_type": "markdown",
   "id": "40a74287",
   "metadata": {},
   "source": []
  },
  {
   "cell_type": "markdown",
   "id": "ba189921",
   "metadata": {},
   "source": []
  },
  {
   "cell_type": "markdown",
   "id": "c0082c0e",
   "metadata": {},
   "source": []
  },
  {
   "cell_type": "markdown",
   "id": "8cafdd25",
   "metadata": {},
   "source": []
  },
  {
   "cell_type": "markdown",
   "id": "a4a7b215",
   "metadata": {},
   "source": []
  },
  {
   "cell_type": "markdown",
   "id": "ef991609",
   "metadata": {},
   "source": []
  },
  {
   "cell_type": "markdown",
   "id": "50bb6387",
   "metadata": {},
   "source": []
  },
  {
   "cell_type": "markdown",
   "id": "b25d5df3",
   "metadata": {},
   "source": []
  },
  {
   "cell_type": "markdown",
   "id": "bd888361",
   "metadata": {},
   "source": []
  },
  {
   "cell_type": "markdown",
   "id": "97209999",
   "metadata": {},
   "source": []
  },
  {
   "cell_type": "markdown",
   "id": "b4b38d68",
   "metadata": {},
   "source": []
  },
  {
   "cell_type": "markdown",
   "id": "fca4eb7c",
   "metadata": {},
   "source": []
  },
  {
   "cell_type": "markdown",
   "id": "587303db",
   "metadata": {},
   "source": []
  },
  {
   "cell_type": "markdown",
   "id": "5a4e370e",
   "metadata": {},
   "source": []
  },
  {
   "cell_type": "markdown",
   "id": "e91313cd",
   "metadata": {},
   "source": []
  },
  {
   "cell_type": "markdown",
   "id": "2a541ade",
   "metadata": {},
   "source": []
  },
  {
   "cell_type": "markdown",
   "id": "60f0391a",
   "metadata": {},
   "source": []
  },
  {
   "cell_type": "markdown",
   "id": "1098137a",
   "metadata": {},
   "source": []
  },
  {
   "cell_type": "markdown",
   "id": "4277788f",
   "metadata": {},
   "source": []
  },
  {
   "cell_type": "markdown",
   "id": "24170781",
   "metadata": {},
   "source": []
  },
  {
   "cell_type": "markdown",
   "id": "a0a56476",
   "metadata": {},
   "source": []
  },
  {
   "cell_type": "markdown",
   "id": "6c1ab259",
   "metadata": {},
   "source": []
  },
  {
   "cell_type": "markdown",
   "id": "a6f37754",
   "metadata": {},
   "source": []
  },
  {
   "cell_type": "markdown",
   "id": "ee32e455",
   "metadata": {},
   "source": []
  },
  {
   "cell_type": "markdown",
   "id": "0993b506",
   "metadata": {},
   "source": []
  },
  {
   "cell_type": "markdown",
   "id": "8b4a2c7f",
   "metadata": {},
   "source": []
  },
  {
   "cell_type": "markdown",
   "id": "6a666eb8",
   "metadata": {},
   "source": []
  },
  {
   "cell_type": "markdown",
   "id": "9f7a1085",
   "metadata": {},
   "source": []
  },
  {
   "cell_type": "markdown",
   "id": "803d07fd",
   "metadata": {},
   "source": []
  },
  {
   "cell_type": "markdown",
   "id": "ded60e3f",
   "metadata": {},
   "source": [
    "###### "
   ]
  }
 ],
 "metadata": {
  "kernelspec": {
   "display_name": "Python 3 (ipykernel)",
   "language": "python",
   "name": "python3"
  },
  "language_info": {
   "codemirror_mode": {
    "name": "ipython",
    "version": 3
   },
   "file_extension": ".py",
   "mimetype": "text/x-python",
   "name": "python",
   "nbconvert_exporter": "python",
   "pygments_lexer": "ipython3",
   "version": "3.10.8"
  },
  "toc": {
   "base_numbering": 1,
   "nav_menu": {},
   "number_sections": true,
   "sideBar": true,
   "skip_h1_title": false,
   "title_cell": "Table of Contents",
   "title_sidebar": "Contents",
   "toc_cell": false,
   "toc_position": {},
   "toc_section_display": true,
   "toc_window_display": false
  }
 },
 "nbformat": 4,
 "nbformat_minor": 5
}
