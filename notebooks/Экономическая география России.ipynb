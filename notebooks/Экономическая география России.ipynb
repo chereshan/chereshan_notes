{
 "cells": [
  {
   "cell_type": "markdown",
   "id": "ffe70061",
   "metadata": {},
   "source": [
    "**Экономическая география**"
   ]
  },
  {
   "cell_type": "markdown",
   "id": "f2ee5af6",
   "metadata": {},
   "source": [
    "**Источники:**\n",
    "\n",
    "Оксфордский сборник по экономике России: \n",
    "- [ ] **Глава 26.** Экономическая география\n",
    "России\n",
    "- [ ] **Глава 27.** Российский бюджетный федерализм: как на него влияет политическая и фискальная (де)централизация\n",
    "- [ ] **Глава 28.** Региональные проблемы России на примерах Сибири и Дальнего Востока"
   ]
  },
  {
   "cell_type": "code",
   "execution_count": null,
   "id": "72245bd4",
   "metadata": {},
   "outputs": [],
   "source": []
  }
 ],
 "metadata": {
  "kernelspec": {
   "display_name": "Python 3 (ipykernel)",
   "language": "python",
   "name": "python3"
  },
  "language_info": {
   "codemirror_mode": {
    "name": "ipython",
    "version": 3
   },
   "file_extension": ".py",
   "mimetype": "text/x-python",
   "name": "python",
   "nbconvert_exporter": "python",
   "pygments_lexer": "ipython3",
   "version": "3.10.8"
  },
  "toc": {
   "base_numbering": 1,
   "nav_menu": {},
   "number_sections": true,
   "sideBar": true,
   "skip_h1_title": false,
   "title_cell": "Table of Contents",
   "title_sidebar": "Contents",
   "toc_cell": false,
   "toc_position": {},
   "toc_section_display": true,
   "toc_window_display": false
  }
 },
 "nbformat": 4,
 "nbformat_minor": 5
}
