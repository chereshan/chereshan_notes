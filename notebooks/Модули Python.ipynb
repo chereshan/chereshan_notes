{
 "cells": [
  {
   "cell_type": "markdown",
   "id": "be9c5510",
   "metadata": {},
   "source": [
    "**Источники**:\n",
    "1. Мой конспект в тетради\n",
    "2. [**Учебник Изучаем Python. 5-е изд. Марк Лутц**](https://cloudflare-ipfs.com/ipfs/bafykbzacebtmtompgmaqptqv2uje6ex6vsqwwhsysjlaqabca6debksytmoms?filename=%D0%9C%D0%B0%D1%80%D0%BA%20%D0%9B%D1%83%D1%82%D1%86%20-%20%D0%98%D0%B7%D1%83%D1%87%D0%B0%D0%B5%D0%BC%20Python.%201-%D0%9E%D0%9E%D0%9E%20_%D0%94%D0%B8%D0%B0%D0%BB%D0%B5%D0%BA%D1%82%D0%B8%D0%BA%D0%B0_%20%282019%29.pdf)\n",
    "3. [Учебник Программирование на Python 3. Марк Саммерфилд. **ГЛ. 5. Модули**](https://cloudflare-ipfs.com/ipfs/bafykbzaceaifvnxesbrdjafh4wtbz63upkwihwlaattiijiwlpk7lkdp6dlta?filename=%D0%9C%D0%B0%D1%80%D0%BA%20%D0%A1%D0%B0%D0%BC%D0%BC%D0%B5%D1%80%D1%84%D0%B8%D0%BB%D0%B4%20-%20%D0%9F%D1%80%D0%BE%D0%B3%D1%80%D0%B0%D0%BC%D0%BC%D0%B8%D1%80%D0%BE%D0%B2%D0%B0%D0%BD%D0%B8%D0%B5%20%D0%BD%D0%B0%20Python%203.%20%D0%9F%D0%BE%D0%B4%D1%80%D0%BE%D0%B1%D0%BD%D0%BE%D0%B5%20%D1%80%D1%83%D0%BA%D0%BE%D0%B2%D0%BE%D0%B4%D1%81%D1%82%D0%B2%D0%BE-%D0%A1%D0%B8%D0%BC%D0%B2%D0%BE%D0%BB-%D0%9F%D0%BB%D1%8E%D1%81%20%282009%29.pdf)\n",
    "4. [Яворски Михал, Зиаде Тарек. Python. Лучшие практики и инструменты. — СПб.: Питер, 2021. — 560 с.: ил. —(Серия «Библиотека программиста»). - гл. 7 - Создаем пакеты](https://vk.com/doc486172469_657513152?hash=TxFakpt8WjFZ8ZcUC7YPyXrZ0yh36x4Zw6DjicqZIIk&dl=tW4hWIq1p1Q0HxV01OU661aM5J2thwI9is7ayNgZCa4)\n",
    "5. [Чан, Уэсли. Python: создание приложений. Библиотека профессионала, 3-е изд. Пер. с англ. - М. : ООО \"И.Д. Вильяме\", 2015. - 816 с. Гл. 8](https://vk.com/doc486172469_657513142?hash=0R9aPv5dzSPmqmHj4Ug8MIzRgrZTMhyc4kGFTfYKprL&dl=6Nj5z85fQNmomYmWFimDC7wjUgcJLStrXNqsDgjdPC4)\n",
    "6. [Хеллман, Даг.Стандартная библиотека Python 3: справочник с примерами, 2-е изд.\n",
    ": Пер. с англ. — СПб. : ООО “Диалектика”, 2019. — 1376 с. : ил. — Парал.тит. англ. гл. 19. Модули и пакеты](https://vk.com/doc486172469_657513248?hash=XKZ9qjFWBe0Zo6UZIJ8uYRitI7QI7O9EBXPtEbJTPu0&dl=KlXuT0HJ1lX4oShwlWe2zoQxeV060JujAcBw4ehrgGP)"
   ]
  },
  {
   "cell_type": "markdown",
   "id": "83f73d55",
   "metadata": {},
   "source": [
    "# Модули"
   ]
  },
  {
   "cell_type": "markdown",
   "id": "85f45ada",
   "metadata": {
    "heading_collapsed": true
   },
   "source": [
    "## Модули"
   ]
  },
  {
   "cell_type": "markdown",
   "id": "374055b9",
   "metadata": {
    "hidden": true
   },
   "source": [
    "**Модули Python** — единицы организации программ наивысшего уровня, которые упаковывают программный код и данные для многократного использования и предоставляют изолированные пространства имен, сводящие к минимуму конфликты имен переменных внутри программ.\n",
    "\n",
    "Каждый файл является модулем, а модули импортируют другие модули, чтобы задействовать определяемые в них имена. Модули могут также соответствовать расширениям, написанным на внешнем языке, таком как С,Java или С#, и даже каталогам в импортированных пакетах."
   ]
  },
  {
   "cell_type": "markdown",
   "id": "df8a0a65",
   "metadata": {
    "hidden": true
   },
   "source": [
    "Модули обрабатываются с помощью двух операторов и одной важной функции: \n",
    "* ``import``- Позволяет клиенту (импортеру) извлечь модуль как единое целое\n",
    "* ``from`` - Позволяет клиентам извлекать отдельные имена из модуля\n",
    "* ``imp.reload`` (``reload`` в Python 2.X) - Предоставляет способ перезагрузки кода модуля, не останавливая Python"
   ]
  },
  {
   "cell_type": "markdown",
   "id": "c177e50e",
   "metadata": {
    "hidden": true
   },
   "source": [
    "Выражаясь кратко, модули предоставляют простой способ организации компонентов в систему, выступая в качестве изолированных пакетов переменных, которые известны как **пространства имен**."
   ]
  },
  {
   "cell_type": "markdown",
   "id": "198c4836",
   "metadata": {
    "hidden": true
   },
   "source": [
    "Все имена, определенные на верхнем уровне файла модуля, становятся *атрибутами объекта* импортированного модуля. "
   ]
  },
  {
   "cell_type": "markdown",
   "id": "e776b3b0",
   "metadata": {
    "hidden": true
   },
   "source": [
    "Как было показано ранее, <font color='red'>**импортирование обеспечивает доступ к именам в глобальной области видимости модуля**</font>. Таким образом, глобальная область видимости файла модуля превращается в пространство имен объекта модуля, когда файл модуля импортируется. В конечном итоге модули Python позволяют связывать индивидуальные файлы в более крупную программную систему"
   ]
  },
  {
   "cell_type": "markdown",
   "id": "ad84ae90",
   "metadata": {
    "hidden": true
   },
   "source": [
    "Три роли модулей: \n",
    "\n",
    "**1. Многократное использование кода**\n",
    "\n",
    " * Не менее важно и то, что модули представляют собой **место для определения имен, известных как атрибуты**, на которые могут ссылаться многочисленные внешние клиенты. При правильном применении в результате поддерживается модульная конструкция программ, группирующая функциональность в многократно используемые единицы.\n",
    "    \n",
    "**2. Разбиение пространства имен системы**\n",
    "\n",
    " * Хотя по существу модули — всего лишь пакеты имен, они являются изолированными — вы не сможете увидеть имя из другого файла, пока явно не импортируете этот файл. Во многом подобно локальным областям видимости функций такое решение помогает избежать конфликтов имен в программах.\n",
    "\n",
    "**3. Реализация разделяемых служб или данных**"
   ]
  },
  {
   "cell_type": "markdown",
   "id": "6610c918",
   "metadata": {
    "heading_collapsed": true
   },
   "source": [
    "## Архитектура программы Python"
   ]
  },
  {
   "cell_type": "markdown",
   "id": "ba47aac2",
   "metadata": {
    "hidden": true
   },
   "source": [
    "* **Общая архитектура программы Python** — способ разделения программы на коллекцию файлов исходного кода (также известных как модули) и связывания частей в единое целое"
   ]
  },
  {
   "cell_type": "markdown",
   "id": "035d71c1",
   "metadata": {
    "hidden": true
   },
   "source": [
    "На самом базовом уровне программа Python состоит из текстовых файлов, содержащих операторы Python, с одним главным файлом верхнего уровня и нулем или большим количеством добавочных файлов, известных как модули"
   ]
  },
  {
   "cell_type": "markdown",
   "id": "22964f69",
   "metadata": {
    "hidden": true
   },
   "source": [
    "* **Файл верхнего уровня (он же сценарий)** содержит *главный поток управления программы* — именно данный файл запускается для старта приложения. \n",
    "\n",
    "* **Файлы модулей** являются *библиотеками инструментов*, используемых для * сбора компонентов, которые применяются файлом верхнего уровня и возможно где-нибудь еще. \n",
    "\n",
    "* **Файлы верхнего уровня** используют инструменты, определенные в файлах модулей, а модули применяют инструменты, определенные в других модулях.\n",
    "\n",
    "*Несмотря на то что файлы модулей тоже относятся к файлам кода, они обычно ничего не делают, когда запускаются напрямую; взамен в них определяются инструменты, предназначенные для использования в других файлах.*\n",
    "\n",
    "Файл импортирует модуль для получения доступа к определенным в нем инструментам, которые известны как его **атрибуты** — имена переменных, присоединяемые к таким объектам, как функции.\n",
    "\n",
    "В конечном счете, для работы с инструментами мы импортируем модули и обращаемся к их атрибутам"
   ]
  },
  {
   "cell_type": "markdown",
   "id": "8bc4a3bd",
   "metadata": {
    "hidden": true
   },
   "source": [
    "### Пример на конкретной программе"
   ]
  },
  {
   "cell_type": "markdown",
   "id": "8213748f",
   "metadata": {
    "hidden": true
   },
   "source": [
    "Программа состоит из трех файлов ``a.py``,``b.py`` и ``c.py``. \n",
    "\n",
    "Файл ``a.py`` - это файл верхнего уровня. Это простой текстовый файл с операторами, которые при запуске выполняются с начала до конца. \n",
    "\n",
    "Файлы ``b.py`` и ``c.py`` - модули, которые являются простыми текстовыми файлами, также содержащими операторами, но операторы, как правило, не выполняются напрямую. \n",
    "\n",
    "Пусть в файле ``b.py`` определена функция по имени ``spam``"
   ]
  },
  {
   "cell_type": "code",
   "execution_count": 3,
   "id": "49a7f8ca",
   "metadata": {
    "hidden": true
   },
   "outputs": [],
   "source": [
    "# b.py\n",
    "def spam(text):\n",
    "    print(text,'spam')"
   ]
  },
  {
   "cell_type": "code",
   "execution_count": null,
   "id": "ec4257ed",
   "metadata": {
    "hidden": true
   },
   "outputs": [],
   "source": [
    "import b\n",
    "b.spam('gumby')"
   ]
  },
  {
   "attachments": {
    "image.png": {
     "image/png": "[encoded data removed]"
    }
   },
   "cell_type": "markdown",
   "id": "0a2b5595",
   "metadata": {
    "hidden": true
   },
   "source": [
    "![image.png](attachment:image.png)"
   ]
  },
  {
   "cell_type": "markdown",
   "id": "cdae4dc7",
   "metadata": {
    "hidden": true
   },
   "source": [
    "``import b`` = Загрузить файл ``b.ру`` (если он еще не был загружен) и открыть доступ ко всем его атрибутам через имя ``b``."
   ]
  },
  {
   "cell_type": "markdown",
   "id": "1b41c6a3",
   "metadata": {
    "hidden": true
   },
   "source": [
    "В Python **межфайловое связывание модулей не распознается до тех\n",
    "пор, пока не запустятся операторы ``import`` во время выполнения**, их совокупным эффектом будет присваивание именам модулей — простым переменным вроде ``b`` — объектов загруженных модулей. \n",
    "\n",
    "Фактически имя модуля, применяемое в операторе ``import``, служит двум целям: оно идентифицирует внешний файл, подлежащий загрузке, и также становится переменной, которой присваивается объект загруженного модуля."
   ]
  },
  {
   "cell_type": "markdown",
   "id": "82a81f5f",
   "metadata": {
    "hidden": true
   },
   "source": [
    "Аналогичным образом объекты, определяемые модулем, также создаются во время\n",
    "выполнения как результат запуска ``import``: оператор ``import`` буквально выполняет\n",
    "операторы в целевом файле по одному за раз, чтобы создать их содержимое. \n",
    "\n",
    "В ходе\n",
    "дела каждое имя, присвоенное на верхнем уровне файла, становится атрибутом модуля, доступным импортерам. Скажем, второй оператор в а.ру вызывает функцию\n",
    "``spam``, определенную в модуле ``Ь`` (созданную за счет выполнения оператора ``def`` во время импортирования), с использованием формы записи для атрибутов объектов. \n",
    "\n",
    "Вот\n",
    "что означает код ``b.spam``: Извлечь значение имени spam, которое находится внутри объекта ``Ь``."
   ]
  },
  {
   "cell_type": "markdown",
   "id": "82e43d1e",
   "metadata": {
    "hidden": true
   },
   "source": [
    "Форма записи ``объект.атрибут`` встречается в коде ``Python`` повсеместно — большинство объектов имеют полезные атрибуты, которые извлекаются с помощью операции точки (.).\n",
    "\n",
    "Одни атрибуты ссылаются на вызываемые объекты наподобие функций, предпринимающих действие (например, расчет заработной платы), а другие\n",
    "представляют собой просто значения данных, которые обозначают более статичные\n",
    "объекты и свойства (скажем, имя лица)."
   ]
  },
  {
   "cell_type": "markdown",
   "id": "6ecfef0b",
   "metadata": {
    "hidden": true
   },
   "source": [
    "В состав Python входит крупная коллекция служебных модулей, известная как стандартная библиотека. Эта коллекция, насчитывающая свыше 300 модулей, содержит независимую от платформы поддержку для распространенных задач программирования:\n",
    "интерфейсы к операционной системе, постоянство объектов, сопоставление текста с\n",
    "образцом, написание сценариев для работы с сетями и Интернетом, построение графических пользовательских интерфейсов и многие другие. Ни один из таких инструментов не является частью самого языка Python, но вы можете их использовать путем\n",
    "импортирования подходящих модулей в любой стандартной копии Python. Поскольку\n",
    "они представляют собой стандартные библиотечные модули, вы также имеете уверенность в том, что они будут доступными и работать переносимым образом на большинстве платформ, где запускается Python."
   ]
  },
  {
   "cell_type": "markdown",
   "id": "5ff0b281",
   "metadata": {
    "heading_collapsed": true
   },
   "source": [
    "## Как работает импортирование"
   ]
  },
  {
   "cell_type": "markdown",
   "id": "bf6696c9",
   "metadata": {
    "hidden": true
   },
   "source": [
    "Некоторым программистам на языке С нравится сравнивать операции импортирования модулей с директивами #include языка С, но на самом деле поступать так не\n",
    "следует; импортирование в Python — не просто вставка одного текста внутрь другого.\n",
    "\n",
    "Они действительно являются операциями времени выполнения, которые делают три\n",
    "отдельных шага, когда программа впервые импортирует заданный файл:\n",
    "\n",
    "1. **<font color='red'>Ищут файл модуля.</font>**\n",
    "2. **<font color='red'>Компилируют его в байт-код (при необходимости). </font>**\n",
    "3. **<font color='red'>Выполняют код модуля для создания объектов, которые в нем определены.</font>**\n"
   ]
  },
  {
   "cell_type": "markdown",
   "id": "d8f90754",
   "metadata": {
    "hidden": true
   },
   "source": [
    "### Поиск файла модуля"
   ]
  },
  {
   "cell_type": "markdown",
   "id": "8c953587",
   "metadata": {
    "hidden": true
   },
   "source": [
    "Первым делом ``Python`` должен найти файл модуля, на который производится ссылка\n",
    "в операторе ``import``. Обратите внимание, что в операторе ``import`` из примера в предыдущем разделе указано имя файла без расширения ``.ру`` и без пути к его каталогу: оператор выглядел как ``import b``, а не что-нибудь вроде ``import с: \\dirl\\b.py``. \n",
    "\n",
    "Сведения\n",
    "о пути и расширении опускаются намеренно; взамен для нахождения файла модуля,\n",
    "соответствующего оператору import, Python применяет стандартный путь поиска модулей и известные типы файлов."
   ]
  },
  {
   "cell_type": "markdown",
   "id": "46dcff7f",
   "metadata": {
    "hidden": true
   },
   "source": [
    "Грубо говоря, путь поиска модулей Python формируется объединением следующих главных компонентов, из которых одни установлены заранее,\n",
    "а другие можно подстраивать для указания Python, где проводить поиск. Данный список сортирован согласно приоритетности: \n",
    "\n",
    "1. Домашний каталог программы.\n",
    "2. Каталоги PYTHONPATH (если установлены).\n",
    "3. Каталоги стандартной библиотеки.\n",
    "4. Содержимое любых файлов .pth (при их наличии).\n",
    "5. Подкаталог site-packages, где размещаются сторонние расширения."
   ]
  },
  {
   "cell_type": "markdown",
   "id": "c1c3fca1",
   "metadata": {
    "hidden": true
   },
   "source": [
    "В конечном итоге объединение перечисленных пяти компонентов образует\n",
    "sys .path — изменяемый список строк с именами каталогов, который будет подробно\n",
    "описан далее в разделе. Первый и третий элементы пути поиска определяются автоматически. Тем не менее, поскольку Python выполняет поиск в объединении этих компонентов с первого до последнего, второй и четвертый элементы можно применять для\n",
    "расширения пути с целью включения собственных каталогов исходного кода. Ниже\n",
    "объясняется, как Python использует компоненты пути поис"
   ]
  },
  {
   "cell_type": "markdown",
   "id": "ba3e66d5",
   "metadata": {
    "hidden": true
   },
   "source": [
    "**Домашний каталог (устанавливается автоматически)**\n",
    "\n",
    "Сначала Python ищет импортируемый файл в домашнем каталоге. Смысл данного элемента зависит от того, каким образом вы запускаете код. Когда вы запускаете программу, данный элемент представляет собой каталог, который содержит\n",
    "файл сценария верхнего уровня программы. Когда вы работаете в интерактивной подсказке, данным элементом является каталог, где производится работа (т.е.\n",
    "текущий рабочий каталог)\n",
    "\n",
    "Из-за того, что поиск в домашнем каталоге всегда происходит первым, если\n",
    "программа расположена целиком в единственном каталоге, тогда все ее операции импортирования будут работать автоматически, не требуя какого-либо конфигурирования путей. С другой стороны, поскольку поиск в этом каталоге производится первым, его результаты также переопределяются модулями с теми\n",
    "же самыми именами в других местах пути. Будьте осторожны, чтобы случайно\n",
    "не скрыть таким способом библиотечные модули, если они нужны в программе,\n",
    "или применяйте инструменты пакетов, с которыми мы встретимся позже, чтобы частично обойти проблему."
   ]
  },
  {
   "cell_type": "markdown",
   "id": "6b4ecefd",
   "metadata": {
    "hidden": true
   },
   "source": [
    "**Каталоги PYTHONPATH (допускают конфигурирование)**\n",
    "\n",
    "Затем Python выполняет поиск во всех каталогах, перечисленных в переменной среды PYTHONPATH, слева направо (при условии, что вы вообще установили\n",
    "ее: она не устанавливается автоматически). Выражаясь кратко, PYTHONPATH —\n",
    "просто список определяемых пользователем и специфичных к платформе имен\n",
    "каталогов, которые содержат файлы кода Python. Вы можете добавить все каталоги, из которых должна быть возможность импортирования, и Python расширит путь поиска модулей, включив в него все перечисленные в переменной\n",
    "PYTHONPATH каталоги.\n",
    "\n",
    "Так как Python производит поиск сначала в домашнем каталоге, установка\n",
    "PYTHONPATH важна только при импортировании файлов за границами каталога,\n",
    "т.е. если нужно импортировать файл, который хранится в каталоге, отличающемся от каталога, где находится файл с операцией импортирования. Возможно, вы\n",
    "захотите устанавливать переменную PYTHONPATH, как только приступите к написанию программ значительного размера. Но до тех пор, пока все файлы модулей\n",
    "хранятся в каталоге, где производится работа (т.е. в домашнем каталоге вроде\n",
    "С: \\code, используемого для примеров из книги), импортирование будет функционировать вообще без необходимости заботиться об установке PYTHONPATH."
   ]
  },
  {
   "cell_type": "markdown",
   "id": "82bd62ba",
   "metadata": {
    "hidden": true
   },
   "source": [
    "**Каталоги стандартной библиотеки (устанавливаются автоматически)**\n",
    "\n",
    "Далее Python автоматически выполняет поиск в каталогах, в которых установлены стандартные библиотечные модули. Поскольку поиск в них происходит\n",
    "всегда, они обычно не требуют добавления в переменную PYTHONPATH или\n",
    "включения в файлы конфигурации путей (обсуждаются следующими).\n"
   ]
  },
  {
   "cell_type": "markdown",
   "id": "49f8e75e",
   "metadata": {
    "hidden": true
   },
   "source": [
    "**Каталоги в файлах конфигурации путей .pth (допускают конфигурирование)**\n",
    "\n",
    "Затем менее употребляемая возможность Python позволяет пользователям добавлять каталоги в путь поиска модулей, просто перечисляя их по одному в\n",
    "строке внутри текстового файла с расширением .pth (от path — путь). Такие\n",
    "файлы конфигурации путей являются несколько более развитым средством,\n",
    "связанным с установкой; мы не будем здесь раскрывать их полностью, но отметим, что они предлагают альтернативу настройкам переменной PYTHONPATH.\n",
    "Вкратце текстовые файлы с именами каталогов, помещенные в подходящий каталог, могут служить примерно той же роли, что и переменная среды\n",
    "PYTHONPATH. Скажем, если вы работаете в среде Windows с установленной версией Python 3.7, тогда для расширения пути поиска модулей можете поместить\n",
    "файл по имени myconfig.pth на верхний уровень каталога с установленной\n",
    "копией Python (C:\\Python37) или в подкаталог site-packages стандартной\n",
    "библиотеки (C:\\Python33\\Lib\\site-packages). В Unix-подобных системах\n",
    "этот файл может находиться в /usr/local/lib/python3.7/site-packages\n",
    "или /usr/local/lib/site-python.\n",
    "Когда такой файл присутствует, Python будет добавлять каталоги, перечисленные в каждой его строке, с первой по последнюю, ближе к концу списка в пути\n",
    "поиска модулей — в настоящее время после PYTHONPATH и каталогов стандартной библиотеки, но перед каталогом site-packages, куда часто устанавливаются сторонние расширения. На самом деле Python соберет имена каталогов из\n",
    "всех файлов . pth, которые он найдет, и отфильтрует любые дублированные и\n",
    "несуществующие каталоги. Поскольку они являются файлами, а не настройками\n",
    "оболочки, файлы конфигурации путей могут применяться ко всем пользователям установленной копии, а не только к одному пользователю или оболочке.\n",
    "Кроме того, для некоторых пользователей и приложений текстовые файлы могут оказаться проще в записи, чем настройки среды.\n",
    "Данная возможность сложнее, чем здесь описано. За дополнительными деталями обращайтесь в руководство по библиотеке Python, в особенности к документации по стандартному библиотечному модулю site — этот модуль позволяет настраивать местоположения библиотек Python и файлов конфигурации путей, и\n",
    "в его документации описаны ожидаемые местоположения файлов . pth в целом.\n",
    "\n",
    "Я рекомендую новичкам использовать переменную PYTHONPATH или может быть\n",
    "одиночный файл .pth, и только в случае, если приходится импортировать между каталогами. Файлы конфигурации путей более часто применяются сторонними библиотеками, которые обычно устанавливают файл . pth в подкаталоге\n",
    "site-packages библиотеки Python, который рассматривается следующим.\n"
   ]
  },
  {
   "cell_type": "markdown",
   "id": "6203c101",
   "metadata": {
    "hidden": true
   },
   "source": [
    "**Каталог Lib\\site-packages сторонних расширений (устанавливается автоматически)**\n",
    "\n",
    "Наконец, Python автоматически добавляет в путь поиска модулей подкаталог\n",
    "site-packages своей стандартной библиотеки. По соглашению он представляет собой место, в которое устанавливается большинство сторонних расширений, часто автоматически посредством служебных инструментов distutils,\n",
    "описанных во врезке “Стороннее программное обеспечение: distutils” далее\n",
    "в главе. Из-за того, что их каталоги установки всегда являются частью пути поиска модулей, клиенты могут импортировать модули таких расширений безо\n",
    "всяких настроек путей."
   ]
  },
  {
   "cell_type": "markdown",
   "id": "7c156eea",
   "metadata": {
    "hidden": true
   },
   "source": [
    "**Источники модулей**\n",
    "\n",
    "В настоящее время оператор import вида import b способен загрузить или распознать:\n",
    "\n",
    "• файл исходного кода по имени ``b.ру``;\n",
    "\n",
    "• файл байт-кода по имени ``b.рус``;\n",
    "\n",
    "• файл оптимизированного байт-кода по имени ``Ь.руо`` (менее распространенный\n",
    "формат), (они в среднем запускаются лишь на 5% быстрее);\n",
    "\n",
    "• каталог по имени ``b`` для операций импортирования пакетов (рассматриваются в\n",
    "главе 24);\n",
    "\n",
    "• скомпилированный модуль расширения, написанный на С, C++ или другом языке и динамически связываемый при импортировании (например, ``b.so`` в Linux\n",
    "либо ``b.dll`` или ``b. pyd`` в Cygwin и Windows);\n",
    "\n",
    "• скомпилированный встроенный модуль, написанный на С и статически связанный с Python;\n",
    "\n",
    "• компонент в файле ZIP, который автоматически извлекается при импортировании;\n",
    "\n",
    "• образ в памяти для фиксированных исполняемых файлов;\n",
    "\n",
    "• класс Java в версии Jython языка Python;\n",
    "\n",
    "• компонент .NET в версии IronPython языка Python"
   ]
  },
  {
   "cell_type": "code",
   "execution_count": 1,
   "id": "68d32710",
   "metadata": {
    "hidden": true
   },
   "outputs": [
    {
     "data": {
      "text/plain": [
       "['C:\\\\Users\\\\79618\\\\Documents\\\\GitHub\\\\chereshan_notes\\\\notebooks',\n",
       " 'C:\\\\Users\\\\79618\\\\AppData\\\\Local\\\\Programs\\\\Python\\\\Python310\\\\python310.zip',\n",
       " 'C:\\\\Users\\\\79618\\\\AppData\\\\Local\\\\Programs\\\\Python\\\\Python310\\\\DLLs',\n",
       " 'C:\\\\Users\\\\79618\\\\AppData\\\\Local\\\\Programs\\\\Python\\\\Python310\\\\lib',\n",
       " 'C:\\\\Users\\\\79618\\\\AppData\\\\Local\\\\Programs\\\\Python\\\\Python310',\n",
       " '',\n",
       " 'C:\\\\Users\\\\79618\\\\AppData\\\\Local\\\\Programs\\\\Python\\\\Python310\\\\lib\\\\site-packages',\n",
       " 'C:\\\\Users\\\\79618\\\\AppData\\\\Local\\\\Programs\\\\Python\\\\Python310\\\\lib\\\\site-packages\\\\win32',\n",
       " 'C:\\\\Users\\\\79618\\\\AppData\\\\Local\\\\Programs\\\\Python\\\\Python310\\\\lib\\\\site-packages\\\\win32\\\\lib',\n",
       " 'C:\\\\Users\\\\79618\\\\AppData\\\\Local\\\\Programs\\\\Python\\\\Python310\\\\lib\\\\site-packages\\\\Pythonwin']"
      ]
     },
     "execution_count": 1,
     "metadata": {},
     "output_type": "execute_result"
    }
   ],
   "source": [
    "import sys\n",
    "sys.path"
   ]
  },
  {
   "cell_type": "markdown",
   "id": "d066fe4a",
   "metadata": {
    "hidden": true
   },
   "source": [
    "### Компиляция файла модуля (возможная)"
   ]
  },
  {
   "cell_type": "markdown",
   "id": "0a8a4086",
   "metadata": {
    "hidden": true
   },
   "source": [
    "Во время операции импортирования Python проверяет\n",
    "время модификации файлов исходного кода и байт-кода, а также номер версии Python\n",
    "байт-кода, чтобы решить, как поступать. В первом случае используются “отметки времени” файлов, а во втором в зависимости от выпуска Python применяется либо “магическое” число, встроенное в байт-код, либо имя файла. Действие выбирается следующим образом."
   ]
  },
  {
   "cell_type": "markdown",
   "id": "05e96c24",
   "metadata": {
    "hidden": true
   },
   "source": [
    "1. **Компилировать**\n",
    "\n",
    "Если файл байт-кода старше файла исходного кода (т.е. исходный код был модифицирован) или был создан другой версией ``Python``, тогда ``Python`` автоматически\n",
    "заново генерирует байт-код при запуске программы.\n",
    "Как будет обсуждаться далее, в ``Python 3.2`` и последующих версиях данная модель несколько изменилась — файлы байт-кода вынесены в отдельный подкаталог ``__ pycache__`` и содержат в своих именах версию Python во избежание конфликтов и перекомпиляции, когда в системе установлено множество версий\n",
    "Python. В результате устраняется необходимость в проверке номеров версий в\n",
    "байт-коде, но проверка отметок времени по-прежнему используется для обнаружения изменений в исходном коде."
   ]
  },
  {
   "cell_type": "markdown",
   "id": "f262f843",
   "metadata": {
    "hidden": true
   },
   "source": [
    "2. **НЕ компилировать**\n",
    "\n",
    "С другой стороны, если Python обнаруживает файл байт-кода ``.рус``, который\n",
    "не старше соответствующего файла исходного кода . ру и создан той же версией\n",
    "``Python``, тогда он пропускает шаг компиляции исходного кода в байт-код.\n",
    "Вдобавок, когда ``Python`` находит в пути поиска модулей только файл байт-кода,\n",
    "но не файл исходного кода, он просто напрямую загружает байт-код; таким образом, вы можете поставлять программу в виде только файлов байт-кода, не отправляя файлы исходного кода. Другими словами, шаг компиляции пропускается, если возможно ускорение начального запуска программы."
   ]
  },
  {
   "cell_type": "markdown",
   "id": "a1422217",
   "metadata": {
    "hidden": true
   },
   "source": [
    "### Выполнение файла модуля"
   ]
  },
  {
   "cell_type": "markdown",
   "id": "772921cd",
   "metadata": {
    "hidden": true
   },
   "source": [
    "На финальном шаге операции импортирования выполняется байт-код модуля. Все\n",
    "операции в файле выполняются по очереди, от начала до конца, и любые присваивания именам на данном шаге генерируют атрибуты результирующего объекта модуля.\n",
    "Так создаются инструменты, определяемые кодом модуля. Скажем, операторы ``def`` в\n",
    "файле запускаются на стадии импортирования для создания объектов функций и их\n",
    "присваивания атрибутам внутри объекта модуля. Функции затем вызываются в файлах, импортирующих файл модуля"
   ]
  },
  {
   "cell_type": "markdown",
   "id": "6224d754",
   "metadata": {
    "hidden": true
   },
   "source": [
    "Из-за того, что последний шаг импортирования фактически выполняет код файла,\n",
    "если любой код верхнего уровня в файле модуля делает реальную работу, то ее результаты будут видны во время импортирования. Например, операторы print верхнего\n",
    "уровня в модуле отображают вывод при импортировании файла. Операторы def для\n",
    "функций просто определяют объекты для использования в будущем."
   ]
  },
  {
   "cell_type": "markdown",
   "id": "9057a2dc",
   "metadata": {
    "hidden": true
   },
   "source": [
    "Как видите, операции импортирования включают в себя довольно много работы — они ищут файлы, возможно, запускают компилятор и выполняют код Python. По\n",
    "этой причине любой заданный модуль импортируется по умолчанию только один раз\n",
    "на процесс. Будущие операции импортирования пропускают все три шага и повторно\n",
    "используют уже загруженный модуль в памяти. Если файл нужно импортировать снова после того, как он был загружен (скажем, для поддержки динамических настроек\n",
    "со стороны конечного пользователя), тогда придется применить вызов ``imp.reload`` —\n",
    "инструмент, с которым мы встретимся в следующей главе"
   ]
  },
  {
   "cell_type": "markdown",
   "id": "47efd547",
   "metadata": {
    "heading_collapsed": true
   },
   "source": [
    "# Основы написания модулей"
   ]
  },
  {
   "cell_type": "markdown",
   "id": "485a64cc",
   "metadata": {
    "hidden": true
   },
   "source": [
    "Все имена, присвоенные на верхнем\n",
    "уровне модуля, становятся его саприбутами (именами, ассоциированными с объектом\n",
    "модуля) и экспортируются для применения клиентами — переменные автоматически\n",
    "превращаются в атрибуты объекта модуля."
   ]
  },
  {
   "cell_type": "markdown",
   "id": "e61ffe22",
   "metadata": {
    "hidden": true
   },
   "source": [
    "Называть модули практически как угодно, но имена файлов модулей\n",
    "должны заканчиваться суффиксом ``.ру``, если планируется их импортировать."
   ]
  },
  {
   "cell_type": "markdown",
   "id": "53c2cb3b",
   "metadata": {
    "hidden": true
   },
   "source": [
    "Клиенты могут задействовать только что написанный простой файл модуля за счет\n",
    "выполнения оператора ``import`` или ``from``.\n",
    "\n",
    "Оба оператора ищут, компилируют и запускают код файла модуля, если он еще не был загружен. \n",
    "\n",
    "Главное отличие между ними в\n",
    "том, что:\n",
    "\n",
    "* ``import`` извлекает модуль как единое целое, поэтому для извлечения имен модуля они должны уточняться именем самого модуля;\n",
    "* в противоположность ему ``from``\n",
    "извлекает (или копирует) специфические имена из модуля."
   ]
  },
  {
   "cell_type": "markdown",
   "id": "e0ccb000",
   "metadata": {
    "heading_collapsed": true,
    "hidden": true
   },
   "source": [
    "### **``import``**"
   ]
  },
  {
   "cell_type": "markdown",
   "id": "7051e4e9",
   "metadata": {
    "hidden": true
   },
   "source": [
    "**ВАЖНО:**\n",
    "* **оператор ``import`` присваивает одиночному имени объект целого модуля;**\n",
    "* **оператор ``from`` присваивает одному или нескольким именам объекты с такими же именами из другого модуля.**"
   ]
  },
  {
   "cell_type": "code",
   "execution_count": null,
   "id": "5ef9f94d",
   "metadata": {
    "hidden": true
   },
   "outputs": [],
   "source": [
    "import module # Получить модуль как единое целое (один или больше)\n",
    "modulel.printer('Hello world! ') # Уточнить, чтобы получить имена"
   ]
  },
  {
   "cell_type": "markdown",
   "id": "717851a3",
   "metadata": {
    "heading_collapsed": true,
    "hidden": true
   },
   "source": [
    "### **``from``**"
   ]
  },
  {
   "cell_type": "markdown",
   "id": "60abd0f3",
   "metadata": {
    "hidden": true
   },
   "source": [
    "В операторе import просто указывается одно или несколько имен модулей для загрузки, разделенные запятыми. Так как оператор ``import`` дает имя, которое ссылается\n",
    "на полный объект модуля, мы обязаны задавать имя модуля, чтобы извлечь его атрибуты\n",
    "(например, ``module.printer``).\n"
   ]
  },
  {
   "cell_type": "code",
   "execution_count": null,
   "id": "85278145",
   "metadata": {
    "hidden": true
   },
   "outputs": [],
   "source": [
    "from modulel import printer # Копировать переменную (одну или более)\n",
    "printer('Hello world!') # Уточнение не требуется\n",
    "Hello world!"
   ]
  },
  {
   "cell_type": "markdown",
   "id": "ffd5716f",
   "metadata": {
    "hidden": true
   },
   "source": [
    "из-за того, что импортированное имя копируется в область видимости, где находится ``from``, использование этого имени в сценарии сопряжено с меньшим\n",
    "объемом набора — мы можем работать с именем напрямую, не задавая включающий\n",
    "модуль. В действительности мы обязаны поступать так; ``from`` не создает переменную с\n",
    "именем самого модуля."
   ]
  },
  {
   "cell_type": "markdown",
   "id": "5e85e810",
   "metadata": {
    "heading_collapsed": true,
    "hidden": true
   },
   "source": [
    "### ``from _ import *``"
   ]
  },
  {
   "cell_type": "markdown",
   "id": "2e8d792e",
   "metadata": {
    "hidden": true
   },
   "source": [
    "Наконец, в следующем примере применяется особая форма оператора ``from``: когда\n",
    "вместо специфических имен используется ``*``, мы получаем копии всех имен, присвоенных на верхнем уровне указанного модуля. Затем мы снова можем задействовать в своем сценарии скопированное имя ``printer``, не уточняя его именем модуля:"
   ]
  },
  {
   "cell_type": "code",
   "execution_count": null,
   "id": "2b4a2ec9",
   "metadata": {
    "hidden": true
   },
   "outputs": [],
   "source": [
    "from modulel import * # Копировать все переменные\n",
    "printer ('Hello world?')\n",
    "Hello world!\n"
   ]
  },
  {
   "cell_type": "markdown",
   "id": "2fd87568",
   "metadata": {
    "hidden": true
   },
   "source": [
    "Модули загружаются и запускаются при выполнении первого оператора import\n",
    "или from и только первого"
   ]
  },
  {
   "cell_type": "markdown",
   "id": "6c39a036",
   "metadata": {
    "hidden": true
   },
   "source": [
    "присваивание х в интерактивном сеансе\n",
    "изменяет только имя х в этой области видимости, но не х в файле. \n",
    "Другими словами, не существует\n",
    "какой-либо связи между именем, скопированным с помощью ``from``, и файлом, откуда\n",
    "оно поступило. Чтобы действительно изменить глобальное имя в другом файле, потребуется использовать оператор ``import``:"
   ]
  },
  {
   "cell_type": "code",
   "execution_count": null,
   "id": "147a621f",
   "metadata": {
    "hidden": true
   },
   "outputs": [],
   "source": [
    "from small import x, у # Скопировать два имени\n",
    "х = 42 # Изменяет только локальное имя х\n",
    "import small # Получить имя модуля\n",
    "small.х =42 # Изменяет х в другом модуле"
   ]
  },
  {
   "cell_type": "markdown",
   "id": "be4f9434",
   "metadata": {
    "hidden": true
   },
   "source": [
    "!!!!\n",
    "Предпочтение оператору ``import`` перед ``from`` касается случая, где необходимо использовать одно и то же имя, определенное\n",
    "в двух разных модулях"
   ]
  },
  {
   "cell_type": "code",
   "execution_count": null,
   "id": "ccfabe64",
   "metadata": {
    "hidden": true
   },
   "outputs": [],
   "source": [
    "# М.ру\n",
    "def func():\n",
    "...делать что-то...\n",
    "\n",
    "# N.ру\n",
    "def func():\n",
    ". . .делать что-то другое. .."
   ]
  },
  {
   "cell_type": "code",
   "execution_count": null,
   "id": "9fd71e7a",
   "metadata": {
    "hidden": true
   },
   "outputs": [],
   "source": [
    "# О.ру\n",
    "from М import func\n",
    "from N import func # Переписывает имя func, извлеченное из М\n",
    "func () # Вызывает только N.func!"
   ]
  },
  {
   "cell_type": "code",
   "execution_count": null,
   "id": "dc6688aa",
   "metadata": {
    "hidden": true
   },
   "outputs": [],
   "source": [
    "# О.ру\n",
    "import И, N\n",
    "M. func()\n",
    "N. func()\n",
    "# Получить модули целиком, не только их имена\n",
    "# Теперь мы можем обращаться к обоим именам\n",
    "# Указание имен модулей обеспечивает уникальность"
   ]
  },
  {
   "cell_type": "markdown",
   "id": "6b1de145",
   "metadata": {
    "hidden": true
   },
   "source": [
    "Заметим, что оператор ``from`` делает местоположение переменной менее явным и понятным. Но в реалистичных программах часто удобно не набирать имя модуля всякий раз, когда необходимо использовать один из его инструментов. \n",
    "\n",
    "Но ``from`` имеет потенциал к искажению пространства имен, особенно если он используется для импортирования переменных, у которых такие же имена, как и у переменных, существующих в области видимости программы. "
   ]
  },
  {
   "cell_type": "markdown",
   "id": "2fb859a2",
   "metadata": {
    "hidden": true
   },
   "source": [
    "Совет: отдавать предпочтение оператору ``import`` перед оператором ``from``"
   ]
  },
  {
   "cell_type": "markdown",
   "id": "01eed058",
   "metadata": {
    "heading_collapsed": true,
    "hidden": true
   },
   "source": [
    "### ``as`` - алиас"
   ]
  },
  {
   "cell_type": "code",
   "execution_count": null,
   "id": "327e2069",
   "metadata": {
    "hidden": true
   },
   "outputs": [],
   "source": [
    "# О.ру\n",
    "from М import func as mfunc # Переименование с помощью as\n",
    "from N import func as nfunc\n",
    "mfunc(); nfunc() "
   ]
  },
  {
   "cell_type": "markdown",
   "id": "e14d7a1a",
   "metadata": {
    "hidden": true
   },
   "source": [
    "## Пространства имен модулей"
   ]
  },
  {
   "cell_type": "markdown",
   "id": "ba573231",
   "metadata": {
    "hidden": true
   },
   "source": [
    "**Важно заметить, что расширения - это модули написанные на других языках. Не стоит путать их с обычные модули.**"
   ]
  },
  {
   "cell_type": "markdown",
   "id": "dfa9eda4",
   "metadata": {
    "hidden": true
   },
   "source": [
    "Модули вероятно лучше всего воспринимать как пакеты имен, т.е. места для определения имен, которые желательно сделать видимыми остальной части системы"
   ]
  },
  {
   "cell_type": "markdown",
   "id": "723bc37b",
   "metadata": {
    "hidden": true
   },
   "source": [
    "говоря упрощенно, модули являются всего лишь пространствами имен (местами, где создаются имена), а существующие в модуле имена называются его атрибутами. "
   ]
  },
  {
   "cell_type": "markdown",
   "id": "49cbeac6",
   "metadata": {
    "hidden": true
   },
   "source": [
    "Ранее упоминалось, что файлы превращаются в пространства имен, но как это на\n",
    "самом деле происходит? Короткий ответ: каждое имя, которому присваивается значение на верхнем уровне файла модуля (т.е. не внутри тела функции или класса), становится атрибутом данного модуля."
   ]
  },
  {
   "cell_type": "markdown",
   "id": "15a5aa01",
   "metadata": {
    "hidden": true
   },
   "source": [
    "• Операторы модуля выполняются при его первом импортировании. Когда модуль впервые импортируется в любом месте системы, Python создает пустой объект модуля и выполняет операторы из файла модуля друг за другом от начала до конца файла.\n",
    "\n",
    "• Присваивания на верхнем уровне модуля создают его атрибуты. Во время выполнения операции импортирования не вложенные в def или class операторы на верхнем уровне файла, которые присваивают значения именам (например, ``=``, ``def``), создают атрибуты объекта модуля; присвоенные имена сохраняются в пространстве имен модуля.\n",
    "\n",
    "• Доступ к пространству имен модуля можно получить через атрибут ``__dict__``\n",
    "или посредством ``dir(module)``. Пространства имен модулей, созданные операциями\n",
    "импортирования, представляют собой словари; к ним можно обращаться через\n",
    "встроенный атрибут ``__dict__``, ассоциированный с объектами модулей, и инспектировать с помощью функции ``dir``. Функция ``dir`` является приблизительным\n",
    "эквивалентом отсортированного списка ключей атрибута ``__dict__`` объекта модуля, но содержит унаследованные имена для классов, может возвращать неполный список, а также предрасположена к изменениям от выпуска к выпуску.\n",
    "\n",
    "• Модуль представляет собой одиночную область видимости (локальная является\n",
    "глобальной). Имена на верхнем уровне модуля следуют таким же правилам ссылки/присваивания, как имена в функции, но локальная и глобальная области видимости совпадают. Выражаясь более формально,\n",
    "они следуют правилу поиска в областях видимости LEGB, с которым мы встречались в главе 17, но без уровней просмотра L и Е.\n",
    "Тем не менее, важно понимать, что после того, как модуль был загружен, глобальная область видимости модуля становится словарем атрибутов объекта модуля. В отличие от области видимости функции, где локальное пространство имен\n",
    "существует только во время выполнения функции, область видимости файла модуля становится пространством имен атрибутов объекта модуля и продолжает\n",
    "существовать после окончания операции импортирования, предоставляя источник инструментов импортерам."
   ]
  },
  {
   "cell_type": "code",
   "execution_count": 4,
   "id": "67f1cf6c",
   "metadata": {
    "hidden": true
   },
   "outputs": [
    {
     "name": "stdout",
     "output_type": "stream",
     "text": [
      "starting to load.. . \n",
      "done loading.\n"
     ]
    }
   ],
   "source": [
    "print('starting to load.. . ') # начало загрузки...\n",
    "import sys\n",
    "name = 42\n",
    "def func(): pass\n",
    "class klass: pass\n",
    "print('done loading.') # загрузка окончена."
   ]
  },
  {
   "cell_type": "markdown",
   "id": "6de43439",
   "metadata": {
    "hidden": true
   },
   "source": [
    "Когда этот модуль импортируется (или запускается как программа) в первый раз,\n",
    "Python выполняет его операторы от начала до конца. Одни операторы в качестве подобного эффекта создают имена в пространстве имен модуля, но другие делают фактическую работу, пока длится операция импортирования."
   ]
  },
  {
   "cell_type": "markdown",
   "id": "677c040e",
   "metadata": {
    "hidden": true
   },
   "source": [
    "После того, как модуль загружен, его область видимости становится пространством имен атрибутов в объекте модуля, который мы получаем из оператора ``import``.\n"
   ]
  },
  {
   "cell_type": "markdown",
   "id": "9f1ab21f",
   "metadata": {
    "hidden": true
   },
   "source": [
    "* ``modul.__dict__`` - **словарь внутреннего пространства имен модуля**"
   ]
  },
  {
   "cell_type": "code",
   "execution_count": null,
   "id": "9ef3a946",
   "metadata": {
    "hidden": true
   },
   "outputs": [],
   "source": [
    "import numpy\n",
    "numpy.__dict__\n"
   ]
  },
  {
   "cell_type": "code",
   "execution_count": 6,
   "id": "44812588",
   "metadata": {
    "hidden": true,
    "scrolled": true
   },
   "outputs": [
    {
     "data": {
      "text/plain": [
       "dict_keys(['__name__', '__doc__', '__package__', '__loader__', '__spec__', '__path__', '__file__', '__cached__', '__builtins__', 'sys', 'warnings', '_globals', 'ModuleDeprecationWarning', 'VisibleDeprecationWarning', '_NoValue', '_CopyMode', '__NUMPY_SETUP__', '__config__', 'show_config', '__all__', '__deprecated_attrs__', '_distributor_init', '_version', 'version', 'compat', '_pytesttester', 'core', 'char', 'rec', 'memmap', 'newaxis', 'ndarray', 'flatiter', 'nditer', 'nested_iters', 'ufunc', 'arange', 'array', 'asarray', 'asanyarray', 'ascontiguousarray', 'asfortranarray', 'zeros', 'count_nonzero', 'empty', 'broadcast', 'dtype', 'fromstring', 'fromfile', 'frombuffer', 'from_dlpack', 'where', 'argwhere', 'copyto', 'concatenate', 'fastCopyAndTranspose', 'lexsort', 'set_numeric_ops', 'can_cast', 'promote_types', 'min_scalar_type', 'result_type', 'isfortran', 'empty_like', 'zeros_like', 'ones_like', 'correlate', 'convolve', 'inner', 'dot', 'outer', 'vdot', 'roll', 'rollaxis', 'moveaxis', 'cross', 'tensordot', 'little_endian', 'fromiter', 'array_equal', 'array_equiv', 'indices', 'fromfunction', 'isclose', 'isscalar', 'binary_repr', 'base_repr', 'ones', 'identity', 'allclose', 'compare_chararrays', 'putmask', 'flatnonzero', 'Inf', 'inf', 'infty', 'Infinity', 'nan', 'NaN', 'False_', 'True_', 'bitwise_not', 'CLIP', 'RAISE', 'WRAP', 'MAXDIMS', 'BUFSIZE', 'ALLOW_THREADS', 'ComplexWarning', 'full', 'full_like', 'matmul', 'shares_memory', 'may_share_memory', 'MAY_SHARE_BOUNDS', 'MAY_SHARE_EXACT', 'TooHardError', 'AxisError', 'all', 'alltrue', 'amax', 'amin', 'any', 'argmax', 'argmin', 'argpartition', 'argsort', 'around', 'choose', 'clip', 'compress', 'cumprod', 'cumproduct', 'cumsum', 'diagonal', 'mean', 'ndim', 'nonzero', 'partition', 'prod', 'product', 'ptp', 'put', 'ravel', 'repeat', 'reshape', 'resize', 'round_', 'searchsorted', 'shape', 'size', 'sometrue', 'sort', 'squeeze', 'std', 'sum', 'swapaxes', 'take', 'trace', 'transpose', 'var', '_UFUNC_API', 'ERR_CALL', 'ERR_DEFAULT', 'ERR_IGNORE', 'ERR_LOG', 'ERR_PRINT', 'ERR_RAISE', 'ERR_WARN', 'FLOATING_POINT_SUPPORT', 'FPE_DIVIDEBYZERO', 'FPE_INVALID', 'FPE_OVERFLOW', 'FPE_UNDERFLOW', 'NAN', 'NINF', 'NZERO', 'PINF', 'PZERO', 'SHIFT_DIVIDEBYZERO', 'SHIFT_INVALID', 'SHIFT_OVERFLOW', 'SHIFT_UNDERFLOW', 'UFUNC_BUFSIZE_DEFAULT', 'UFUNC_PYVALS_NAME', '_add_newdoc_ufunc', 'absolute', 'add', 'arccos', 'arccosh', 'arcsin', 'arcsinh', 'arctan', 'arctan2', 'arctanh', 'bitwise_and', 'bitwise_or', 'bitwise_xor', 'cbrt', 'ceil', 'conj', 'conjugate', 'copysign', 'cos', 'cosh', 'deg2rad', 'degrees', 'divide', 'divmod', 'e', 'equal', 'euler_gamma', 'exp', 'exp2', 'expm1', 'fabs', 'floor', 'floor_divide', 'float_power', 'fmax', 'fmin', 'fmod', 'frexp', 'frompyfunc', 'gcd', 'geterrobj', 'greater', 'greater_equal', 'heaviside', 'hypot', 'invert', 'isfinite', 'isinf', 'isnan', 'isnat', 'lcm', 'ldexp', 'left_shift', 'less', 'less_equal', 'log', 'log10', 'log1p', 'log2', 'logaddexp', 'logaddexp2', 'logical_and', 'logical_not', 'logical_or', 'logical_xor', 'maximum', 'minimum', 'mod', 'modf', 'multiply', 'negative', 'nextafter', 'not_equal', 'pi', 'positive', 'power', 'rad2deg', 'radians', 'reciprocal', 'remainder', 'right_shift', 'rint', 'seterrobj', 'sign', 'signbit', 'sin', 'sinh', 'spacing', 'sqrt', 'square', 'subtract', 'tan', 'tanh', 'true_divide', 'trunc', 'sctypeDict', 'sctypes', 'ScalarType', 'obj2sctype', 'cast', 'nbytes', 'sctype2char', 'maximum_sctype', 'issctype', 'typecodes', 'find_common_type', 'issubdtype', 'datetime_data', 'datetime_as_string', 'busday_offset', 'busday_count', 'is_busday', 'busdaycalendar', 'byte', 'ubyte', 'short', 'ushort', 'uint', 'intp', 'uintp', 'longlong', 'ulonglong', 'half', 'double', 'longdouble', 'cfloat', 'cdouble', 'clongdouble', 'void', 'generic', 'number', 'integer', 'inexact', 'signedinteger', 'unsignedinteger', 'floating', 'complexfloating', 'flexible', 'character', 'bool8', 'int64', 'uint64', 'float16', 'float32', 'float64', 'complex64', 'complex128', 'object0', 'bytes0', 'str0', 'void0', 'datetime64', 'timedelta64', 'int32', 'uint32', 'int16', 'uint16', 'int8', 'uint8', 'complex_', 'int0', 'uint0', 'single', 'csingle', 'singlecomplex', 'float_', 'intc', 'uintc', 'int_', 'longfloat', 'clongfloat', 'longcomplex', 'bool_', 'bytes_', 'string_', 'str_', 'unicode_', 'object_', 'array2string', 'array_str', 'array_repr', 'set_string_function', 'set_printoptions', 'get_printoptions', 'printoptions', 'format_float_positional', 'format_float_scientific', 'require', 'seterr', 'geterr', 'setbufsize', 'getbufsize', 'seterrcall', 'geterrcall', 'errstate', 'record', 'recarray', 'format_parser', 'chararray', 'logspace', 'linspace', 'geomspace', 'finfo', 'iinfo', 'atleast_1d', 'atleast_2d', 'atleast_3d', 'block', 'hstack', 'stack', 'vstack', 'einsum', 'einsum_path', 'linalg', 'matrixlib', 'lib', 'emath', 'math', 'tracemalloc_domain', 'iscomplexobj', 'isrealobj', 'imag', 'iscomplex', 'isreal', 'nan_to_num', 'real', 'real_if_close', 'typename', 'asfarray', 'mintypecode', 'common_type', 'ravel_multi_index', 'unravel_index', 'mgrid', 'ogrid', 'r_', 'c_', 's_', 'index_exp', 'ix_', 'ndenumerate', 'ndindex', 'fill_diagonal', 'diag_indices', 'diag_indices_from', 'select', 'piecewise', 'trim_zeros', 'copy', 'iterable', 'percentile', 'diff', 'gradient', 'angle', 'unwrap', 'sort_complex', 'disp', 'flip', 'rot90', 'extract', 'place', 'vectorize', 'asarray_chkfinite', 'average', 'bincount', 'digitize', 'cov', 'corrcoef', 'msort', 'median', 'sinc', 'hamming', 'hanning', 'bartlett', 'blackman', 'kaiser', 'trapz', 'i0', 'add_newdoc', 'add_docstring', 'meshgrid', 'delete', 'insert', 'append', 'interp', 'add_newdoc_ufunc', 'quantile', 'column_stack', 'row_stack', 'dstack', 'array_split', 'split', 'hsplit', 'vsplit', 'dsplit', 'apply_over_axes', 'expand_dims', 'apply_along_axis', 'kron', 'tile', 'get_array_wrap', 'take_along_axis', 'put_along_axis', 'broadcast_to', 'broadcast_arrays', 'broadcast_shapes', 'diag', 'diagflat', 'eye', 'fliplr', 'flipud', 'tri', 'triu', 'tril', 'vander', 'histogram2d', 'mask_indices', 'tril_indices', 'tril_indices_from', 'triu_indices', 'triu_indices_from', 'fix', 'isneginf', 'isposinf', 'pad', 'poly', 'roots', 'polyint', 'polyder', 'polyadd', 'polysub', 'polymul', 'polydiv', 'polyval', 'poly1d', 'polyfit', 'RankWarning', 'issubclass_', 'issubsctype', 'deprecate', 'deprecate_with_doc', 'get_include', 'info', 'source', 'who', 'lookfor', 'byte_bounds', 'safe_eval', 'ediff1d', 'intersect1d', 'setxor1d', 'union1d', 'setdiff1d', 'unique', 'in1d', 'isin', 'savetxt', 'loadtxt', 'genfromtxt', 'recfromtxt', 'recfromcsv', 'load', 'save', 'savez', 'savez_compressed', 'packbits', 'unpackbits', 'fromregex', 'DataSource', 'nansum', 'nanmax', 'nanmin', 'nanargmax', 'nanargmin', 'nanmean', 'nanmedian', 'nanpercentile', 'nanvar', 'nanstd', 'nanprod', 'nancumsum', 'nancumprod', 'nanquantile', 'histogram', 'histogramdd', 'histogram_bin_edges', 'fft', 'polynomial', 'random', 'ctypeslib', 'ma', '_mat', 'matrix', 'bmat', 'mat', 'asmatrix', 'round', 'abs', 'max', 'min', '_financial_names', '__expired_functions__', 'oldnumeric', 'numarray', '__getattr__', '__dir__', 'test', 'os', 'use_hugepage', '_pyinstaller_hooks_dir', '__version__', '__git_version__'])"
      ]
     },
     "execution_count": 6,
     "metadata": {},
     "output_type": "execute_result"
    }
   ],
   "source": [
    "numpy.__dict__.keys()"
   ]
  },
  {
   "cell_type": "markdown",
   "id": "d4a06421",
   "metadata": {
    "hidden": true
   },
   "source": [
    "``module.__file__`` - дает имя файла, из которого загружался\n",
    "модуль"
   ]
  },
  {
   "cell_type": "code",
   "execution_count": 2,
   "id": "26c44358",
   "metadata": {
    "hidden": true,
    "scrolled": true
   },
   "outputs": [
    {
     "data": {
      "text/plain": [
       "'C:\\\\Users\\\\79618\\\\AppData\\\\Local\\\\Programs\\\\Python\\\\Python310\\\\lib\\\\site-packages\\\\numpy\\\\__init__.py'"
      ]
     },
     "execution_count": 2,
     "metadata": {},
     "output_type": "execute_result"
    }
   ],
   "source": [
    "numpy.__file__"
   ]
  },
  {
   "cell_type": "markdown",
   "id": "603cf029",
   "metadata": {
    "hidden": true
   },
   "source": [
    "``module.__name__`` - имя модуля, как оно известно импортерам (без расширения . ру и пути к каталогу)"
   ]
  },
  {
   "cell_type": "code",
   "execution_count": 3,
   "id": "04a4d3ce",
   "metadata": {
    "hidden": true
   },
   "outputs": [
    {
     "data": {
      "text/plain": [
       "'numpy'"
      ]
     },
     "execution_count": 3,
     "metadata": {},
     "output_type": "execute_result"
    }
   ],
   "source": [
    "numpy.__name__"
   ]
  },
  {
   "cell_type": "markdown",
   "id": "2e105cb9",
   "metadata": {
    "hidden": true
   },
   "source": [
    "Другими словами, операции импортирования никогда не обеспечивают восходящую видимость коду в импортируемых файлах — импортируемый файл не может видеть имена из файла, в котором он импортируется. Более формально:\n",
    "* функции не могут видеть имена в других функциях, если только они физически\n",
    "не вкладываются в них;\n",
    "* код модуля не может видеть имена в других модулях, если только он явно не\n",
    "импортирует их. "
   ]
  },
  {
   "cell_type": "markdown",
   "id": "18f5c4cf",
   "metadata": {
    "hidden": true
   },
   "source": [
    "## Уточнение имен атрибутов ``объект.атрибут``"
   ]
  },
  {
   "cell_type": "markdown",
   "id": "3cb68676",
   "metadata": {
    "hidden": true
   },
   "source": [
    "В Python доступ к\n",
    "атрибутам любого объекта, имеющего атрибуты, производится с применением синтаксиса уточнения объект. атрибут (также известного как извлечение атрибутов)."
   ]
  },
  {
   "cell_type": "markdown",
   "id": "c495ac27",
   "metadata": {
    "hidden": true
   },
   "source": [
    "**Уточнение** на самом деле представляет собой выражение, возвращающее значение,\n",
    "которое было присвоено имени атрибута, ассоциированного с объектом"
   ]
  },
  {
   "cell_type": "markdown",
   "id": "e25ad5eb",
   "metadata": {
    "hidden": true
   },
   "source": [
    "Важно помнить о том, что уточнение атрибутов не имеет ничего общего с правилахми поиска в областях видимости, рассмотренными в главе 17; оно является независимой концепцией. Когда уточнение используется для доступа к именам, Python дается\n",
    "явный объект, из которого необходимо извлечь указанные имена. Правило поиска в\n",
    "областях видимости LEGB применяется только к неуточненным именам — его можно\n",
    "использовать для крайнего слева имени в пути, но имена, находящиеся дальше после\n",
    "точек, взамен ищут специфические объекты. Ниже описаны принятые правил: \n",
    "\n",
    "* **Простые переменные**: X означает поиск имени X в текущих областях видимости\n",
    "* **Уточнение**: X. Y означает поиск X в текущих областях видимости, затем поиск атрибута Y в\n",
    "объекте X\n",
    "* **Пути уточнения**: X. Y. Z означает поиск имени Y в объекте X, затем поиск Z в объекте X. Y.\n",
    "\n",
    "* **Всеобщность**: Уточнение работает для всех объектов с атрибутами: модулей, классов, типов расширений С и т.д.\n"
   ]
  },
  {
   "cell_type": "markdown",
   "id": "60188be0",
   "metadata": {
    "hidden": true
   },
   "source": [
    "импортируемый файл не может видеть имена из файла, в котором он импортируется. Более формально:\n",
    "\n",
    "• функции не могут видеть имена в других функциях, если только они физически\n",
    "не вкладываются в них;\n",
    "\n",
    "• код модуля не может видеть имена в других модулях, если только он явно не\n",
    "импортирует их.\n"
   ]
  },
  {
   "cell_type": "markdown",
   "id": "28cf7dfa",
   "metadata": {
    "hidden": true
   },
   "source": [
    "## Перезагрузка модулей"
   ]
  },
  {
   "cell_type": "markdown",
   "id": "7f876d93",
   "metadata": {
    "hidden": true
   },
   "source": [
    "**ВАЖНО:** Операции импортирования проихсодят однократно. \n",
    "Вторая операция импорта не выполнются повторно, а всего лишь извлекают уже созданный объект модуля из внутренней таблицы модулей. "
   ]
  },
  {
   "cell_type": "markdown",
   "id": "abf00227",
   "metadata": {
    "hidden": true
   },
   "source": [
    "Функция ``reload`` вынуждает код уже загруженного модуля перезагрузиться и\n",
    "повторно выполниться. Присваивания в новом коде файла изменяют существующий объект модуля на месте.\n",
    "\n",
    "функция ``reload`` делает возможным изменение частей программы без остановки всей программы. Функция reload позволяет незамедлительно наблюдать эффекты от изменений в компонентах. Перезагрузка не помогает абсолютно в каждой\n",
    "ситуации, но там, где это происходит, она значительно сокращает цикл разработки.\n"
   ]
  },
  {
   "cell_type": "markdown",
   "id": "78aada5d",
   "metadata": {
    "hidden": true
   },
   "source": [
    "• ``reload`` является функцией в Python, а не оператором;\n",
    "\n",
    "• ``reload`` передается существующий объект модуля, а не новое имя;\n",
    "\n",
    "• ``reload`` находится внутри модуля в Python З.Х и сама должна быть импортирована"
   ]
  },
  {
   "cell_type": "markdown",
   "id": "5af68468",
   "metadata": {
    "hidden": true
   },
   "source": [
    "Модуль уже должен быть успешно загружен для применения функции ``reload``."
   ]
  },
  {
   "cell_type": "code",
   "execution_count": null,
   "id": "6d7d4061",
   "metadata": {
    "hidden": true
   },
   "outputs": [],
   "source": [
    "import module # Первоначальная операция импортирования\n",
    ". . .использовать атрибуты module.. .\n",
    "... # Внести изменения в файл модуля"
   ]
  },
  {
   "cell_type": "markdown",
   "id": "822cbd1d",
   "metadata": {
    "hidden": true
   },
   "source": [
    "Далее изменяем исходный код модуля"
   ]
  },
  {
   "cell_type": "code",
   "execution_count": null,
   "id": "031a588a",
   "metadata": {
    "hidden": true
   },
   "outputs": [],
   "source": [
    "from imp import reload # Получить саму функцию reload, (в Python З.Х)\n",
    "reload(module) # Получить обновленные атрибуты"
   ]
  },
  {
   "cell_type": "markdown",
   "id": "df9eee2a",
   "metadata": {
    "hidden": true
   },
   "source": [
    "• Функция ``reload`` запускает новый код файла модуля в текущем пространстве\n",
    "имен модуля. Повторное выполнение кода файла модуля переписывает его существующее пространство имен, а не удаляет и воссоздает его.\n",
    "\n",
    "• Присваивания верхнего уровня в файле заменяют имена новыми значениями.\n",
    "Скажем, повторное выполнение оператора ``def`` заменяет предыдущую версию функции в пространстве имен модуля, делая новое присваивание имени функции.\n",
    "\n",
    "• Перезагрузки воздействуют на всех клиентов, которые применяют ``import`` для\n",
    "извлечения модулей. Поскольку клиенты, которые используют ``import``, производят уточнение для извлечения атрибутов, после перезагрузки они обнаружат\n",
    "новые значения в объекте модуля.\n",
    "\n",
    "• Перезагрузки воздействуют только на клиентов, которые применят ``from`` в будущем. Перезагрузка не окажет влияние на клиентов, которые использовали ``from``\n",
    "для извлечения атрибутов в прошлом; они по-прежнему будут иметь ссылки на\n",
    "старые объекты, извлеченные перед перезагрузкой.\n",
    "\n",
    "•Перезагрузки применяются только к одиночному модулю. Вы должны запускать\n",
    "их для каждого модуля, который желаете обновить, либо воспользоваться кодом\n",
    "или инструментами, последовательно применяющими перезагрузки.\n"
   ]
  },
  {
   "cell_type": "code",
   "execution_count": null,
   "id": "cabe2177",
   "metadata": {
    "hidden": true
   },
   "outputs": [],
   "source": [
    "message = \"First version\" # Первая версия\n",
    "def printer():\n",
    "print(message)"
   ]
  },
  {
   "cell_type": "code",
   "execution_count": null,
   "id": "4e654c9f",
   "metadata": {
    "hidden": true
   },
   "outputs": [],
   "source": [
    "% python\n",
    "import changer\n",
    "changer. printer ()\n",
    "# First version"
   ]
  },
  {
   "cell_type": "code",
   "execution_count": null,
   "id": "0c9fcbd1",
   "metadata": {
    "hidden": true
   },
   "outputs": [],
   "source": [
    "# ...модифицировать changer.ру, не останавливая Python...\n",
    "% notepad changer.ру\n"
   ]
  },
  {
   "cell_type": "code",
   "execution_count": null,
   "id": "8f2384c3",
   "metadata": {
    "hidden": true
   },
   "outputs": [],
   "source": [
    "# ...возвратиться в интерпретатор Python...\n",
    "import changer\n",
    "changer.printer () # Безрезультатно: используется загруженный модуль\n",
    "# First version\n",
    "\n",
    "from imp import reload\n",
    "reload(changer) # Заставляет новый код загрузиться/выполниться\n",
    "# cmodule ’changer' from '.Wchanger.py'>\n",
    "\n",
    "changer.printer () # Теперь выполняется новая версия\n",
    "reloaded: After editing"
   ]
  },
  {
   "cell_type": "markdown",
   "id": "b141276d",
   "metadata": {},
   "source": [
    "# Пакеты модулей"
   ]
  },
  {
   "cell_type": "markdown",
   "id": "3323001a",
   "metadata": {},
   "source": [
    "Модуль =/= пакет.\n",
    "\n",
    "**Модуль** в языке Python – это обычный файл с расширением ``.py``.\n",
    "\n",
    "**Пакет** - это набор модулей"
   ]
  },
  {
   "cell_type": "markdown",
   "id": "76847bcd",
   "metadata": {},
   "source": [
    "Каталог с кодом Python называют **пакетом**, поэтому операции импортирования\n",
    "подобного рода известны как импортирование пакетов. "
   ]
  },
  {
   "cell_type": "markdown",
   "id": "1819a652",
   "metadata": {},
   "source": [
    "В сущности, импортирование\n",
    "пакетов превращает каталог на диске вашего компьютера в еще одно пространство\n",
    "имен Python с атрибутами, соответствующими подкаталогам и файлам модулей, которые содержит каталог."
   ]
  },
  {
   "cell_type": "code",
   "execution_count": null,
   "id": "141ed417",
   "metadata": {},
   "outputs": [],
   "source": [
    "import dirl.dir2.mod"
   ]
  },
  {
   "cell_type": "code",
   "execution_count": null,
   "id": "6d19bfc7",
   "metadata": {},
   "outputs": [],
   "source": [
    "from dirl.dir2.mod import x"
   ]
  },
  {
   "cell_type": "markdown",
   "id": "995fb63e",
   "metadata": {},
   "source": [
    "Предполагается, что **“точечный” путь** в таких операторах соответствует пути в иерархии каталогов на диске к файлу ``mod.ру`` (или подобному; расширение может варьироваться). То есть предшествующие операторы указывают на то, что диск вашего компьютера содержит каталог ``dirl``, который имеет подкаталог ``dir2``, содержащий файл\n",
    "модуля mod.py (или подобный)"
   ]
  },
  {
   "cell_type": "markdown",
   "id": "e3d2b874",
   "metadata": {},
   "source": [
    "``dir0\\dirl\\dir2\\mod.py``"
   ]
  },
  {
   "cell_type": "markdown",
   "id": "4ba81d77",
   "metadata": {},
   "source": [
    "## Файлы ``__init__.ру`` пакетов"
   ]
  },
  {
   "cell_type": "markdown",
   "id": "2210eb6f",
   "metadata": {},
   "source": [
    "Если вы решили использовать импортирование пакетов, то вам придется соблюдать еще одно ограничение: по крайней мере, до версии Python 3.3 каждый каталог,\n",
    "указанный внутри пути в операторе импортирования пакета, должен содержать файл\n",
    "по имени ``__init__.ру``, иначе операция импортирования пакета потерпит неудачу.\n",
    "\n",
    "То есть в рассмотренных примерах каталоги ``dir1`` и ``dir2`` обязаны содержать файл\n",
    "``__init__.ру``; контейнерному каталогу ``dir0`` такой файл не требуется, потому что сам\n",
    "он в операторе ``import`` не указан.\n"
   ]
  },
  {
   "cell_type": "markdown",
   "id": "0b6a3b75",
   "metadata": {},
   "source": [
    "Более формально для структуры каталогов следующего вида:\n",
    "```python\n",
    "dir0\\dirl\\dir2\\mod.py\n",
    "```\n",
    "и оператора import в форме:\n",
    "```python\n",
    "import dirl.dir2.mod\n",
    "```\n",
    "применимы перечисленные ниже правила:\n",
    "* Каталоги ``dirl`` и ``dir2`` должны содержать файл ``__init__.ру``.\n",
    "* Каталог ``dirO``, контейнер, не требует файла ``__init__.ру``; если этот файл присутствует, то он просто будет проигнорирован.\n",
    "* Каталог dir0, ио не dirO\\dirl, должен находиться в пути поиска модулей\n",
    "sys.path.\n"
   ]
  },
  {
   "cell_type": "code",
   "execution_count": null,
   "id": "a9131d0d",
   "metadata": {},
   "outputs": [],
   "source": [
    "dirO\\ # Контейнер в пути поиска модулей\n",
    "    dirl\\\n",
    "    __init__.ру\n",
    "    dir2\\\n",
    "        __init__.ру\n",
    "        mod.py"
   ]
  },
  {
   "cell_type": "markdown",
   "id": "d47288fb",
   "metadata": {},
   "source": [
    "Файлы ``__init__.ру`` могут содержать код Python подобно нормальным файлам модулей. Они имеют специальные имена, поскольку их код выполняется автоматически,\n",
    "когда Python импортирует каталог в первый раз, и потому служат главным образом в\n",
    "качестве привязок для выполнения шагов инициализации, требующихся пакету: Тем\n",
    "не менее, такие файлы могут также быть пустыми и временами исполнять дополнительные роли, как объясняется в следующем разделе.\n"
   ]
  },
  {
   "cell_type": "markdown",
   "id": "0ff1e09f",
   "metadata": {},
   "source": [
    "Как будет показано ближе к концу главы, в Python 3.3 и последующих версиях требование наличия файлов по имени ``__init__.ру`` в пакетах было\n",
    "отменено. В версии Python 3.3 и далее каталоги модулей без таких файлов\n",
    "могут импортироваться как пакеты пространств имен с единственным каталогом, которые работают точно так же, но не запускают файл кода, относящийся к стадии инициализации. Однако в версиях, предшествующих\n",
    "Python 3.3, и во всех версиях Python 2.Х пакеты по-прежнему требуют наличия файлов__init__ .ру. Как будет описано далее, в Python 3.3 и последующих версиях эти файлы, когда используются, также обеспечивают\n",
    "выигрыш в производительности.\n"
   ]
  },
  {
   "cell_type": "markdown",
   "id": "9ece528d",
   "metadata": {},
   "source": [
    "Выражаясь более подробно, файл ``__init__.ру`` служит привязкой для действий стадии инициализации пакета, объявляет каталог пакетом Python, генерирует пространство имен для каталога и реализует поведение операторов from ``*`` (т.е.\n",
    "``from . . import *``) в случае применения с операциями импортирования каталогов."
   ]
  },
  {
   "cell_type": "markdown",
   "id": "f45fe336",
   "metadata": {},
   "source": [
    "**Инициализация пакетов**\n",
    "\n",
    "*Когда программа Python импортирует каталог в первый раз, производится автоматический запуск всего кода из файла ``__init__.ру`` каталога. По этой причине такие файлы являются естественным местом для размещения кода, который\n",
    "инициализирует состояние, требующееся файлам в пакете. Например, пакет может использовать свой инициализационный файл для создания обязательных\n",
    "файлов данных, установления подключений к базам данных и т.д. Обычно файлы ``__init__.ру`` не планируются быть полезными при выполнении напрямую;\n",
    "они запускаются автоматически, когда впервые производится доступ к пакету.*\n",
    "\n",
    "**Объявления применимости модулей**\n",
    "\n",
    "Файлы ``__init__.ру`` пакетов также в некоторой степени присутствуют для объявления о том, что каталог является пакетом Python. В данной роли эти файлы\n",
    "помогают не допустить, чтобы каталоги с распространенными именами непреднамеренно скрывали настоящие модули, которые обнаруживаются позже в пути\n",
    "поиска модулей. Без такой меры предосторожности Python мог бы выбрать каталог, который не имеет никакого отношения к вашему коду, просто потому, что\n",
    "он оказался вложенным в каталог, находящийся раньше в пути поиска. Как мы\n",
    "увидим позже, пакеты пространств имен, появившиеся в Python 3.3, позволяют\n",
    "в основном избавиться от этой роли, но достигают похожего эффекта алгоритмически за счет просмотра вперед пути для поиска более поздних файлов.\n",
    "\n",
    "**Инициализация пространства имен модуля**\n",
    "\n",
    "*В модели импортирования пакетов пути к каталогам в сценарии после импорта\n",
    "становятся реальными цепочками вложенных объектов. Скажем, в предыдущем\n",
    "примере после импортирования выражение dirl .diг2 работает и возвращает\n",
    "объект модуля, который содержит все имена, присвоенные инициализационным файлом__init__ .ру в каталоге dir2. Такие файлы предоставляют пространство имен для объектов модулей, созданных на основе каталогов, которые\n",
    "иначе не имели бы реального ассоциированного файла модуля.*\n",
    "\n",
    "**Поведение оператора ``from *``**\n",
    "\n",
    "*В качестве расширенной возможности вы можете использовать в файлах\n",
    "``__init__.ру`` списки ``__all__`` для определения, что экспортировать, когда каталог импортируется с помощью формы оператора ``from *``. В файле\n",
    "``__init__.ру`` список ``__all__`` представляет собой перечень имен подмодулей,\n",
    "которые должны автоматически импортироваться в случае применения ``from *``\n",
    "для имени пакета (каталога). Если список ``__all__`` не установлен, тогда оператор ``from *`` не загружает автоматически подмодули, вложенные в каталог; взамен он загружает только имена, которые определены присваиваниями в файле\n",
    "``__init__.ру`` каталога, в том числе любые подмодули, явно импортируемые кодом в данном файле. Например, оператор ``from подмодуль import X`` в файле\n",
    "``__init__``. ру каталога делает имя X доступным в пространстве имен этого каталога.\n",
    "(В главе 25 будут показаны дополнительные роли для списка ``__all__``: он обеспечивает объявление экспортирования from * простых файлов.)*"
   ]
  },
  {
   "cell_type": "markdown",
   "id": "d71a4b90",
   "metadata": {},
   "source": [
    "После импортирования путь в операторе import становится цепочкой вложенных\n",
    "объектов внутри сценария. Здесь mod — объект, вложенный в объект dir2, который в\n",
    "свою очередь вложен в объект dirl:\n"
   ]
  },
  {
   "cell_type": "code",
   "execution_count": null,
   "id": "263d27c5",
   "metadata": {},
   "outputs": [],
   "source": [
    ">> dirl\n",
    "# cmodule ’dirl’ from '.\\\\dirl\\\\__init__ .py’>\n",
    ">> dirl.dir2\n",
    "# cmodule 'dirl.dir2' from '.Wdirl\\\\dir2\\\\__init__ .py’>\n",
    ">> dirl.dir2.mod\n",
    "# cmodule ’dirl.dir2.mod' from ’ .\\\\dirl\\\\dir2\\\\mod.py'>"
   ]
  },
  {
   "cell_type": "markdown",
   "id": "a9a7e893",
   "metadata": {},
   "source": [
    "## Зачем нужно импортирование пакетов"
   ]
  },
  {
   "cell_type": "markdown",
   "id": "c9b230d9",
   "metadata": {},
   "source": [
    "* Прежде всего, поскольку операции импортирования пакетов дают определенную\n",
    "информацию о каталогах в программных файлах, они облегчают нахождение файлов\n",
    "и выступают в качестве организационного инструмента.\n",
    "\n",
    "* если вы организовали свои файлы в подкаталоги по областям функциональности, тогда операции импортирования пакетов сделают более\n",
    "очевидной роль, исполняемую тем или иным модулем, что в итоге улучшит читабельность кода. \n",
    "\n",
    "* Импортирование пакетов может также значительно упростить настройки пути поиска в переменной ``PYTHONPATH`` и файлах ``.pth``. Фактически если вы применяете явные операции импортирования пакетов для всех случаев импорта между каталогами и\n",
    "делаете их относительными к общему корневому каталогу, где хранится весь ваш код\n",
    "Python, то в пути поиска потребуется единственный элемент: общий корень\n",
    "\n",
    "* импортирование пакетов помогает устранять неоднозначности за счет точного указания, какие файлы нужно импортировать, а также избегать возникновения конфликтов, когда одно и то же имя модуля появляется в нескольких местах.\n",
    "\n"
   ]
  },
  {
   "cell_type": "code",
   "execution_count": null,
   "id": "6bdf4991",
   "metadata": {},
   "outputs": [],
   "source": []
  },
  {
   "cell_type": "code",
   "execution_count": null,
   "id": "b8b3c928",
   "metadata": {},
   "outputs": [],
   "source": []
  },
  {
   "cell_type": "code",
   "execution_count": null,
   "id": "3ca97633",
   "metadata": {},
   "outputs": [],
   "source": []
  },
  {
   "cell_type": "code",
   "execution_count": null,
   "id": "bbd2d554",
   "metadata": {},
   "outputs": [],
   "source": []
  },
  {
   "cell_type": "markdown",
   "id": "4ce3c506",
   "metadata": {},
   "source": [
    "# Создание пакетов"
   ]
  },
  {
   "cell_type": "markdown",
   "id": "39be0aa3",
   "metadata": {},
   "source": [
    "Создание пакетов Python переживало долгие странные времена, и потребовалось\n",
    "много лет, чтобы навести в этой теме порядок. Все началось с пакета distutils,\n",
    "введенного в 1998 году, который впоследствии был дополнен setuptools в 2003-м.\n",
    "Эти два проекта породили великое множество ответвлений, альтернативных проектов и полных переписываний, целью которых было раз и навсегда привести\n",
    "в порядок экосистему упаковки в Python. К сожалению, большинство из этих попыток оказались неудачными. Эффект был совершенно противоположный. Каждый новый проект, пытавшийся заменить собой setuptools или distutils, только\n",
    "вносил еще больше путаницы. Одни проекты выродились и вернулись к корням (например, distribute — ответвление setuptools), а другие остались заброшенными (например, distutils2"
   ]
  },
  {
   "cell_type": "markdown",
   "id": "d5f7c70f",
   "metadata": {},
   "source": [
    "Руководство пользователя по упаковке Python\n",
    "(packaging.python.org), выпускаемое PyPA, является авторитетным источником\n",
    "информации о новейших средствах упаковки и практических рекомендациях.\n",
    "В рамках данной главы этот сайт можно считать лучшим источником информации\n",
    "об упаковке. Руководство также содержит подробную историю изменений и информацию о новых проектах, связанных с упаковкой. Даже если вы уже знаете\n",
    "кое-что об упаковке, его стоит прочесть с целью убедиться, что вы используете\n",
    "правильные инструменты"
   ]
  },
  {
   "cell_type": "markdown",
   "id": "da33b972",
   "metadata": {},
   "source": [
    "Некоторые из проектов уже были упомянуты в книге. Ниже приведены наиболее видные из них:\n",
    "* ``pip``;\n",
    "* ``virtualenv``;\n",
    "* ``twine``;\n",
    "* ``warehouse``."
   ]
  },
  {
   "cell_type": "markdown",
   "id": "4a0acd2a",
   "metadata": {},
   "source": [
    "Рекомендации по инструментам\n",
    "Руководство по упаковке Python содержит несколько рекомендаций по инструментам для работы с пакетами. В целом их можно разделить на следующие две\n",
    "группы:\n",
    "* инструменты для установки пакетов;\n",
    "* инструменты для создания и распространения пакетов.\n",
    "\n",
    "\n",
    "Инструменты из первой группы, рекомендованные PyPA, уже упоминались\n",
    "нами в главе 2, однако вспомним их еще раз в порядке логики повествования:\n",
    "* использование ``pip`` для установки пакетов из PyPI;\n",
    "* использование ``virtualenv`` или ``venv`` для изоляции среды выполнения Python\n",
    "на уровне приложения.\n",
    "\n",
    "\n",
    "Рекомендации руководства по упаковке Python, касающиеся инструментов для\n",
    "создания и распространения пакетов, заключаются в следующем:\n",
    "* используйте ``setuptools`` для определения проектов и распространения исходного\n",
    "кода;\n",
    "* используйте подходящие средства для распространения сборок;\n",
    "* используйте ``twine`` для загрузки пакета на PyPI и его последующего распространения.\n",
    "Рассмотрим, как настроить ваш проект."
   ]
  },
  {
   "cell_type": "markdown",
   "id": "ddce454a",
   "metadata": {},
   "source": [
    "## Конфигурация проекта"
   ]
  },
  {
   "cell_type": "markdown",
   "id": "b7d6caba",
   "metadata": {},
   "source": [
    "Очевидно, что самый простой способ организовать код в большом приложении —\n",
    "разделить его на несколько пакетов. Это упрощает понимание кода, его сопровождение и редактирование, а также максимизирует повторное использование кода.\n",
    "Отдельные пакеты выступают в качестве компонентов, которые можно задействовать в различных программах"
   ]
  },
  {
   "cell_type": "markdown",
   "id": "68db5662",
   "metadata": {},
   "source": [
    "### **``setup.py``**"
   ]
  },
  {
   "cell_type": "markdown",
   "id": "2de6cf4f",
   "metadata": {},
   "source": [
    "В корневом каталоге распространяемого пакета есть скрипт ``setup.py``. Там определены все метаданные, как описано в модуле ``distutils``. Метаданные пакета выражаются в виде аргументов при вызове стандартной функции ``setup()``.\n",
    "\n",
    "Несмотря на то что ``distutils`` — это модуль стандартной библиотеки, предназначенный для упаковки, все же вместо него рекомендуется использовать ``setuptools``. В данный пакет внесены\n",
    "несколько усовершенствований по сравнению со стандартным модулем ``distutils``."
   ]
  },
  {
   "cell_type": "markdown",
   "id": "1950d9ab",
   "metadata": {},
   "source": [
    "Минимальное содержание этого файла выглядит следующим образом:"
   ]
  },
  {
   "cell_type": "code",
   "execution_count": null,
   "id": "d8c88eb5",
   "metadata": {},
   "outputs": [],
   "source": [
    "from setuptools import setup\n",
    "setup(\n",
    " name='mypackage',\n",
    ")"
   ]
  },
  {
   "cell_type": "markdown",
   "id": "43e928f3",
   "metadata": {},
   "source": [
    "Элемент ``name`` — это полное имя пакета. Кроме того, скрипт предоставляет несколько команд, которые можно вывести с помощью опции --help-commands, как\n",
    "показано в следующем коде:"
   ]
  },
  {
   "cell_type": "markdown",
   "id": "f7642501",
   "metadata": {},
   "source": [
    "```python\n",
    "$ python3 setup.py --help-commands\n",
    "Standard commands:\n",
    " build build everything needed to install\n",
    " clean clean up temporary files from 'build' command\n",
    " install install everything from build directory\n",
    " sdist create a source distribution (tarball, zip file, etc.)\n",
    " register register the distribution with the Python package index\n",
    " bdist create a built (binary) distribution\n",
    " check perform some checks on the package\n",
    " upload upload binary package to PyPI\n",
    " \n",
    "Extra commands:\n",
    " bdist_wheel create a wheel distribution\n",
    " alias define a shortcut to invoke one or more commands\n",
    " develop install package in 'development mode'\n",
    " \n",
    "usage: setup.py [global_opts] cmd1 [cmd1_opts] [cmd2 [cmd2_opts] ...]\n",
    " or: setup.py --help [cmd1 cmd2 ...]\n",
    " or: setup.py --help-commands\n",
    " or: setup.py cmd --help\n",
    "```"
   ]
  },
  {
   "cell_type": "markdown",
   "id": "3da5be6b",
   "metadata": {},
   "source": [
    "Стандартные команды — это встроенные команды, из\n",
    "``distutils``, а дополнительные пришли из сторонних пакетов, таких как setuptools,\n",
    "или из любого другого пакета, который определяет и регистрирует новую команду.\n",
    "Здесь примером такой дополнительной команды является ``bdist_wheel`` из пакета\n",
    "``wheel``."
   ]
  },
  {
   "cell_type": "markdown",
   "id": "2fd03102",
   "metadata": {},
   "source": [
    "### **``setup.cfg``**"
   ]
  },
  {
   "cell_type": "markdown",
   "id": "e5b1ddb3",
   "metadata": {},
   "source": [
    "Файл setup.cfg содержит параметры по умолчанию для команд скрипта setup.py.\n",
    "Он чрезвычайно полезен, когда процесс создания и распространения пакета усложняется и требует множества необязательных аргументов, которые передаются\n",
    "командам скрипта setup.py/\n",
    "\n",
    "В файле setup.cfg можно хранить такие параметры по умолчанию вместе с исходным кодом для каждого проекта. Это позволит сделать\n",
    "процедуру распространения независимой от проекта, а также обеспечит прозрачность процесса сборки и распространения пакета среди пользователей и других\n",
    "членов команды. \n",
    "\n",
    "Синтаксис файла setup.cfg аналогичен встроенному модулю configparser,\n",
    "поэтому он похож на популярные файлы Microsoft Windows INI. Ниже приведен\n",
    "пример файла конфигурации setup.cfg, в котором определены параметры по\n",
    "умолчанию global, sdlist и bdist_wheel:"
   ]
  },
  {
   "cell_type": "markdown",
   "id": "ae2d46fa",
   "metadata": {},
   "source": [
    "```python\n",
    "[global]\n",
    "quiet=1\n",
    "[sdist]\n",
    "formats=zip,tar\n",
    "[bdist_wheel]\n",
    "universal=1\n",
    "```"
   ]
  },
  {
   "cell_type": "markdown",
   "id": "0930f30d",
   "metadata": {},
   "source": [
    "Пример конфигурации гарантирует, что исходный код (раздел sdist) всегда будет создаваться в двух форматах (ZIP и TAR), а встроенные сборки wheel\n",
    "(bdist_wheel) создаются как универсальные диски, не зависящие от версии Python.\n",
    "Кроме того, большая часть выходных данных каждой команды будет подавляться\n",
    "глобальным переключателем --quiet. Обратите внимание: эта опция включена\n",
    "только в целях демонстрации и подавлять вывод для каждой команды по умолчанию с помощью данной опции — плохое решение."
   ]
  },
  {
   "cell_type": "markdown",
   "id": "7ca055cf",
   "metadata": {},
   "source": [
    "### **``MANIFEST.in``**"
   ]
  },
  {
   "cell_type": "markdown",
   "id": "7f6c9f0e",
   "metadata": {},
   "source": [
    "При создании сборки с помощью команды ``sdist`` модуль ``distutils`` просматривает\n",
    "каталог пакета и ищет файлы, которые следует добавить в архив. По умолчанию\n",
    "``distutils`` содержит:\n",
    "* все исходные файлы Python, подключенные в аргументах py_modules, packages\n",
    "и scripts;\n",
    "* все исходные файлы C, перечисленные в аргументе ext_modules;\n",
    "* файлы, соответствующие стандартной маске test/test*.py;\n",
    "* файлы с именами README, README.txt, setup.py и setup.cfg"
   ]
  },
  {
   "cell_type": "markdown",
   "id": "25159926",
   "metadata": {},
   "source": []
  },
  {
   "cell_type": "markdown",
   "id": "7f53bf15",
   "metadata": {},
   "source": []
  },
  {
   "cell_type": "markdown",
   "id": "caf0371f",
   "metadata": {},
   "source": []
  },
  {
   "cell_type": "markdown",
   "id": "a821ccd4",
   "metadata": {},
   "source": []
  },
  {
   "cell_type": "markdown",
   "id": "5b2665af",
   "metadata": {},
   "source": []
  },
  {
   "cell_type": "markdown",
   "id": "65bb8179",
   "metadata": {},
   "source": []
  },
  {
   "cell_type": "markdown",
   "id": "6bb08a93",
   "metadata": {},
   "source": []
  },
  {
   "cell_type": "markdown",
   "id": "5dcc96f0",
   "metadata": {},
   "source": []
  },
  {
   "cell_type": "markdown",
   "id": "1252796f",
   "metadata": {
    "heading_collapsed": true
   },
   "source": [
    "# Мусор"
   ]
  },
  {
   "cell_type": "markdown",
   "id": "61b84cab",
   "metadata": {
    "hidden": true
   },
   "source": [
    "* **bash:**``python3 example.py`` - воспроизводит скрипт\n",
    "* **vim:** ``vim example.py`` - открывает редактор vim файла example.py\n",
    "* **vim:** ``ESC + :q`` - Выход из vim без сохранения\n",
    "* **vim:** ``ESC + :wq`` -Сохранить и выйти из vim\n",
    "* **windows:**``mkdir playground`` - создание новой директории\n",
    "* **windows:**``cd playground`` - перемещает нас в данную директорию"
   ]
  },
  {
   "cell_type": "markdown",
   "id": "8a80f822",
   "metadata": {
    "hidden": true
   },
   "source": [
    "``sys.path`` - Показывает, где Python ищет модули по умолчанию"
   ]
  },
  {
   "cell_type": "code",
   "execution_count": 1,
   "id": "e7b9137f",
   "metadata": {
    "hidden": true
   },
   "outputs": [
    {
     "data": {
      "text/plain": [
       "['C:\\\\Users\\\\79618\\\\Documents\\\\GitHub\\\\chereshan_notes\\\\notebooks',\n",
       " 'C:\\\\Users\\\\79618\\\\AppData\\\\Local\\\\Programs\\\\Python\\\\Python310\\\\python310.zip',\n",
       " 'C:\\\\Users\\\\79618\\\\AppData\\\\Local\\\\Programs\\\\Python\\\\Python310\\\\DLLs',\n",
       " 'C:\\\\Users\\\\79618\\\\AppData\\\\Local\\\\Programs\\\\Python\\\\Python310\\\\lib',\n",
       " 'C:\\\\Users\\\\79618\\\\AppData\\\\Local\\\\Programs\\\\Python\\\\Python310',\n",
       " '',\n",
       " 'C:\\\\Users\\\\79618\\\\AppData\\\\Local\\\\Programs\\\\Python\\\\Python310\\\\lib\\\\site-packages',\n",
       " 'C:\\\\Users\\\\79618\\\\AppData\\\\Local\\\\Programs\\\\Python\\\\Python310\\\\lib\\\\site-packages\\\\win32',\n",
       " 'C:\\\\Users\\\\79618\\\\AppData\\\\Local\\\\Programs\\\\Python\\\\Python310\\\\lib\\\\site-packages\\\\win32\\\\lib',\n",
       " 'C:\\\\Users\\\\79618\\\\AppData\\\\Local\\\\Programs\\\\Python\\\\Python310\\\\lib\\\\site-packages\\\\Pythonwin']"
      ]
     },
     "execution_count": 1,
     "metadata": {},
     "output_type": "execute_result"
    }
   ],
   "source": [
    "import sys\n",
    "sys.path"
   ]
  },
  {
   "cell_type": "markdown",
   "id": "b2a05d49",
   "metadata": {
    "hidden": true
   },
   "source": [
    "**Пакет** - директория, которая содержит 1 или более модуля, а также другие пакеты"
   ]
  },
  {
   "cell_type": "markdown",
   "id": "dd1b4336",
   "metadata": {
    "hidden": true
   },
   "source": [
    "* **bash:**``tree`` - показывает дерево директории"
   ]
  },
  {
   "cell_type": "markdown",
   "id": "a70d7036",
   "metadata": {
    "hidden": true
   },
   "source": [
    "``sys`` - библиотека аргументов командной строки"
   ]
  },
  {
   "cell_type": "code",
   "execution_count": 5,
   "id": "8286235c",
   "metadata": {
    "hidden": true
   },
   "outputs": [
    {
     "name": "stdout",
     "output_type": "stream",
     "text": [
      "3\n"
     ]
    }
   ],
   "source": [
    "import sys\n",
    "print(len(sys.argv))"
   ]
  },
  {
   "cell_type": "markdown",
   "id": "96eb4f28",
   "metadata": {
    "hidden": true
   },
   "source": [
    "``sys.argv`` - список аргументов CMD"
   ]
  },
  {
   "cell_type": "markdown",
   "id": "988c45c8",
   "metadata": {
    "hidden": true
   },
   "source": [
    "``subproces``- библиотека для запуска внешних процессов"
   ]
  },
  {
   "cell_type": "markdown",
   "id": "ad2cc53b",
   "metadata": {
    "hidden": true
   },
   "source": [
    "``subprocess.call(args,*,stdin=None,stdout=None,stderr=None,shell=None,timeout=None)`` - запускают программу в соответствии с аргументами. Дожидается выполнения и возвращает код возврата (CMD)"
   ]
  },
  {
   "cell_type": "code",
   "execution_count": 9,
   "id": "0fe50502",
   "metadata": {
    "hidden": true
   },
   "outputs": [
    {
     "data": {
      "text/plain": [
       "0"
      ]
     },
     "execution_count": 9,
     "metadata": {},
     "output_type": "execute_result"
    }
   ],
   "source": [
    "import subprocess\n",
    "subprocess.call(['python','-h'])"
   ]
  },
  {
   "cell_type": "code",
   "execution_count": 11,
   "id": "ae76f3fe",
   "metadata": {
    "hidden": true
   },
   "outputs": [
    {
     "name": "stdout",
     "output_type": "stream",
     "text": [
      "<!doctype html>\n",
      "<html>\n",
      "<head>\n",
      "    <title>Example Domain</title>\n",
      "\n",
      "    <meta charset=\"utf-8\" />\n",
      "    <meta http-equiv=\"Content-type\" content=\"text/html; charset=utf-8\" />\n",
      "    <meta name=\"viewport\" content=\"width=device-width, initial-scale=1\" />\n",
      "    <style type=\"text/css\">\n",
      "    body {\n",
      "        background-color: #f0f0f2;\n",
      "        margin: 0;\n",
      "        padding: 0;\n",
      "        font-family: -apple-system, system-ui, BlinkMacSystemFont, \"Segoe UI\", \"Open Sans\", \"Helvetica Neue\", Helvetica, Arial, sans-serif;\n",
      "        \n",
      "    }\n",
      "    div {\n",
      "        width: 600px;\n",
      "        margin: 5em auto;\n",
      "        padding: 2em;\n",
      "        background-color: #fdfdff;\n",
      "        border-radius: 0.5em;\n",
      "        box-shadow: 2px 3px 7px 2px rgba(0,0,0,0.02);\n",
      "    }\n",
      "    a:link, a:visited {\n",
      "        color: #38488f;\n",
      "        text-decoration: none;\n",
      "    }\n",
      "    @media (max-width: 700px) {\n",
      "        div {\n",
      "            margin: 0 auto;\n",
      "            width: auto;\n",
      "        }\n",
      "    }\n",
      "    </style>    \n",
      "</head>\n",
      "\n",
      "<body>\n",
      "<div>\n",
      "    <h1>Example Domain</h1>\n",
      "    <p>This domain is for use in illustrative examples in documents. You may use this\n",
      "    domain in literature without prior coordination or asking for permission.</p>\n",
      "    <p><a href=\"https://www.iana.org/domains/example\">More information...</a></p>\n",
      "</div>\n",
      "</body>\n",
      "</html>\n",
      "\n"
     ]
    }
   ],
   "source": [
    "import requests\n",
    "r=requests.get('https://example.com') # простой get-запрос\n",
    "print(r.text) # вывод ответа с сервера"
   ]
  },
  {
   "cell_type": "markdown",
   "id": "73110d25",
   "metadata": {
    "hidden": true
   },
   "source": [
    "Пакеты используются разработчиками для организации и шэринга кода.\n",
    "Пакет - это директория, которая содержит: \n",
    "\n",
    "1. файлы с кодом Python, которые называются модулями с потенциально компилированным кодом, к которому может получить доступ Python (функции скомпилированные из-под C или кода FORTRAN)\n",
    "\n",
    "2. Файл, который называется ``__init__.py``, который будет запущен, когда мы произведем импорт\n"
   ]
  },
  {
   "cell_type": "code",
   "execution_count": 1,
   "id": "ebe02d11",
   "metadata": {
    "hidden": true
   },
   "outputs": [
    {
     "name": "stdout",
     "output_type": "stream",
     "text": [
      "C:\\Users\\79618\\AppData\\Local\\Programs\\Python\\Python310\\lib\\site-packages\\numpy\\__init__.py\n"
     ]
    }
   ],
   "source": [
    "import numpy as np\n",
    "\n",
    "print(np.__file__)"
   ]
  }
 ],
 "metadata": {
  "kernelspec": {
   "display_name": "Python 3 (ipykernel)",
   "language": "python",
   "name": "python3"
  },
  "language_info": {
   "codemirror_mode": {
    "name": "ipython",
    "version": 3
   },
   "file_extension": ".py",
   "mimetype": "text/x-python",
   "name": "python",
   "nbconvert_exporter": "python",
   "pygments_lexer": "ipython3",
   "version": "3.10.8"
  },
  "toc": {
   "base_numbering": 1,
   "nav_menu": {},
   "number_sections": true,
   "sideBar": true,
   "skip_h1_title": false,
   "title_cell": "Table of Contents",
   "title_sidebar": "Contents",
   "toc_cell": false,
   "toc_position": {},
   "toc_section_display": true,
   "toc_window_display": false
  }
 },
 "nbformat": 4,
 "nbformat_minor": 5
}
