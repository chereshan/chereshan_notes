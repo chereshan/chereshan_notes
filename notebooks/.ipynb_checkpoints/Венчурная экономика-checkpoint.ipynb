{
 "cells": [
  {
   "cell_type": "markdown",
   "id": "a9e0185d",
   "metadata": {},
   "source": [
    "Источники:\n",
    "- [ ] [Венчурное финансирование. Л. М. Лапицкая. Минск. БГУ. 2019](https://elib.bsu.by/bitstream/123456789/235025/1/Venchur.pdf)\n",
    "- [ ] [Скорининговые методы](https://mail-attachment.googleusercontent.com/attachment/u/0/?ui=2&ik=9d74a9e6a9&attid=0.1&permmsgid=msg-f:1749175551854978989&th=184651e59a1d27ad&view=att&disp=inline&realattid=f_lac1qhlp0&saddbat=ANGjdJ9A_1pm5MArqZUrRPZfd6khqgie2-ctcM5LUDZ5SU8Gc-NR1Cm2J6c7qI1g1dyXEWWAkDJd-8is4WkFwczU3K5fOtqcrS7XD8FBkGoD8p6_2JfO2egADpvUzwy7A4taGMHvCCn4fam7-sD5jTQme6fLKixXJPoc4tq5sjPL9IzEXgt7ZFR4VNcTG799zdQCYSqnK_dVWdHe12j-jOQCYwk4MORGo77AQXKQcY_mpFGYRPsP6wLh0QBh3zVUckH2s4dDNHKDNnBA1tX6DcBHoj9SuqyIXpVqL8dbBjczTQtLfDjX6LfThUIc2poNYCF_gowchbSQQWRp1qAPgaG38-x1jfePqziHyVABrbSf8sx1at-CvTc3oYfA-Isml7qyHfP_wx3ytEKvehAdsfZaA4i4mh9qwMKr3UUkDoGepcmywGyLsw5j4HD5_wa1k22aFFU4n3qtU_4CTt4bM3nbHsXFM91oayV7HYRKRuhA-LPdG4hCHOxEenyBzJtwZnJImpAzn6E46zQYo16e260qqv1cDb0NVS50CK4hIPVsM7BXwKuvW9qDoAKOxkkesHyL8mjT5cd_SwtnxUQ8eFv0ekn_mKV8Qi1CPvtt87Lxvw3euekQne1L5K9tV2ScJdws6Vw8h9v3j3FBEik9B-GNWlRj_Fr1sUgR8r-oubwtUyWyxiBVl_menddkL2-a-qiLqds1DTuRQeirodGaNIHsBaJAyz87iQf6XkR0VjHGh6csoE6IQaqBl8YXvazuZynDkSrynGQ7SlndJHryBg4BsBKCZPm4DPcxFrpkEqrQH4SrFVZCQ4cDpRF7QCrrO8eR91Lvix_9LdzsvbJsNUfaPcGaGP0l-hzamh9F8o8wzItEMEwlFjPJKQ3joUD1zXoqJcGi26s-7e2TevPEM06bdRKgVMr8jfncZMxSkMvYEnl4Xkffc6-Nwy_SM2ykSmEWfimxX3Ef88fpMK4-B6ORjVDn1RRK7zo0qdZZYpE6vi3AMo6hrkJf51LB_I4) \n",
    "- [ ] [Венчурный бизнес. С.В. Короткий. Саратов. 2018](https://crustwebsites.net/ipfs/bafykbzacebgtv7fiwcz5qunb7flybc3tw77cdpigljuwedwj5l4p7zcnwmk6e?filename=%D0%9A%D0%BE%D1%80%D0%BE%D1%82%D0%BA%D0%B8%D0%B9%20%D0%A1.%D0%92.%20-%20%D0%92%D0%B5%D0%BD%D1%87%D1%83%D1%80%D0%BD%D1%8B%D0%B9%20%D0%B1%D0%B8%D0%B7%D0%BD%D0%B5%D1%81.%20%D0%A3%D1%87%D0%B5%D0%B1%D0%BD%D0%BE%D0%B5%20%D0%BF%D0%BE%D1%81%D0%BE%D0%B1%D0%B8%D0%B5%20%282018%29.pdf)\n"
   ]
  },
  {
   "cell_type": "markdown",
   "id": "64ee25b3",
   "metadata": {},
   "source": [
    "# **Венчурная экономика**"
   ]
  },
  {
   "cell_type": "markdown",
   "id": "182c938d",
   "metadata": {},
   "source": [
    "Скоринговые подходы "
   ]
  },
  {
   "cell_type": "markdown",
   "id": "3c8bbe5b",
   "metadata": {},
   "source": [
    "1. **Ценностное предложение**"
   ]
  }
 ],
 "metadata": {
  "kernelspec": {
   "display_name": "Python 3 (ipykernel)",
   "language": "python",
   "name": "python3"
  },
  "language_info": {
   "codemirror_mode": {
    "name": "ipython",
    "version": 3
   },
   "file_extension": ".py",
   "mimetype": "text/x-python",
   "name": "python",
   "nbconvert_exporter": "python",
   "pygments_lexer": "ipython3",
   "version": "3.10.8"
  },
  "toc": {
   "base_numbering": 1,
   "nav_menu": {},
   "number_sections": true,
   "sideBar": true,
   "skip_h1_title": false,
   "title_cell": "Table of Contents",
   "title_sidebar": "Contents",
   "toc_cell": false,
   "toc_position": {},
   "toc_section_display": true,
   "toc_window_display": false
  }
 },
 "nbformat": 4,
 "nbformat_minor": 5
}
