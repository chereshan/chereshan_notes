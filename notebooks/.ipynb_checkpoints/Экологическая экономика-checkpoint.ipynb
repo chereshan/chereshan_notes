{
 "cells": [
  {
   "cell_type": "markdown",
   "id": "0d054f6e",
   "metadata": {},
   "source": [
    "**Экологическая экономика**"
   ]
  },
  {
   "cell_type": "markdown",
   "id": "4bd38d31",
   "metadata": {},
   "source": [
    "**Источники:**\n",
    "\n",
    "1. Rethinkung Economics: Ecological economics From nature to society (Clive L. Spash and Viviana Asara)"
   ]
  },
  {
   "cell_type": "markdown",
   "id": "f363fc4c",
   "metadata": {},
   "source": [
    "- [ ] Сырой перевод\n",
    "- [ ] Разметка\n",
    "- [ ] Редактура предложений на более литературные"
   ]
  },
  {
   "cell_type": "markdown",
   "id": "b072a445",
   "metadata": {},
   "source": [
    "**Introduction**"
   ]
  },
  {
   "cell_type": "markdown",
   "id": "f1616a27",
   "metadata": {},
   "source": [
    "Ecological Economics represents a line of thought relating to energy and the environment in economics, which can be traced back well into the 1800s (Martinez-Alier,\n",
    "1990). More generally, it places economics in the context of themes that have been\n",
    "central concerns for humanity since the ancient Greeks. \n",
    "These include the limits to\n",
    "wealth creation, the meaning of the good life, how to achieve well-being individually\n",
    "and socially, ethics and behaviour, the epistemology of value, and the psychological and\n",
    "social impact of ostentatious consumption.\n",
    "\n",
    "The current movement is founded upon\n",
    "the concerns of the 1960s and early 1970s for limits to growth (Meadows et al., 1972),\n",
    "the study of the flow of energy and materials in the economy based upon the work of\n",
    "Georgescu-Roegen (1971), and the re-conceptualisation of ‘externalities’ as pervasive\n",
    "social cost-shifting and an integral part of modern economic activity (Kapp, 1950, 1978).\n",
    "\n",
    "However, past writers, expressing such a social and ecological critique of economics,\n",
    "failed to create a collective formally institutionalised academic base. The more formal\n",
    "establishment of associations and journals only occurred in the late 1980s and early 1990s,\n",
    "in part due to the growing criticism of and dissension within orthodox environmental\n",
    "economics (Spash, 1999, 2011)."
   ]
  },
  {
   "cell_type": "markdown",
   "id": "d71117b3",
   "metadata": {},
   "source": [
    "Экологическая экономика представляет собой направление мысли, устанавливающее зависимость между энергией, окружающей средой и экономикой. Экоэконимика прослежено вплоть до 1800-х (Martinez-Alier, 1990). Более обще, она располагает экономику в контекст тем, которые были центральными для человечества со времен древних Греков. Это включаат пределы создания богатства, что значит хорошо прожитая жизнь, как достичь индивидуального и общественного благополучия, этика и поведение, эпистемалогия ценности, и психологические и социальные последстваия демонстративного потребления. \n",
    "Нынешнее движение основано на беспокойстве 1960-х и ранних 1970-х для пределеов роста (Meadows et al., 1972), изучение потоков энергии и материалов в экономике основывается на работах Georgescu-Roegen (1971), реконцептуализация \"экстерналий\" как внутренних сдвигателей издержек и интегрально части современной экономической активности (Kapp, 1950, 1978).\n",
    "Однако прошлые авторы, выражая такуб соуиальную и экологическую критику экономической науки, потерпели провал в создании коллективной формально институционализироавнной академической базы. Более офрмальное основание ассоциаций и журналов произошло в поздних 1980-х и ранних 1990-х, как часть растущей критики и расхождений внутри ортодоксальной экологической экономики (Spash, 1999, 2011)."
   ]
  },
  {
   "cell_type": "markdown",
   "id": "3edb910a",
   "metadata": {},
   "source": [
    "In Barcelona in 1987, at a meeting hosted by Joan Martinez-Alier, the International\n",
    "Society for Ecological Economics (ISEE) was born, and the first issue of the journal\n",
    "Ecological Economics appeared in 1989. The basic conceptualisation of reality (i.e., the\n",
    "ontological presupposition) that explicitly recognises the economy as embedded within\n",
    "a larger ecological system was a common foundation for participants. This self-evident\n",
    "reality was and remains denied and/or ignored by all mainstream economics and heterodox theories as well. Economies are studied as if they were independent of the biophysical systems within which they are embedded and upon which they are totally dependent."
   ]
  },
  {
   "cell_type": "markdown",
   "id": "6bae7932",
   "metadata": {},
   "source": [
    "В 1987 в Барселоне, на встрече, под заседанием Joan Martinez-Alier было рождено International Society for Ecological Economics (ISEE), первый же номер журнала Ecological Economics появился в 1989. Простейшая концептуализация реальности (или онтологиеческая пресуппозиция), которая прямо признает тот факт, что экономика встроеннна в внутрь более крупной экологиечской системы - это распространенное среди участников основание. Самоочевидная реальность была и продолжает быть отрицаема и/или игнорируется всеми как мейнстримной экономикой, так и неортодосальными теориями. Экономика изучается так будто бы она независима от биофизичесой системы внутрь которой она строна, и от которой она полностью завиист. "
   ]
  },
  {
   "cell_type": "markdown",
   "id": "ced66bd6",
   "metadata": {},
   "source": [
    "Studying the relationships between the economy and the environment is an optional\n",
    "extra for economists, and a minority pursuit. A range of economic approaches maintain  as a common utopian vision the growth economy and the core recommendation for success being an ever-growing material and energy throughput.1\\\n",
    "\n",
    " This has become enshrined\n",
    "as a doctrine of faith at the heart of the modern industrial society: ‘thou shalt grow thy\n",
    "economy’. The basic assumption that remains dominant amongst economists, of all sorts,\n",
    "is that the economic system is physically isolated (i.e., has no energy or material exchange\n",
    "with any other system) and can meaningfully be studied as such. In fact, this is neither\n",
    "the biophysical reality in which humans actually live, nor a valid assumption upon which\n",
    "to study the conditions that enable the reproduction of economic activity and society"
   ]
  },
  {
   "cell_type": "markdown",
   "id": "479a687e",
   "metadata": {},
   "source": [
    "Изучение отношений между экономикой и окружающей средой - это опциональный факультатив для экономистов, из которых абсолютноке меньшинство выбирает его в качесвте направления карьеры. Разнообразие экономических подходов поддерживают общее утопическоее видение экономики роста и ядра рекомендаций по достижению успеха в состоянии постоянного ростующего потока обработки материалов и энергии 1. \n",
    " "
   ]
  },
  {
   "cell_type": "markdown",
   "id": "e2cb7e40",
   "metadata": {},
   "source": [
    "In contrast to all other economic approaches, the fundamental connection to biophysical reality has been at the heart of ecological economics. However, what has been\n",
    "inadequately addressed is the connection to society within which economies are also\n",
    "embedded. The result of not emphasising this explicitly has been to accept the adoption\n",
    "of formalistic approaches to combining environmental concerns with the economic. In\n",
    "this respect many ecological economists have maintained a concept of a formal economy\n",
    "that basically is regarded as efficiently allocating resources. This approach is no different from the resource and environmental economists who constitute a sub-disciplinary\n",
    "field of neoclassical economics. Difficulties then arise in differentiating between mainstream and heterodox economic approaches to the environment, especially when the\n",
    "latter merely add more stringent side constraints to the same models. In addition, systemic criticism of the existing economic arrangements in society have been lacking,\n",
    "e.g., corporate power, price setting markets, capital accumulation, the role of the State,\n",
    "the military-industrial complex. This is in part because natural scientists and neoclassical\n",
    "economists studying environment-economy interactions have had little or no concern\n",
    "for social reality."
   ]
  },
  {
   "cell_type": "markdown",
   "id": "34e17b11",
   "metadata": {},
   "source": [
    "Addressing the economy as a price-making market system and unifying economics\n",
    "under deductive mathematical modelling has involved the conversion of all entities into\n",
    "objects. Land, labour, and capital take the commodity form and become mechanical cogs\n",
    "in the economic machine. Hence economics conceptualises the world as human capital,\n",
    "social capital, cultural capital, and natural capital. This conversion into capital is a prime\n",
    "example of failure in scientific analysis, which needs to relate to the qualities of the actual\n",
    "objects of study (i.e., humans, society, culture, and Nature). Yet, as Karl Polanyi (1944)\n",
    "detailed long ago, this move is also an essential part of creating a real social structure\n",
    "that facilitates and enables the operation of the actual price-making market economy.\n",
    "What should then be evident is that the relationship between economic systems and\n",
    "their enabling social structures has been wilfully neglected and purposefully excluded\n",
    "from the analysis. The failure of the environmental critique of price-setting markets and\n",
    "the growth economy has been to focus on the exploitation of Nature alone, rather than\n",
    "recognising the commonalities with social exploitation that would have raised concerns\n",
    "over social structure."
   ]
  },
  {
   "cell_type": "markdown",
   "id": "d737b853",
   "metadata": {},
   "source": [
    "Thus, the aim of Social Ecological Economics is to rethink both mainstream and heterodox economics in their common caricature of economic potential and the dismissal of\n",
    "the possibility of alternative systems. Both typically adopt a utopian vision of economic growth and are subject to the critique of being divorced from reality. However, this is\n",
    "not to deny that some branches (e.g., evolutionary, critical institutional, feminist, social,\n",
    "neo-Marxist) of the heterodoxy hold more hope for a new economics because they are\n",
    "already aware of the failures of some aspects of the current system. An important concern\n",
    "here is the ontology (i.e., view of reality) adopted by the heterodoxy. For example, a\n",
    "fundamental point of departure from the mainstream is the recognition that the economy is an open system – requiring other systems for its inputs and disposal of its outputs.\n",
    "Still, the lack of attention to the social and ecological reality in which economic systems\n",
    "operate remains common, and as long as this situation persists, economists will continue\n",
    "in their failure to understand why humanity is facing a major social ecological transformation. Indeed, that transformation will then more likely be to a worse not better world,\n",
    "and reached by disaster and not design."
   ]
  },
  {
   "cell_type": "markdown",
   "id": "7123fa56",
   "metadata": {},
   "source": [
    "In this chapter, we briefly outline the Ecological Economics critique of economic\n",
    "thinking. In addition to the critique based on understanding biophysical reality, we\n",
    "emphasise placing economic understanding in the context of the necessary social structures. We then look at how Ecological Economics became a contended field of knowledge facing internal divisions between New Resource Economists, New Environmental\n",
    "Pragmatists and Social Ecological Economists. Only the latter is concerned with rethinking economics. That raises the need for new ways of thinking about interacting and stratified systems. Along the way, Critical Realism is introduced as being the best available\n",
    "philosophy of science to inform the foundation of a new Social Ecological Economic\n",
    "understanding. Finally, we turn to some future directions in which research needs to go,\n",
    "and mention the correspondence with the concerns of the degrowth movement, while\n",
    "also highlighting the threats to democratic aspirations of humanity."
   ]
  },
  {
   "cell_type": "markdown",
   "id": "63096fba",
   "metadata": {},
   "source": [
    "**The content and meaning of an ecological economics**"
   ]
  },
  {
   "cell_type": "markdown",
   "id": "96db97ec",
   "metadata": {},
   "source": [
    "The incorporation of the Laws of Thermodynamics into economics in the early 1970s\n",
    "was key to the revitalised understanding of economics that became Ecological Economics. The First Law of Thermodynamics states that mass, like energy, can be neither\n",
    "created nor destroyed in an isolated system. Strictly, Earth is an open system (exchanging\n",
    "both materials and energy with its wider surroundings), but is in effect a closed system\n",
    "because there is little significant materials exchange. Mainly Earth exchanges energy with\n",
    "the solar system."
   ]
  },
  {
   "cell_type": "markdown",
   "id": "5350bf4a",
   "metadata": {},
   "source": [
    "This means that human activities can transform but not destroy materials. An economic system that is based upon material throughput creates as much mass of waste as the\n",
    "resources it uses. These wastes go into Earth’s environmental systems, which must then\n",
    "assimilate them, if they can. Where assimilation fails, transformation occurs, with change\n",
    "subject to irreversibility and ecosystems being degraded in their functional capacity. This\n",
    "is a direct consequence of the First Law of Thermodynamics. Much emphasis in Ecological Economics has been placed on the scale of throughput activity and the need to constrain this (e.g., steady-state, degrowth), but the quality of materials being returned to\n",
    "the environment is also crucial to the impacts and resulting changes. This means that the\n",
    "type of human activities, and not just their scale, should be a central concern (e.g., toxic\n",
    "waste, radiation, genetic modification, microwave transmission, plastics)."
   ]
  },
  {
   "cell_type": "markdown",
   "id": "c3e6615f",
   "metadata": {},
   "source": [
    "The Second Law of Thermodynamics states that energy changes quality from useful\n",
    "(low entropy) to less useful (high entropy), heading towards an equilibrium of dissipation\n",
    "and all energy being of the same quality (in an isolated system). This process is irreversible\n",
    "unless energy is added from another system. Most notable amongst those exploring and\n",
    "exposing these issues and detailing their economic implications was Georgescu-Roegen\n",
    "(1971, 1975). The entropy law has been taken to imply absolute constraints on economic\n",
    "systems. That is, there are basic biophysical limits on what humans can do. Available\n",
    "highly concentrated (low entropy) mineral resources are limited, and available useful\n",
    "(low entropy) energy comes from such minerals, the Sun and the movement of the planets. The modern economy and the associated society is built upon and sustained by the\n",
    "first source, namely, fossil fuels.\n"
   ]
  },
  {
   "cell_type": "markdown",
   "id": "d8eec818",
   "metadata": {},
   "source": [
    "Georgescu-Roegen (1975) extrapolated from his interpretation of classical entropy\n",
    "as to the desirability of reduced growth and avoiding luxury items constituted of metals, which future generations would need for basic food production. The concept of\n",
    "social metabolism brings forward the work connected to an entropic view on the economy. Social metabolism addresses the biophysical exchange of materials and energy flows\n",
    "between human systems and Nature, taking also into consideration the causal mechanisms of their patterns and dynamics (Krausmann, 2017). A human body needs a continuous throughput of materials in order to survive – oxygen, food, water – which\n",
    "then are returned to the environment in the form of urea, excrement, carbon dioxide,\n",
    "methane, heat and so on. Similarly, a social economic system needs flows of material and\n",
    "energy for the production and reproduction of its biophysical structures: not only food\n",
    "and water, but also fuel, minerals, and raw materials. All the material and energy that a\n",
    "society extracts from the environment will undergo a transformation and will result in\n",
    "the production of waste"
   ]
  },
  {
   "cell_type": "markdown",
   "id": "de5f77b9",
   "metadata": {},
   "source": [
    "While the concept of social metabolism can be traced to the works of Marx, it was\n",
    "reintroduced in the 1960s, and has been developed since in the field of industrial ecology. The conceptual basis derives from the ‘materials balance theory’ of the 1970s, which\n",
    "traces the resources input to an economic system, through the production and consumption processes, to their final destination as wastes and emissions. That is, all resource\n",
    "inputs are traced to their equivalent pollution outputs. The implications of the materials\n",
    "balance work in conjunction with general equilibrium modelling is that all the prices in\n",
    "the economy are incorrect in terms of efficiency because everything has an associated\n",
    "environmental externality."
   ]
  },
  {
   "cell_type": "markdown",
   "id": "8b5efb1b",
   "metadata": {},
   "source": [
    "Social metabolism research over recent decades has revealed how industrialisation\n",
    "created a metabolic transition, that is an unprecedented rise in metabolic rates (the rate\n",
    "of throughput), and a shift to a low share of renewable biomass and a large amount\n",
    "of materials stored in stocks of built infrastructure (Spash and Schandl, 2009). It also provides a basis for understanding the material and energy basis for the reproduction of\n",
    "a variety of different human systems at different scales (e.g., nation States, cities, households). Technological optimists and those hoping to maintain the current economic\n",
    "system unchanged hope that economic growth can continue while material and energy\n",
    "inputs decline. Absolute dematerialisation or decoupling (divorcing economic growth\n",
    "from material consumption) is not occurring, and cases where it has been claimed empirically have proven to be instances of the delocalisation of production (e.g., offshoring\n",
    "resource intensive and polluting production activities). Another popular way to try to\n",
    "dismiss the relevance of biophysical reality is to claim the monetary value of output –\n",
    "typically measured as Gross Domestic Product (GDP) – is increasing relative to the use\n",
    "of resources. However, this relative decoupling is rather meaningless as far as impacts on\n",
    "ecosystems and social exploitation are concerned. Indeed the value of GDP can increase\n",
    "as more pollution requires clean-up and more people get sick; there is nothing better for\n",
    "GDP growth than a good disaster. As resources become scarcer, mainstream economics predicts their value should increase, which would, ceteris paribus, also mean GDP\n",
    "increasing in value for no change in material inputs."
   ]
  },
  {
   "cell_type": "markdown",
   "id": "1ffdcf96",
   "metadata": {},
   "source": [
    "Another reason why absolute (i.e., input per unit of total output) decoupling fails to\n",
    "materialise is what has become known as the rebound effect or Jevons’ Paradox (named\n",
    "after the economist William Stanley Jevons). This explains the counterbalancing of efficiency gains in resource use, due to technological improvements, by the increase in the\n",
    "rate of consumption of the same resource. Basically, as prices fall due to efficiency gains,\n",
    "consumers can consume more. For example, car engines today are far more efficient than\n",
    "they were in the 1970s, but car ownership has increased, people drive more, they take\n",
    "more journeys as individuals (no passengers) and overall consume more fuel. The engine\n",
    "that made cars cheaper and more fuel efficient did not save any fuel on aggregate. Thus,\n",
    "despite improvements in material use and productivity gains, growth in materials use\n",
    "continues to be a general feature of economic expansion in production and consumption."
   ]
  },
  {
   "cell_type": "markdown",
   "id": "d2898cbd",
   "metadata": {},
   "source": [
    "**From the ecological to the social**"
   ]
  },
  {
   "cell_type": "markdown",
   "id": "0e58eb36",
   "metadata": {},
   "source": [
    "The original thesis of limits to economic growth (Meadows et al., 1972) was presented as\n",
    "a scenario analysis that combined analysis of five causal mechanisms: population growth,\n",
    "accelerating industrialisation, adequacy of agricultural production, depletion of natural\n",
    "resources, and pollution. The scenarios resulted in collapse despite a wide variety of\n",
    "assumptions, but also the text mentioned briefly the expectation of social limits arriving\n",
    "before the biophysical ones. That is, war, breakdown of civil society and inequity would\n",
    "be likely before resources were exhausted."
   ]
  },
  {
   "cell_type": "markdown",
   "id": "858b7a45",
   "metadata": {},
   "source": [
    "In Ecological Economics, the limits to growth have also been highlighted by different kinds of social economists working from a range of perspectives: institutional,\n",
    "evolutionary, Marxist, sociological, eco-feminist, science and technology studies. Their\n",
    "concerns as Ecological Economists were at least partially inspired by previous criticisms of economic growth from within the economic profession, e.g., Karl William Kapp,\n",
    "Ezra. J. Mishan and John Kenneth Galbraith. Part of that critique concerns the fallacy of\n",
    "the sovereign consumer and the role of corporate capitalism in creating the illusion of an\n",
    "affluent society. This was the realisation of the American dream where private affluence\n",
    "for the few is bought at the cost of public squalor for the many. This led beyond biophysical limits into the realisation that there were also social limits to growth, as had been\n",
    "emphasised by Fred Hirsch (1977)."
   ]
  },
  {
   "cell_type": "markdown",
   "id": "29403dba",
   "metadata": {},
   "source": [
    "Ecological Marxism is articulated along three main lines of thinking (Douai, 2017):\n",
    "i the metabolic character of human labour, producing since the industrial era a ‘metabolic rift’, or a rift in the metabolic exchange between humanity and nature, which\n",
    "leads to a failure to sustain the condition of the earth’s reproduction (Foster, 2011);\n",
    " ii the double character of the commodity as use-value and exchange-value, with the\n",
    "latter increasingly dominant. Use value is associated with fundamental human needs,\n",
    "while exchange value is oriented to the pursuit of profit, creating a contradiction\n",
    "between capitalist production and the natural conditions of production (ibid);\n",
    "iii the ecological contradiction of capitalism founded for example on the double character of the capitalist labour process (as a fundamental dimension of social life and\n",
    "as a capitalist factor or production), or in the antagonistic relationship between the\n",
    "forces and relations of production and the conditions of production, the latter being\n",
    "the “non-capitalist social domains and publically provided infrastructures” that “furnish the necessary material and social conditions for commodity prodduction, market\n",
    "exchange and capitalist accumulation” (O’Connor, 1994, p. 106)."
   ]
  },
  {
   "cell_type": "markdown",
   "id": "4d066155",
   "metadata": {},
   "source": [
    "There are a range of contributors who have been active in discussing the relationship\n",
    "between Marxism/socialism and the political economy of Nature, and within the European Society for Ecological Economics there was early on a political ecology element\n",
    "(for references, see Spash and Ryan, 2012)."
   ]
  },
  {
   "cell_type": "markdown",
   "id": "030a7105",
   "metadata": {},
   "source": [
    "Ecofeminism has contributed to the analysis by pointing out that the labour theory of\n",
    "value downplays the reproductive dimension. That is, there has been a failure to realise\n",
    "how relations of production are reliant on a labour surplus through the generation of\n",
    "gender exploitation in the domestic sphere (Salleh, 2017). An ‘embodied materialism’ is\n",
    "‘materialist’ for endorsing the basic tools of a Marxist sociology, and ‘embodied’ because\n",
    "it is able to acknowledge the non-monetised regenerative activities performed by ‘everyday care labour’ (mostly performed by women) that are necessary for everyday life and\n",
    "for the global economy to function. In this light, eco-sufficiency refers to the capacity\n",
    "of this socially reproductive labour for provisioning without the production of social,\n",
    "embodied or ecological debt (ibid)."
   ]
  },
  {
   "cell_type": "markdown",
   "id": "9ef997bc",
   "metadata": {},
   "source": [
    "More generally, social economists emphasise human motivation and behaviour within\n",
    "social structures (e.g., organisations, culture). Critical institutional economists engaging\n",
    "in ecological economics emphasise formal rules, norms, and conventions or practices\n",
    "(Vatn, 2017). Current global environmental governance and patterns are dependent on global resource and power inequalities, which should make the study of power and conflict a central aspect of analysis. Mainstream economics totally fails on this front, and the\n",
    "spread of liberal and neoliberal idealism into neoclassical and macro economics has meant\n",
    "devotion to the single idea of individual autonomy and the denigration of planning and\n",
    "governance by government."
   ]
  },
  {
   "cell_type": "markdown",
   "id": "685b0eba",
   "metadata": {},
   "source": [
    "This exclusive emphasis on the individual and neglect of power means a total absence\n",
    "in economic analysis of the modern corporation and a failure to account for the rise of\n",
    "the banking and finance sectors. Methodological individualism adds to the poverty of\n",
    "analytical ability by denying the existence of society as something more than a bunch\n",
    "of individuals and as something epistemologically reducible to the individual. Society,\n",
    "understood as having emergent properties, is more complex but more realistic and meaningful. It also raises deep concerns over the dynamics of the interactions between economic and social institutions. As Polanyi (1944) explained, the modern market economy\n",
    "is a specific type and set of institutional arrangements, which requires a market society."
   ]
  },
  {
   "cell_type": "markdown",
   "id": "cfb2d7f3",
   "metadata": {},
   "source": [
    "**Divisions in the field**"
   ]
  },
  {
   "cell_type": "markdown",
   "id": "44bed357",
   "metadata": {},
   "source": [
    "Although Ecological Economics as a modern movement started at the basic level of\n",
    "trying to combine models from ecology and economics, developing a heterodox interdisciplinary research field with a distinct methodology and approach to ecological and\n",
    "social economic interactions was not on everyone’s agenda and has involved conflict.\n",
    "Lack of attention to the theoretical foundations of Ecological Economics has left it in\n",
    "a precarious and epistemologically confused position (Spash, 2012). More particularly,\n",
    "transdisciplinarity and methodological pluralism have been taken as core ideas by many\n",
    "in Ecological Economics, but with the result that critical theoretical reflection has been\n",
    "lacking. Association to mainstream economic ideas and incorporation of economic formalism have had severe impacts, from marginalisation of anything heterodox to the\n",
    "constitution of a confusing mix of papers regularly published in the journal Ecological Economics. In the extreme, this has been used by mainstream economists to reduce Ecological\n",
    "Economics to a subfield of orthodox environmental economics, as found in the standard\n",
    "classification system of the Journal of Economic Literature. Ecological Economics is populated by a variety of contributors and affiliates, who can be separated by their theoretical\n",
    "and ideological positions into three main camps: the new resource economists, the new\n",
    "environmental pragmatists, and social ecological economists (Spash, 2013)."
   ]
  },
  {
   "cell_type": "markdown",
   "id": "77a5bec4",
   "metadata": {},
   "source": [
    "New resource economists are embedded within free-market ideology and mainstream\n",
    "price theory, a utilitarian approach framed within a fact-value dichotomy, and the belief\n",
    "that ‘getting prices right’ is the key way forward for solving environmental problems.\n",
    "Efforts are taken to include ecosystem functions in economic models, within a framework of efficient and optimal resource use. In terms of methodology, the key approach is\n",
    "to use mathematical formalism to create abstract models, which are then meant to explain\n",
    "aspects of reality and make predictions about the future to advise policy."
   ]
  },
  {
   "cell_type": "markdown",
   "id": "fc02ef9c",
   "metadata": {},
   "source": [
    "New environmental pragmatists have been prevalent in Ecological Economics and,\n",
    "more generally, represent a mode of thinking that has spread throughout the environmental movement. They are focused on pushing methods and concepts because they\n",
    "are deemed to be effective under current political conditions and economic institutions\n",
    "(i.e., those of neoliberalism and capitalism). These pragmatists want to sell their environmental message in an appropriately marketable form that is acceptable to political,\n",
    "business and financial elites. In doing so, they buy into the methodology and ideology\n",
    "of commodifying, quantifying and pricing Nature. This form of pragmatic drive can be\n",
    "seen in a variety of work and the use of concepts such as ecosystem services valuation,\n",
    "natural capital, green accounting, carbon trading, and biodiversity offsets and banking.\n",
    "The distinguishing feature of new environmental pragmatism is the lack of concern\n",
    "for theoretical rigour, especially in the social sciences, and prioritisation of methods to\n",
    "achieve supposed ‘solutions’ on purely instrumental grounds. Environmentalism is then a\n",
    "practical problem solving activity, not a fundamental critique of the dominant structure\n",
    "of political economy and its treatment of human relationships with Nature"
   ]
  },
  {
   "cell_type": "markdown",
   "id": "333029ae",
   "metadata": {},
   "source": [
    "Social Ecological Economics is distinct from the other two main camps in aiming to\n",
    "address fundamental flaws of the existing economic orthodoxy, from consumer sovereignty to corporate structure and power politics. One crucial aspect is the acceptance of\n",
    "the ever changing world in which humans live, rather than pretending there is inherent\n",
    "stability and equilibrium. This perspective builds on the understanding of dynamics,\n",
    "emergence and systems change that can be found in a variety of work, including that\n",
    "on ecosystems, co-evolutionary development and complexity. The approach is inherently interdisciplinary, linking economics with a range of academic disciplines such as\n",
    "social psychology, sociology, applied philosophy, geography, politics, and the natural sciences. The potential for Social Ecological Economics is then in terms of helping develop\n",
    "a progressive social and environmental movement built on interdisciplinary research.\n",
    "Interdisciplinarity avoids the potential for an approach skating over the content of other\n",
    "disciplines, as too often seems to arise under references to transdisciplinarity as employed\n",
    "by the New Environmental Pragmatists."
   ]
  },
  {
   "cell_type": "markdown",
   "id": "597efb4e",
   "metadata": {},
   "source": [
    "A foundational aspect for Social Ecological Economics in terms of epistemology is a\n",
    "synthesis of realism and weak constructivism and the rejection of pluralist eclecticism.\n",
    "The approach rejects the scientific reduction of the natural environment to its physical\n",
    "characteristics and the strong constructivist position, which denies biophysical constraints\n",
    "on social life. Social Ecological Economics has a philosophy of science that is compatible\n",
    "with Critical Realism, which also aims to provide an understanding of the interaction\n",
    "between physical and social systems (Spash, 2012)."
   ]
  },
  {
   "cell_type": "markdown",
   "id": "d056ec6f",
   "metadata": {},
   "source": [
    "Critical Realism accepts that we can never demonstrate that we have discovered the\n",
    "truth, even if we have (fallibilism), but does not reject the idea of there being an underlying objective reality. The description under critical realism is of an ordered hierarchy of\n",
    "sciences at the structural level. There is real (ontological) difference in the strata, so they\n",
    "are not regarded as just cognitively (epistemologically) convenient. The real distinctions\n",
    "between the strata and their irreducibility of one to another (contra reductionism) are used to explain differences between the various sciences and the reason for a plurality of\n",
    "sciences to exist. So, for example, because everything is governed by the laws of physics,\n",
    "all biological entities are physical but not vice versa. Therefore biological sciences are\n",
    "embedded within the physical and, likewise, the social within the biological, and the formal economy within the social. At the level of structural mechanisms there is a one-way\n",
    "hierarchy. This type of embeddedness is one of the key messages Ecological Economists\n",
    "have been at pains to communicate, and especially that the economy is embedded in the\n",
    "Natural environment and subject to the Laws of Thermodynamics. Yet, embeddedness\n",
    "should not be confused with reductionism. Biology cannot be understood from physics,\n",
    "nor a human from studying cells, nor the social from the economic (Spash, 2012, 2015)."
   ]
  },
  {
   "cell_type": "markdown",
   "id": "744da87b",
   "metadata": {},
   "source": [
    "Social science, including economics, can be differentiated on a substantive basis from\n",
    "the natural sciences because it involves (contra Hume) an inseparability of facts and\n",
    "values. Understanding social phenomena (e.g., unemployment) requires addressing the\n",
    "real structural causes (e.g., financial institutions, government policy, world markets) and\n",
    "prevalent ideas. Those ideas appear as social attitudes and political behaviour. Thus,\n",
    "explanations arising from a social scientific study entail criticism of some ideas in society.\n",
    "Furthermore, there is often a functional relationship between organisations that cause\n",
    "false beliefs and beliefs about those organisations. False beliefs may be spread in order to\n",
    "preserve an organisation, its power and associated institutions. Thus, the rhetoric of the\n",
    "liberating character of ‘free-markets’ and benefits of material growth may be used by\n",
    "corporations and governments extracting resources, dislocating indigenous populations\n",
    "and creating environmental destruction. In such cases, to propound the truth is not just\n",
    "to criticise, but to undermine the institution. Explanations of social institutions are a\n",
    "precondition of criticising and changing them, and sometimes the critique will begin the\n",
    "work of their subversion. Open realisation and acceptance of this position makes Social\n",
    "Ecological Economics far more radical than orthodox economics, which pretends to give\n",
    "objective, value-free advice while actually supporting the existing institutional structures."
   ]
  },
  {
   "cell_type": "markdown",
   "id": "51d93a27",
   "metadata": {},
   "source": [
    "**Future directions**"
   ]
  },
  {
   "cell_type": "markdown",
   "id": "9c7ec3ad",
   "metadata": {},
   "source": [
    "Social Ecological Economics is concerned about the policy consequences of its arguments, openly claims ethical positions rather than neutrality, accepts that values can be\n",
    "disputed and incommensurable, recognises distributional issues (e.g., inequity) as a primary issue, and is concerned with the ecologically based needs to address the scale and\n",
    "quality of human activity. Distributional concerns and a critique of the growth imperative have recently given rise to an emerging field of research envisioning a social ecological transformation, connecting more particularly to the degrowth critique and increasing\n",
    "realisation of the necessity of envisioning a post-growth society."
   ]
  },
  {
   "cell_type": "markdown",
   "id": "61df06cd",
   "metadata": {},
   "source": [
    "Building on Ecological Economics, the degrowth critique has argued that growth is\n",
    "not only ecologically unsustainable but also unjust and unfeasible in the long term, and is no longer improving human well-being (Asara et al., 2013). Degrowth could be defined\n",
    "as a democratically led redistributive downscaling of production and consumption in\n",
    "industrialised countries and of the role of markets as a central organising principle of\n",
    "human life, as a means to achieve environmental sustainability, social justice and wellbeing (Sekulova et al., 2013). Degrowth has been argued to involve a social ecological\n",
    "transformation (Asara et al., 2015). The critique is of policies that: recommend marginal\n",
    "adjustments to economic and social systems in response to crises, describe transition as\n",
    "maintaining pre-existing economic capital accumulating trajectories, and fail to question\n",
    "the hegemonic neoliberal mode of governance. The concept of transformation implies\n",
    "the need to go beyond simply protesting against business-as-usual and to actively create new meanings and social practices. This requires research into alternative economic\n",
    "modes of production, political institutions, ideologies, and societal norms. Transformations involve multiple scales of governance and system levels, from the local to the\n",
    "regional, national, and international"
   ]
  },
  {
   "cell_type": "markdown",
   "id": "9631b555",
   "metadata": {},
   "source": [
    "Social Ecological Economics raises concerns over the meaning of democracy. Much\n",
    "of the environmental movement, including degrowth, emphasises a vision of democracy\n",
    "with participation, decentralised institutions, local production, and grassroots activism.\n",
    "This leaves open questions about coordination between spatially divided institutions and\n",
    "governance at other levels, besides the local. A research agenda involving political institutional analysis is required to address the conditions necessary to achieve democracy\n",
    "without a capital accumulating regime. Global processes spreading the institutions of\n",
    "neoliberal political economy, along with the creation of fictitious commodities (e.g., carbon as a tradable permit) and the spread of military intervention and strengthening of\n",
    "‘security’ measures, point to society going in the opposite direction. These are the institutions of competition and domination"
   ]
  },
  {
   "cell_type": "markdown",
   "id": "8ece5cb5",
   "metadata": {},
   "source": [
    "Therein also lies the major challenge for anyone seriously concerned about the current\n",
    "direction of humanity. The economic system that has been established is one in which\n",
    "inequity is created and reinforced, resources are used in vast quantities by a minority,\n",
    "social and environmental costs are shifted onto the innocent and powerless, and all the\n",
    "time most economists talk about none of this but only efficiency. That efficiency is only\n",
    "one amongst many competing possible goals, and is itself a contentious basis for evaluation of economic systems and their performance, does not even appear to be in the\n",
    "universe of thought for most economists. This engineering mentality to life has wiped\n",
    "out the ethical approach to economics that once gave it some meaning."
   ]
  },
  {
   "cell_type": "markdown",
   "id": "53bdac1f",
   "metadata": {},
   "source": [
    "The economy, understood as a means of provision and transfer of resources, neither\n",
    "requires efficiency nor does it work on the basis of efficiency today. There is nothing efficient in mass consumerism, conspicuous consumption, built-in obsolescence, the\n",
    "fashion society, competition, environmental degradation, and destruction or resource\n",
    "wars, let alone the multi-national corporation. The concept is often totally vacuous\n",
    "because there is no judgement as to what makes an action meaningful, let alone an ethical use of resources."
   ]
  },
  {
   "cell_type": "markdown",
   "id": "74024e44",
   "metadata": {},
   "source": [
    "**Conclusions**"
   ]
  },
  {
   "cell_type": "markdown",
   "id": "590ccb10",
   "metadata": {},
   "source": [
    "The field of Ecological Economics covers biology, ecology, thermodynamics, wellbeing, consumption, future generations, environmental values and ethics, uncertainty\n",
    "and ignorance, science policy, participation, and deliberation (see original works by various authors collected together in four volumes by Spash, 2009). This overview chapter gives a flavour of this content and does not attempt to be comprehensive. (For a\n",
    "recent collection of 50 articles, see Spash, 2017)."
   ]
  },
  {
   "cell_type": "markdown",
   "id": "698a8505",
   "metadata": {},
   "source": [
    "The basic ontology of Ecological Economics emphasises the stratification of reality.\n",
    "This means, at the most general level, that any economic system is embedded in a natural\n",
    "system. The fact that humans are bound within the structure of Nature, despite their\n",
    "innovative activities, means there are fundamental and foundational limits to the material\n",
    "and energy-based growth of any and all economic systems. This highlights the need for\n",
    "anyone concerned with the maintenance and stability of an economic system to address\n",
    "both the scale and type of economic activity."
   ]
  },
  {
   "cell_type": "markdown",
   "id": "0ac0f668",
   "metadata": {},
   "source": [
    "In addition, the relationship of economies to societies is something social economists\n",
    "have emphasised but which has been too often neglected by environmentalists and is\n",
    "excluded from mainstream economics and all approaches based upon methodological\n",
    "individualism. The need of the market economy to convert society to a market society\n",
    "then has ongoing repercussions. That another economy and society are just as feasible\n",
    "and viable is at the heart of rethinking economics."
   ]
  },
  {
   "cell_type": "markdown",
   "id": "1232a250",
   "metadata": {},
   "source": [
    "**Note**"
   ]
  },
  {
   "cell_type": "markdown",
   "id": "8b322f0a",
   "metadata": {},
   "source": [
    "1 Throughput is the term used to refer to the flow of material and energy through a system\n",
    "that maintains a given state of that system (e.g., the biological metabolism of an animal).\n",
    "Economic systems are then regarded as having a social metabolism (see Krausmann, 2017);\n",
    "discussed later in this chapter."
   ]
  }
 ],
 "metadata": {
  "kernelspec": {
   "display_name": "Python 3 (ipykernel)",
   "language": "python",
   "name": "python3"
  },
  "language_info": {
   "codemirror_mode": {
    "name": "ipython",
    "version": 3
   },
   "file_extension": ".py",
   "mimetype": "text/x-python",
   "name": "python",
   "nbconvert_exporter": "python",
   "pygments_lexer": "ipython3",
   "version": "3.10.8"
  },
  "latex_envs": {
   "LaTeX_envs_menu_present": true,
   "autoclose": false,
   "autocomplete": true,
   "bibliofile": "biblio.bib",
   "cite_by": "apalike",
   "current_citInitial": 1,
   "eqLabelWithNumbers": true,
   "eqNumInitial": 1,
   "hotkeys": {
    "equation": "Ctrl-E",
    "itemize": "Ctrl-I"
   },
   "labels_anchors": false,
   "latex_user_defs": false,
   "report_style_numbering": false,
   "user_envs_cfg": false
  },
  "toc": {
   "base_numbering": 1,
   "nav_menu": {},
   "number_sections": true,
   "sideBar": true,
   "skip_h1_title": false,
   "title_cell": "Table of Contents",
   "title_sidebar": "Contents",
   "toc_cell": false,
   "toc_position": {},
   "toc_section_display": true,
   "toc_window_display": false
  }
 },
 "nbformat": 4,
 "nbformat_minor": 5
}
