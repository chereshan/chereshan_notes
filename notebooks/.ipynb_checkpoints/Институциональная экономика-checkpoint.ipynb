{
 "cells": [
  {
   "cell_type": "markdown",
   "id": "3eb0bb8b",
   "metadata": {},
   "source": [
    "**Институциональная экономика**"
   ]
  },
  {
   "cell_type": "markdown",
   "id": "b3a95403",
   "metadata": {},
   "source": [
    "**What are institutions and what\n",
    "is institutional economics?**\n"
   ]
  },
  {
   "cell_type": "markdown",
   "id": "f0153f42",
   "metadata": {},
   "source": [
    "Institutional economics can be defined as the study of institutions in the economy. It\n",
    "is now a major sub-field, with important applications to studies of business, developing\n",
    "economies, transitional economies, property rights and much else. It has already had a\n",
    "widely acknowledged impact on economics and other social sciences. Prominent names\n",
    "in modern ‘new’ institutional economics include Nobel Laureates Friedrich Hayek,\n",
    "Ronald Coase, Douglass North, Elinor Ostrom and Oliver Williamson. An older, ‘original’ tradition of institutional economics was prominent in the USA in the first half of\n",
    "the twentieth century"
   ]
  },
  {
   "cell_type": "markdown",
   "id": "fd2e075d",
   "metadata": {},
   "source": [
    "This essay addresses both of these traditions in institutional economics. It must be\n",
    "emphasised that the ‘new’ and ‘original’ traditions are both internally highly diverse, that\n",
    "there is significant overlap between them, that some ‘new’ institutional researchers do\n",
    "work that takes up ideas and themes in the original institutionalism, and that important\n",
    "elements of both traditions are complementary rather than rivalrous."
   ]
  },
  {
   "cell_type": "markdown",
   "id": "d510645e",
   "metadata": {},
   "source": [
    "There are several ways of defining institutional economics, but one is relatively clear\n",
    "and straightforward. Start with the word ‘economics’. This discipline has contrasting\n",
    "definitions, including the “science of choice” (Robbins, 1932). This ‘science of choice’\n",
    "definition appears in many textbooks, but for most of its history economics (or political\n",
    "economy, as it used to be called) has been regarded as the study of the economy. As the great\n",
    "English economist Alfred Marshall (1920, p. 1) put it: “Political Economy or Economics\n",
    "is the study of mankind in the ordinary business of life” and it concerns the attainment\n",
    "and the use of the “requisites of wellbeing”. In short, economics is the study of the production and distribution of wealth and its role in human welfare"
   ]
  },
  {
   "cell_type": "markdown",
   "id": "8bc47c7b",
   "metadata": {},
   "source": [
    "Now turn to the word ‘institutional’. There are important debates about the definition of an institution, but a consensus is emerging that all institutions are systems of\n",
    "embedded social rules, even if that definition needs nuancing in some ways and some important controversies remain.1\n",
    " Such rules include laws, customs and established norms\n",
    "of behaviour. Consequently, systems of rules such as languages and codes of etiquette are\n",
    "institutions. Money is an institution because it entails shared rules concerning its value,\n",
    "function and exchangeability. Organisations such as states, banks, firms and universities\n",
    "are systems of rules, and hence also institutions. Accordingly, ‘institutional economics’\n",
    "becomes the study of those institutions that are tied up with the economy and the production and distribution of wealth. In brief, institutional economics is the study of economic\n",
    "institutions"
   ]
  },
  {
   "cell_type": "markdown",
   "id": "6ae4f47f",
   "metadata": {},
   "source": [
    "Note that neither economics nor institutional economics is defined here in terms of\n",
    "(say) analytical techniques or basic assumptions, such as rationality or utility maximisation, but rather in terms of the real objects of analysis – the institutional frameworks of\n",
    "economic activity. Given this orientation towards real objects of analysis, there is the\n",
    "possibility of recruiting insights from other disciplines – such as philosophy, psychology,\n",
    "law, history, sociology and political science – into the study of economic institutions.\n",
    "Other disciplines can contribute to our understanding of that real domain."
   ]
  },
  {
   "cell_type": "markdown",
   "id": "4b4ef539",
   "metadata": {},
   "source": [
    "The remainder of this essay is divided into five further sections. Section 2 offers a brief\n",
    "history of institutional economics. Section 3 considers some examples of the growing\n",
    "recognition of the importance of institutions in the analysis of economic growth and\n",
    "development. Section 4 addresses the nature and role of the individual and his or her\n",
    "motivations. Section 5 discusses property rights, the role of law and transaction costs.\n",
    "Section 6 concludes the essay with some brief remarks on the development of institutional economics in the future."
   ]
  },
  {
   "cell_type": "markdown",
   "id": "5c3eb173",
   "metadata": {},
   "source": [
    "**A brief history of institutional economics**"
   ]
  },
  {
   "cell_type": "markdown",
   "id": "54bca7e3",
   "metadata": {},
   "source": [
    "The original institutional economics existed in the United States in the first half of the\n",
    "twentieth century. It was inspired by Thorstein Veblen, Wesley C. Mitchell, John R.\n",
    "Commons and other American economists. For a while this earlier tradition was pervasive in leading American universities and research institutes (Rutherford, 2001, 2011;\n",
    "Hodgson, 2004). Even after World War II, the original institutionalism retained some\n",
    "influence. For example, the popular and prolific writer John Kenneth Galbraith synthesised original institutionalist and Keynesian views. The economists Simon Kuznets (originally from Belarus but became a US citizen) and Gunnar Myrdal (from Sweden) were\n",
    "aligned to the original institutionalism and they won Nobel Prizes in 1971 and 1974,\n",
    "respectively. The American Nobel Laureates Elinor Ostrom (2004), Herbert Simon\n",
    "(1979, p. 499) and Oliver Williamson (1975, pp. 3, 254; 1985, pp. 3–5) have all reported\n",
    "that they were influenced by Commons in particular."
   ]
  },
  {
   "cell_type": "markdown",
   "id": "79f196ab",
   "metadata": {},
   "source": [
    "A common theme in the original institutionalism, from the writings of Veblen in\n",
    "the 1890s to those of Galbraith up to a century later, is the notion that the individual\n",
    "is not a given, but can be affected fundamentally by institutions or culture. Individual\n",
    "tastes and preferences are context dependent. This contrasts with a prominent approach in mainstream economics where individual tastes and preferences are taken as given, or\n",
    "fixed through life. Instead, original institutionalists emphasize how people are affected\n",
    "by culture and institutions, and can develop different preferences. For instance, Veblen\n",
    "(1909, p. 629) wrote of the “wants and desires, the end and aim, the ways and the\n",
    "means . . . of the individual’s conduct” being affected by changing institutional circumstances. Similarly, the American institutional economist Clarence Ayres (1944, p. 84)\n",
    "explained: “ ‘wants’ are not primary. . . . They are social habits. For every individual their\n",
    "point of origin is in the mores of his community”."
   ]
  },
  {
   "cell_type": "markdown",
   "id": "f6a905bd",
   "metadata": {},
   "source": [
    "The idea that individual tastes and preferences are not given, but are shaped by institutional or cultural circumstances, and by particular influences such as advertising, is also\n",
    "a major theme in the writings of Galbraith. For instance, Galbraith (1969, p. 152) insisted\n",
    "that individual “wants can be synthesised by advertising, catalysed by salesmanship, and\n",
    "shaped by the discreet manipulations of the persuaders”. Advertising is often more than\n",
    "mere information: it can subtly alter our preferences."
   ]
  },
  {
   "cell_type": "markdown",
   "id": "c79ceb69",
   "metadata": {},
   "source": [
    "This does not imply a neglect of individual power or agency. Veblen and Commons\n",
    "recognised that individuals create and change institutions, just as institutions mould and\n",
    "constrain individuals (Hodgson, 2004).2\n",
    " The original institutionalism is not necessarily\n",
    "confined to a ‘top-down’ view where every individual is seen simply as a reflection of\n",
    "cultural or institutional circumstances. Veblen and others recognised that individuals\n",
    "differ from one another, even in one culture, and that they are active and creative agents."
   ]
  },
  {
   "cell_type": "markdown",
   "id": "76c12c64",
   "metadata": {},
   "source": [
    "The original institutionalism was diverse and varied. Its practitioners worked on a\n",
    "variety of topics, from microeconomics to macroeconomics, influencing labour economics, industrial economics, agricultural economics, development economics, public\n",
    "policy, the study of business cycles, national income accounting, macroeconomic policy\n",
    "and much else."
   ]
  },
  {
   "cell_type": "markdown",
   "id": "cbd613cd",
   "metadata": {},
   "source": [
    "Before 1930 there was relatively little mathematics in economics. Thereafter, economists became increasingly persuaded about the importance of mathematics. Mathematics\n",
    "is an important tool, but the kind of mathematics adopted tended to squeeze out institutional analysis."
   ]
  },
  {
   "cell_type": "markdown",
   "id": "e55306fc",
   "metadata": {},
   "source": [
    "For example, instead of a detailed examination of the institutional structure of the\n",
    "firm, economists began to treat it simply as a ‘production function’ (a mathematical\n",
    "function such as Q = f(K, L), relating inputs such as capital and labour to outputs). This\n",
    "was deemed to be sufficient to model the process of production, at both the firm and\n",
    "national levels."
   ]
  },
  {
   "cell_type": "markdown",
   "id": "1f18df07",
   "metadata": {},
   "source": [
    "\n",
    "In this vein, economists developed an approach described as ‘growth accounting’.\n",
    "Using aggregate data on economic growth, and assuming standard production functions,\n",
    "attempts were made to attribute the growth over time as a consequence of changes in the\n",
    "inputs of capital or labour. One of the seminal contributions in this genre was by Robert\n",
    "Solow (1957). But this and subsequent studies found that measured capital and labour\n",
    "could not account for a large part of the economic growth. At the time it was argued that\n",
    "this unexplained residual was due to technological change, but there was no adequate\n",
    "and independent measure of technology to confirm this view."
   ]
  },
  {
   "cell_type": "markdown",
   "id": "f0ce8040",
   "metadata": {},
   "source": [
    "A group of economists suggested that institutions should be re-introduced into the\n",
    "picture. For example, in an influential paper studying the historical growth of international maritime trade from the seventeenth to the nineteenth century, Douglass North\n",
    "(1968) argued that technological change was not the preeminent driver of increased productivity that many economic historians had claimed. More important was the reduction\n",
    "in piracy, the development of a few large ports, and the growth of larger, more organised\n",
    "markets. These developments were related to more effective political, military and legal\n",
    "institutions, and they helped explain much of the productivity gains since 1600."
   ]
  },
  {
   "cell_type": "markdown",
   "id": "c7174e6f",
   "metadata": {},
   "source": [
    "Mancur Olson (1982) also brought empirical data on institutions into the explanation\n",
    "of economic growth. By that time, Oliver Williamson (1975) had advanced the analysis of the institutional structure of the firm, and North (1981) and others had showed\n",
    "the importance of institutions in understanding the rise of modern economies. After an\n",
    "almost-complete absence of about half a century, institutions were firmly back on the\n",
    "agenda."
   ]
  },
  {
   "cell_type": "markdown",
   "id": "9491d784",
   "metadata": {},
   "source": [
    "Coase, North and Williamson described themselves as ‘new institutional economists’.\n",
    "They brought in new ideas, such as the concept of ‘transaction costs’: these are broadly\n",
    "defined as the costs of negotiating and enforcing contracts. Transaction costs were shown\n",
    "to be of major significance in our understanding of the role of institutions."
   ]
  },
  {
   "cell_type": "markdown",
   "id": "230aa2d8",
   "metadata": {},
   "source": [
    "Institutional economists do not reject the use of mathematics but focus on complex,\n",
    "relational and qualitative phenomena that are often difficult to model mathematically.\n",
    "This means that institutional economics is generally less mathematical than mainstream\n",
    "economics, although some institutional economists now make extensive use of tools such\n",
    "as game theory, agent-based modelling and econometrics."
   ]
  },
  {
   "cell_type": "markdown",
   "id": "e11eff87",
   "metadata": {},
   "source": [
    "A more detailed look at both the original and new institutionalisms shows that while\n",
    "they were historically distinctive and products of their times, they have been both highly\n",
    "internally varied and often evolving schools of thought. Consequently, there is some\n",
    "overlap between ideas in the two traditions. The theoretical boundaries between the\n",
    "‘old’ and the ‘new’ institutionalism have become less distinct (Dequech, 2002; Hodgson,\n",
    "2004, 2014)."
   ]
  },
  {
   "cell_type": "markdown",
   "id": "f1d81be3",
   "metadata": {},
   "source": [
    "In addition, there is a wide divergence of policy views among institutional economists,\n",
    "including within both the ‘original’ and ‘new’ camps. Among themselves, institutional\n",
    "economists disagree widely on the question of the best amount of state intervention in\n",
    "the economy and on the optimal extent of market regulation. Institutional economics is\n",
    "not defined in terms of a particular policy approach, although it does always pay attention\n",
    "to the role of institutions."
   ]
  },
  {
   "cell_type": "markdown",
   "id": "63d9e8ae",
   "metadata": {},
   "source": [
    "**Institutional economics and economic development**"
   ]
  },
  {
   "cell_type": "markdown",
   "id": "84d52b4b",
   "metadata": {},
   "source": [
    "To illustrate how institutional factors can affect economic growth, consider the case of\n",
    "growth in China. China began to grow rapidly when it introduced market reforms after\n",
    "1978. But after spectacular economic expansion from 1980 to 2015, with average growth rates around 9 per cent per annum, there is now clear evidence of a slowdown, with\n",
    "current rates of GDP growth around 6 per cent per annum. How can this slowdown be\n",
    "explained?"
   ]
  },
  {
   "cell_type": "markdown",
   "id": "7b794268",
   "metadata": {},
   "source": [
    "Some prominent models predict long-continuing rapid growth. Many of these studies\n",
    "use standard production functions. Most optimistically, Nobel Laureate Robert Fogel\n",
    "(2010) predicted that China’s GDP will grow at an average rate of about 8 per cent until\n",
    "2040, by which time its GDP per capita would be twice that of Europe and similar to\n",
    "that of the USA. But China’s GDP growth is already well below Fogel’s forecast. The\n",
    "production function approach has limitations because it generally sidelines institutions.\n",
    "It does not take into account the kind of institutional changes that are needed to bring\n",
    "China into the range of middle-income countries."
   ]
  },
  {
   "cell_type": "markdown",
   "id": "a893b68b",
   "metadata": {},
   "source": [
    "Examination of the institutional transformations required to develop China further\n",
    "suggest that there are structural and institutional difficulties in the way. Unless overcome,\n",
    "they are likely to cause a further growth slowdown. China has acknowledged institutional problems in several areas, including national political governance, corporate law,\n",
    "property law, finance and land tenure (Hodgson and Huang, 2013). China has yet to\n",
    "develop a modern legal system that is sufficiently independent from political interference.\n",
    "The security of private enterprise depends on this. Land is largely owned by local collectives, limiting the legal rights of farmers to control or sell the land that they have been\n",
    "allocated. Although it is very difficult to develop a predictive model using institutional\n",
    "variables, institutional analysis can highlight important areas where institutional changes\n",
    "are needed."
   ]
  },
  {
   "cell_type": "markdown",
   "id": "4cd27eaa",
   "metadata": {},
   "source": [
    "Accordingly, Daron Acemoglu and James Robinson (2012, p. 442) argued that big\n",
    "changes in China’s political institutions will be required to sustain future growth. In particular, a more pluralist political system will be required, with adequate countervailing\n",
    "power. This could help to make the legal system much more independent, so that it is\n",
    "more able to protect citizens and corporations from arbitrary confiscations by the state"
   ]
  },
  {
   "cell_type": "markdown",
   "id": "0f5f4d9b",
   "metadata": {},
   "source": [
    "The division of Korea into North and South after 1953 also illustrates the importance\n",
    "of institutions. In 1960 the two halves of Korea were at a similar level of development.\n",
    "The North adopted Communist central planning and the South a mixed system of private and public enterprise. By 2010 GDP per capita in the South was about 17 times\n",
    "greater than that in the North. Daron Acemoglu et al. (2005) pointed out that the two\n",
    "Koreas do not differ greatly in terms of resources, culture or climate, yet growth in the\n",
    "South has greatly exceeded that in the Communist North. A major explanation for this\n",
    "divergence must be the differences in economic institutions."
   ]
  },
  {
   "cell_type": "markdown",
   "id": "9faf6877",
   "metadata": {},
   "source": [
    "Acemoglu and his colleagues have also suggested that different forms of colonialism\n",
    "have led to very different economic outcomes. On the one hand, in North America,\n",
    "Australia and a few other places, the British colonisers made a deliberate attempt to set\n",
    "up legal and governmental institutions similar to those in their homeland. British laws\n",
    "and political institutions were copied and modified. On the other hand, Britain and other\n",
    "European colonisers in Africa and South America, partly for reasons of disease in the\n",
    "tropical climate, were less inclined to build up European institutions that are conducive to development. The colonisers focused instead on the (often brutal) extraction of slaves\n",
    "and raw materials. According to Acemoglu et al. (2005), these different founding institutions largely explain subsequent divergence of economic performance."
   ]
  },
  {
   "cell_type": "markdown",
   "id": "a05b53e8",
   "metadata": {},
   "source": [
    "Acemoglu and Robinson (2012) also pointed to the vivid example of the city of\n",
    "Nogales, which is cut in half by the border between the USA and Mexico. They noted\n",
    "the spectacular differences in average income, education, and health between the two\n",
    "parts of the divided city. They explained this in terms of the different political and legal\n",
    "institutions in the two countries. In Mexico the legal system is more corrupt and less\n",
    "efficient and hence less able to enforce contracts and protect property."
   ]
  },
  {
   "cell_type": "markdown",
   "id": "d3863620",
   "metadata": {},
   "source": [
    "There is now widespread recognition that institutions are major factors in helping to\n",
    "explain economic development. This has opened up a large arena of empirical research\n",
    "and policy discussion."
   ]
  },
  {
   "cell_type": "markdown",
   "id": "52b3fd5f",
   "metadata": {},
   "source": [
    "**Institutional economics, the individual\n",
    "and individual motivation**"
   ]
  },
  {
   "cell_type": "markdown",
   "id": "6edeaf25",
   "metadata": {},
   "source": [
    "Mainstream economists often assume that the individual acts like a rational calculator,\n",
    "maximising his or her own utility (or satisfaction). By contrast, most leading institutional\n",
    "economists – including Veblen, Commons, Coase, North and Williamson – have emphasised that the individual has limited information and is often unable to appraise the optimal\n",
    "position."
   ]
  },
  {
   "cell_type": "markdown",
   "id": "22dd8136",
   "metadata": {},
   "source": [
    "Important here is the idea of ‘bounded rationality’ as developed by Herbert Simon\n",
    "(1957, 1979). He argued that individual rationality is ‘bounded’ because of limited information or limited capacity to analyse highly complex situations or problems. Among\n",
    "others, North and Williamson both emphasised bounded rationality."
   ]
  },
  {
   "cell_type": "markdown",
   "id": "aba7bed0",
   "metadata": {},
   "source": [
    "But in other respects there are differences among institutional economists on how\n",
    "they understand individual motivation. Veblen (1899) notably emphasised habits. These\n",
    "are formed through repetition of action or thought. They are influenced by prior activity and have durable, self-sustaining qualities. But contrary to some popular formulations, habit here does not mean behaviour. It is a propensity to behave in particular\n",
    "ways in a particular class of situations (Camic, 1986; Ouellette and Wood, 1998; Wood\n",
    "et al., 2002)."
   ]
  },
  {
   "cell_type": "markdown",
   "id": "cee1b6ff",
   "metadata": {},
   "source": [
    "A habit may exist even if it is not manifest in behaviour. Habits are potential behaviours,\n",
    "and they can be triggered by an appropriate stimulus or context. Our knowledge of a language, or a skill like riding a bicycle, is embedded into our habits and is triggered by specific circumstances. These ingrained habits do not dominate our behaviour all the time."
   ]
  },
  {
   "cell_type": "markdown",
   "id": "a44f3a2b",
   "metadata": {},
   "source": [
    "By contrast, some mainstream economists see habit as regular behaviour – rather\n",
    "than a propensity – and then try to explain it as a utility-maximising individual making\n",
    "repeatedly similar choices. By contrast, the Veblenian approach regards habits, rather\n",
    "than choice, as primary: the capacity to choose, and to reason about choices, comes after\n",
    "the formation of crucial habits of cognition, thought or behaviour (Hodgson, 2004)."
   ]
  },
  {
   "cell_type": "markdown",
   "id": "50656acc",
   "metadata": {},
   "source": [
    "The Veblenian concept of habit points to a crucial psychological mechanism by which\n",
    "institutions may affect individuals. Insofar as individuals are constrained or motivated to\n",
    "follow particular institutional norms or rules, they tend to strengthen habits that are consistent with this behaviour. They may then rationalise these outcomes in terms of preference or choice (Hodgson, 2010; Hodgson and Knudsen, 2004). According to this view,\n",
    "conscious choices are generally the outcome of habits, rather than the other way around."
   ]
  },
  {
   "cell_type": "markdown",
   "id": "6006b975",
   "metadata": {},
   "source": [
    "Other institutional economists pay less attention to underlying psychological processes, focusing principally on the choosing actor and his or her information and incentives. Examples here include Coase’s (1937) and Williamson’s (1975, 1985) transaction\n",
    "cost analysis of the firm and Schotter’s (1981) game-theoretic analysis of institutions.\n",
    "Generally these newer approaches do not probe the possibility that individual preferences or capabilities may be moulded or changed by different institutional circumstances\n",
    "(Hodgson and Knudsen, 2004, 2007)."
   ]
  },
  {
   "cell_type": "markdown",
   "id": "2bb8ee15",
   "metadata": {},
   "source": [
    "But North (1981, 1990, 1994) was increasingly an exception, as he delved further\n",
    "into how ideologies and other cognitive factors can frame our thoughts and preferences,\n",
    "in specific institutional and cultural environments. He pointed to the limits of the standard rational-choice framework. He wrote: “History demonstrates that ideas, ideologies,\n",
    "myths, dogmas and prejudices matter; and an understanding of the way they evolve is\n",
    "necessary. . . . Belief structures get transformed into societal and economic structures by\n",
    "institutions” (North, 1994, pp. 362–363). This recognition of social influences on individual cognition placed North very close to the original institutionalists (Groenewegen\n",
    "et al., 1995, Rutherford, 1995)."
   ]
  },
  {
   "cell_type": "markdown",
   "id": "77350074",
   "metadata": {},
   "source": [
    "The starting point of a given individual (with fixed and enduring tastes and preferences) is problematic. It could be a temporary explanatory simplification, but ultimately\n",
    "we need to probe further. Individual choice requires a conceptual framework to make\n",
    "sense of the world. The reception of information by individuals requires cognitive norms\n",
    "and frames to process and make sense of that information. As the original institutionalists\n",
    "argued, the transmission of information from individual to individual is impossible without immersion in a common culture, in which the individual learns the meaning and\n",
    "value of the information that is communicated."
   ]
  },
  {
   "cell_type": "markdown",
   "id": "d5ae6c04",
   "metadata": {},
   "source": [
    "There are also problems with the idea that we can explain institutions exclusively in\n",
    "terms of individuals. Even the most basic institutions involve human interaction, typically utilising some kind of language. Language itself is an institution (Searle, 1995;\n",
    "Hodgson, 2006). The communication of information requires shared conventions, rules,\n",
    "routines and norms. Consequently, any project to explain the emergence of institutions\n",
    "on the basis of given individuals runs into difficulties, particularly with regard to the\n",
    "conceptualisation of the initial state from which institutions are supposed to emerge. This\n",
    "problem is recognised by some new institutionalists (Aoki, 2001)."
   ]
  },
  {
   "cell_type": "markdown",
   "id": "00e288bc",
   "metadata": {},
   "source": [
    "But the stress on individual agency is important. In particular, it points to the role\n",
    "of individual motivation and incentives. But within the new institutionalism there is a\n",
    "difference of views on how individual motivation is understood or modelled, ranging\n",
    "from proponents of utility maximisation (where all behaviour is explained in terms of attempts to increase utility or satisfaction) to those like Coase and North, who adopted a\n",
    "more nuanced view of human nature (which addresses multiple factors, including moral\n",
    "motivation and possible altruism, as well as greed). To understand human motivation\n",
    "there is a strong case for bringing in insights from psychology, as institutionalists such as\n",
    "Veblen (1899) and North (1990) have argued. There is also a place for evolutionary ideas\n",
    "to help explain the nature of human motivation (Hodgson, 2013)."
   ]
  },
  {
   "cell_type": "markdown",
   "id": "29020481",
   "metadata": {},
   "source": [
    "Relatedly, Jack Knight (1992) criticised much of the new institutionalist literature for\n",
    "neglecting the importance of distributional and power considerations in the emergence\n",
    "and development of institutions. Importantly, Elinor Ostrom (1990) emphasised the role\n",
    "of culture and norms in establishing and moulding both perceptions and behavioural\n",
    "interactions"
   ]
  },
  {
   "cell_type": "markdown",
   "id": "bfb35c02",
   "metadata": {},
   "source": [
    "The idea that institutions help constitute individual motivation and behaviour admits\n",
    "an enhanced concept of power into economic analysis. Power is exercised not only by\n",
    "forceful coercion or constraint. For Steven Lukes (1974), the overemphasis on the coercive aspect of power ignores the way that it is often exercised more subtly, particularly\n",
    "by customs and institutions. He pointed out that supreme power is exercised by orchestrating the thoughts and desires of others."
   ]
  },
  {
   "cell_type": "markdown",
   "id": "75f41010",
   "metadata": {},
   "source": [
    "Many mainstream economists assume rational actors with fixed preferences. This suggests that we already know what we need to know to make choices: our preference\n",
    "function is already fully primed to evaluate options about which we are not yet aware\n",
    "and may not have emerged. But learning increases our awareness of choices and their\n",
    "consequences. Learning is a process of personal development: it means changing our\n",
    "personal outlook and our preferences. The very idea of ‘rational learning’ is problematic."
   ]
  },
  {
   "cell_type": "markdown",
   "id": "c6d4d87d",
   "metadata": {},
   "source": [
    "**Property rights, law and transaction costs**"
   ]
  },
  {
   "cell_type": "markdown",
   "id": "2326a9b8",
   "metadata": {},
   "source": [
    "The concept of property rights was stressed by original institutionalists such as Commons, as well as by new institutional economists and those working on the ‘economics\n",
    "of property rights’. Property rights are seen as a vital component of the basic institutional\n",
    "structure of an economy with property ownership. But the concept of property rights\n",
    "has different definitions.\n"
   ]
  },
  {
   "cell_type": "markdown",
   "id": "0441fa19",
   "metadata": {},
   "source": [
    "For example, the economist Armen Alchian (1977, p. 238) defined the ‘property rights’\n",
    "of a person in universal, ahistorical and institution-free terms including “the probability\n",
    "that his decision about demarcated uses of the resource will determine the use.” Alchian’s\n",
    "definition of property neglects the essential concept of legitimated, rightful ownership.\n",
    "More accurately, it denotes possession rather than property (Hodgson, 2015a, 2015c)."
   ]
  },
  {
   "cell_type": "markdown",
   "id": "51c90f0e",
   "metadata": {},
   "source": [
    "As another example, the economist Yoram Barzel (1994, p. 394) defined property as\n",
    "“an individual’s net valuation, in expected terms, of the ability to directly consume the\n",
    "services of the asset, or to consume it indirectly through exchange . . . the definition is\n",
    "concerned not with what people are legally entitled to do but with what they believe\n",
    "they can do.” Again this misleadingly describes possession as property."
   ]
  },
  {
   "cell_type": "markdown",
   "id": "e11fcc87",
   "metadata": {},
   "source": [
    "The upshot of the Alchian and Barzel definitions is that if a thief manages to keep stolen goods, then he acquires a substantial property right to them, even if, on the contrary,\n",
    "legal or moral considerations would suggest that they remain the rightful property of\n",
    "their original owner. But it is misleading to describe the perceived ability to use or enjoy\n",
    "something as a ‘right’. Enjoyment or usage can occur without rights, and rights without\n",
    "usage or enjoyment. Possession is principally a relation between a person and a thing. It\n",
    "does not amount to legal ownership. Rights result from institutionalised rules involving\n",
    "assignments of benefit and duty (Honoré, 1961, Heinsohn and Steiger, 2013)."
   ]
  },
  {
   "cell_type": "markdown",
   "id": "50767694",
   "metadata": {},
   "source": [
    "By contrast to Alchian and Barzel, both Commons and Coase stressed that property\n",
    "must entail legal ownership, and hence the legal system plays an important role in establishing deemed rights. Commons (1924, p. 87) saw the contractual exchange of property\n",
    "as involving a minimum of not two parties but three, where the third is the state or a\n",
    "‘superior authority’. Similarly, Coase (1959, p. 25) saw property rights as determined “by\n",
    "the law of property . . . One of the purposes of the legal system is to establish that clear\n",
    "delimitation of rights on the basis of which the transfer and recombination of rights can\n",
    "take place through the market.” By these definitions, property is an historically specific\n",
    "rather than a universal phenomenon (Honoré, 1961, Hodgson, 2015b)."
   ]
  },
  {
   "cell_type": "markdown",
   "id": "f89c1f91",
   "metadata": {},
   "source": [
    "The contribution of Commons, particularly to the interface of economics and law,\n",
    "is still relevant today (Commons, 1924; Vanberg, 1989; Hodgson, 2015a). The role of\n",
    "law is still debated among institutionalists. Some treat law principally as a cost or constraint for individuals, who are simply maximising their ‘economic’ benefits (Barzel,\n",
    "1989). Others point to evidence that suggests that many people obey the law because\n",
    "they believe it is the right thing to do, not simply because they fear punishment\n",
    "(Tyler, 1990, Hodgson, 2015c). This raises the role of moral motivation, particularly\n",
    "when following accepted institutional rules (Smith, 1759; Sen, 1977; Hodgson, 2013;\n",
    "Smith, 2013)."
   ]
  },
  {
   "cell_type": "markdown",
   "id": "bcba5f78",
   "metadata": {},
   "source": [
    "Another important area of discussion is the role of law in constituting the modern\n",
    "firm and creating the possibility of corporate agency (Deakin et al., 2016; Gindis, 2009;\n",
    "2016; Hodgson, 2015a). A key question here is whether the corporation can be treated\n",
    "as an agent in itself, or must be understood solely in terms of the human individuals that\n",
    "make up the organisation. Attention to legal aspects of the firm helps answer questions\n",
    "concerning the nature and boundary of the firm. Hence these questions may help restart\n",
    "progress in the theory of the firm, which has slowed down considerably since 1990."
   ]
  },
  {
   "cell_type": "markdown",
   "id": "7837337a",
   "metadata": {},
   "source": [
    "One of the hallmarks of the new institutional economics is its concept of transaction costs. This was originally highlighted by Coase (1937, 1960) and developed further\n",
    "by Williamson (1975, 1985) and others. Transaction costs have been regarded as the\n",
    "costs of formulating, negotiating, monitoring and enforcing transactions. Coase’s (1937)\n",
    "path-breaking argument was that firms exist when the costs of an alternative market-like\n",
    "arrangement are greater than the costs of operating a firm. Instead of organising production by numerous contracts at every stage of the process, the firm greatly reduces\n",
    "the number and complexity of transactions by placing workers in employment contracts\n",
    "under a single authority. That is why firms exist."
   ]
  },
  {
   "cell_type": "markdown",
   "id": "c18e68e4",
   "metadata": {},
   "source": [
    "But there is an unresolved dispute between various definitions of transaction cost, which\n",
    "has important analytical consequences (Allen, 1991, 2015; Demsetz, 1968). Although the\n",
    "concept of transaction cost has been used by Williamson and others in extensive empirical work on contracts and organisational forms, the conceptual underpinnings are still\n",
    "debated. It is difficult to measure transaction costs directly. The many empirical attempts\n",
    "to test various forms of transaction cost analysis have brought mixed results (David and\n",
    "Han, 2004; Carter and Hodgson, 2006)."
   ]
  },
  {
   "cell_type": "markdown",
   "id": "d427e85e",
   "metadata": {},
   "source": [
    "**The future of institutional economics**"
   ]
  },
  {
   "cell_type": "markdown",
   "id": "0fbc16b6",
   "metadata": {},
   "source": [
    "Institutions are the stuff of social and economic life. Accordingly, the study of the role\n",
    "of institutions in the economy is likely to remain a central topic in the social sciences.\n",
    "In developed economies, the question of institutional design is of major importance. It\n",
    "impacts government policy, and it is vital in the development of business organisations."
   ]
  },
  {
   "cell_type": "markdown",
   "id": "d9ffa2c7",
   "metadata": {},
   "source": [
    "The economic development of poorer countries is also a major issue. Institutional\n",
    "economists have already made a major contribution in this area, but there is still much\n",
    "more important work to be done. We need to understand better the ways in which\n",
    "economic, political, legal and customary institutions interact and contribute to economic\n",
    "development"
   ]
  },
  {
   "cell_type": "markdown",
   "id": "58e2b2da",
   "metadata": {},
   "source": [
    "While many institutional factors are difficult to model, and institutional economics\n",
    "cannot match the mathematical saturation levels of mainstream economics, it focuses\n",
    "on the detailed systems of rules that are involved in any practical attempt to design and\n",
    "implement economic policy."
   ]
  },
  {
   "cell_type": "markdown",
   "id": "0bed0dd9",
   "metadata": {},
   "source": [
    "Other key issues on the research agenda include the following:"
   ]
  },
  {
   "cell_type": "markdown",
   "id": "08dd4064",
   "metadata": {},
   "source": [
    "1 Many of the successful pieces of research in institutional economics in the twentyfirst century have used empirical databases to test various propositions regarding the\n",
    "influence of different types of institution over economic performance. The development, refinement and use of empirical databases measuring institutional features will\n",
    "remain an important activity for institutional economics.\n",
    "2 Many of the disputes and inconclusive arguments within institutional economics entail different definitions or understandings of key concepts, such as institution, property or transaction cost. More effort should be devoted to conceptual\n",
    "clarification – recruiting insights from philosophy and social theory – to establish\n",
    "more of a consensus and common understanding concerning these core concepts.\n",
    "3 Institutional economists need to continue to build bridges with other disciplines, to\n",
    "learn from them. Many institutional economists, including Veblen and North, have\n",
    "emphasised the importance of delving into psychology to obtain a deeper understanding of human motivation. The importance of political science is widely recognised, and to a lesser extent sociology and anthropology. We should also follow\n",
    "Commons and others, in paying closer attention to the role of law in the economy. Last, but not least, philosophy has also made a major recent contribution to our understanding of rules and institutions, and philosophy generally will remain\n",
    "important for institutional economics\n",
    "4 Institutional economists, from Veblen to North, understood the importance\n",
    "of developing an understanding of the mechanisms of institutional change. This\n",
    "remains an important unfinished task on the agenda. Institutional economists may be\n",
    "able to make further progress by bringing in insights from evolutionary theory and\n",
    "from the study of complexity.\n",
    "5 The interaction between institutions and other economic factors, particularly technology, needs to be better understood. While some progress has been made in this\n",
    "area, there needs to be more dialogue and cooperation between the study of technology and the study of institutions. We need to understand the similarities, differences and interactions between these two domains of evolution.\n",
    "6 While there is no shared policy approach, institutional economists have always had a\n",
    "strong impact on policy. The policy implications of institutional analysis need to be\n",
    "developed, particularly by gaining further insights concerning the nature and role of\n",
    "key institutions such as markets, property rights, corporations and the state."
   ]
  },
  {
   "cell_type": "markdown",
   "id": "8814b0e0",
   "metadata": {},
   "source": [
    "Finally, the interdisciplinary character of institutional analysis suggests that some effort\n",
    "should be made to set up departments and institutes of institutional research within universities, to encourage cross-fertilisation between different approaches and disciplines.\n",
    "Just as there are well-established interdisciplinary institutes devoted to (say) business studies and technological innovation, academia needs to create space for institutional research\n",
    "as well."
   ]
  },
  {
   "cell_type": "markdown",
   "id": "37fc4c48",
   "metadata": {},
   "source": [
    "This essay has surveyed the vast and diverse field of institutional economics since its\n",
    "inception at the beginning of the twentieth century. It has charted the growing recognition of the importance of understanding institutions in fields such as economic development. The way in which institutions connect with the nature and role of the individual\n",
    "and his or her motivations has been discussed. Key institutional concepts such as property\n",
    "rights and transaction costs have been highlighted. We have ended with some speculations on how institutional economics may develop in the future."
   ]
  },
  {
   "cell_type": "markdown",
   "id": "4ecd2836",
   "metadata": {},
   "source": [
    "Notes\n",
    "1 See Hindriks and Guala (2015) and Hodgson (2006, 2015b) on the nature and definition\n",
    "of institutions.\n",
    "2 This is especially clear in the writings of Veblen (1909, pp. 629–636)."
   ]
  },
  {
   "cell_type": "markdown",
   "id": "15ffa20e",
   "metadata": {},
   "source": [
    "References\n",
    "Acemoglu, D., Johnson, S. and Robinson, J. A. (2005), ‘Institutions as a Fundamental Cause\n",
    "of Long-Run Growth’, in: Aghion, P. and Durlauf, S. N. (eds.), Handbook of Economic\n",
    "Growth, Volume 1A, Amsterdam, The Netherlands: Elsevier, pp. 385–472.\n",
    "Acemoglu, D. and Robinson, J. A. (2012), Why Nations Fail: The Origins of Power, Prosperity,\n",
    "and Poverty, New York: Random House and London: Profile.\n",
    "Alchian, A. A. (1977b), ‘Some Implications of Recognition of Property Right Transaction\n",
    "Costs’, in: Brunner, K. (ed.), Economics and Social Institutions: Insights From the Conferences\n",
    "on Analysis and Ideology, Boston, MA: Martinus Nijhoff, pp. 234–255.\n",
    "Allen, D. W. (1991), ‘What Are Transaction Costs?’, Research in Law and Economics, Vol. 14,\n",
    "pp. 1–18.\n",
    "Allen, D. W. (2015), ‘The Coase Theorem: Coherent, Logical, and Not Disproved’, Journal\n",
    "of Institutional Economics, Vol. 11, No. 2, pp. 379–390.\n",
    "Aoki, M. (2001), Toward a Comparative Institutional Analysis, Cambridge, MA: MIT Press.\n",
    "Ayres, C. E. (1944), The Theory of Economic Progress, First Edition, Chapel Hill, NC: University of North Carolina Press.\n",
    "Barzel, Y. (1989), Economic Analysis of Property Rights, Cambridge: Cambridge University\n",
    "Press.\n",
    "Barzel, Y. (1994), ‘The Capture of Wealth by Monopolists and the Protection of Property\n",
    "Rights’, International Review of Law and Economics, Vol. 14, No. 4, pp. 393–409.\n",
    "Camic, C. (1986), ‘The Matter of Habit’, American Journal of Sociology, Vol. 91, No. 5,\n",
    "pp. 1039–1087.\n",
    "Carter, R. and Hodgson, G. M. (2006), ‘The Impact of Empirical Tests of Transaction Cost\n",
    "Economics on the Debate on the Nature of the Firm’, Strategic Management Journal,\n",
    "Vol. 27, No. 5, pp. 461–476.\n",
    "Coase, R. H. (1937), ‘The Nature of the Firm’, Economica, New Series, Vol. 4, pp. 386–405.\n",
    "Coase, R. H. (1959), ‘The Federal Communications Commission’, Journal of Law and Economics, Vol. 2, No. 1, pp. 1–40.\n",
    "Coase, R. H. (1960), ‘The Problem of Social Cost’, Journal of Law and Economics, Vol. 3,\n",
    "No. 1, pp. 1–44.\n",
    "Commons, J. R. (1924), Legal Foundations of Capitalism, New York: Macmillan. Reprinted\n",
    "(1968) Madison: University of Wisconsin Press, (1974) New York: Augustus Kelley, and\n",
    "(1995) with a new introduction by Jeff E. Biddle and Warren J. Samuels, New Brunswick, NJ: Transaction.\n",
    "David, R. J. and Han, S. (2004), ‘A Systematic Assessment of the Empirical Support for\n",
    "Transaction Cost Economics’, Strategic Management Journal, Vol. 25, No. 1, pp. 39–58.\n",
    "Deakin, S., Gindis, D., Hodgson, G. M., Huang, K. and Pistor, K. (2016), ‘Legal Institutionalism: Capitalism and the Constitutive Role of Law’, Journal of Comparative Economics,\n",
    "Vol. 45, No. 1, pp. 188–200.\n",
    "Dequech, D. (2002), ‘The Demarcation Between the “Old” and the “New” Institutional Economics: Recent Complications’, Journal of Economic Issues, Vol. 36, No. 2, pp. 565–572.\n",
    "Demsetz, H. (1968), ‘The Cost of Transacting’, Quarterly Journal of Economics, Vol. 82, No. 1,\n",
    "pp. 33–53.\n",
    "Fogel, R. (2010), ‘$123,000,000,000,000: China’s Estimated Economy by 2040. Be Warned’,\n",
    "Foreign Policy, retrieved from: www.foreignpolicy.com/articles/2010/01/04/1230\n",
    "00000000000 (accessed 1/02/2012).\n",
    "Galbraith, J. K. (1969), The Affluent Society, Second Edition, London: Hamilton.\n",
    "Gindis, D. (2009), ‘From Fictions and Aggregates to Real Entities in the Theory of the Firm’,\n",
    "Journal of Institutional Economics, Vol. 5, No. 1, pp. 25–46.\n",
    "Gindis, D. (2016), ‘Legal Personhood and the Firm: Avoiding Anthropomorphism and\n",
    "Equivocation’, Journal of Institutional Economics, Vol. 12, No. 3, pp. 499–513.\n",
    "Groenewegen, J., Kerstholt, F. and Nagelkerke, A. (1995), ‘On Integrating the New and Old\n",
    "Institutionalisms: Douglass North Building Bridges’, Journal of Economic Issues, Vol. 29,\n",
    "No. 2, pp. 467–475.\n",
    "Heinsohn, G. and Steiger, O. (2013), Ownership Economics: On the Foundations of Interest,\n",
    "Money, Markets, Business Cycles and Economic Development, translated and edited by Frank\n",
    "Decker, London and New York: Routledge.\n",
    "Hindriks, F. and Guala, F. (2015), ‘Institutions, Rules, and Equilibria: A Unified Theory’,\n",
    "Journal of Institutional Economics, Vol. 11, No. 3, pp. 459–480.\n",
    "Hodgson, G. M. (2004), The Evolution of Institutional Economics: Agency, Structure and Darwinism in American Institutionalism, London and New York: Routledge.\n",
    "Hodgson, G. M. (2006), ‘What Are Institutions?’, Journal of Economic Issues, Vol.40, No.1, pp. 1–25.\n",
    "Hodgson, G. M. (2010), ‘Choice, Habit and Evolution’, Journal of Evolutionary Economics,\n",
    "Vol. 20, No. 1, pp. 1–18.\n",
    "Hodgson, G. M. (2013), From Pleasure Machines to Moral Communities: An Evolutionary Economics Without Homo Economicus, Chicago: University of Chicago Press.\n",
    "Hodgson, G. M. (2014), ‘On Fuzzy Frontiers and Fragmented Foundations: Some Reflections on the Original and New Institutional Economics’, Journal of Institutional Economics,\n",
    "Vol. 10, No. 4, pp. 591–611.\n",
    "Hodgson, G. M. (2015a), Conceptualizing Capitalism: Institutions, Evolution, Future, Chicago:\n",
    "University of Chicago Press.\n",
    "Hodgson, G. M. (2015b), ‘On Defining Institutions: Rules Versus Equilibria’, Journal of Institutional Economics, Vol. 11, No. 3, pp. 499–505.\n",
    "Hodgson, G. M. (2015c), ‘Much of the “Economics of Property Rights” Devalues Property\n",
    "and Legal Rights’, Journal of Institutional Economics, Vol. 11, No. 4, pp. 683–709.\n",
    "Hodgson, G. M. and Huang, K. (2013), ‘Brakes on Chinese Economic Development:\n",
    "Institutional Causes of a Growth Slowdown’, Journal of Economic Issues, Vol. 47, No. 3,\n",
    "pp. 599–622.\n",
    "Hodgson, G. M. and Knudsen, T. (2004), ‘The Complex Evolution of a Simple Traffic\n",
    "Convention: The Functions and Implications of Habit’, Journal of Economic Behavior and\n",
    "Organization, Vol. 54, No. 1, pp. 19–47.\n",
    "Hodgson, G. M. and Knudsen, T. (2007), ‘Firm-Specific Learning and the Nature of the Firm:\n",
    "Why Transaction Costs May Provide an Incomplete Explanation’, Revue Économique,\n",
    "Vol. 58, No. 2, pp. 331–350.\n",
    "Honoré, A. M. (1961), ‘Ownership’, in: Guest, A. G. (ed.), Oxford Essays in Jurisprudence,\n",
    "Oxford: Oxford University Press, pp. 107–147, Reprinted in the Journal of Institutional\n",
    "Economics, Vol. 9, No. 2, pp. 227–255.\n",
    "Knight, J. (1992), Institutions and Social Conflict, Cambridge: Cambridge University Press.\n",
    "Lukes, S. (1974), Power: A Radical View, London: Palgrave Macmillan.\n",
    "Marshall, A. (1920), Principles of Economics: An Introductory Volume, Eighth Edition, London:\n",
    "Palgrave Macmillan.\n",
    "North, D. C. (1968), ‘Sources of Productivity Change in Ocean Shipping, 1600–1850’, Journal of Political Economy, Vol. 76, No. 5, pp. 953–970.\n",
    "North, D. C. (1981), Structure and Change in Economic History, New York: Norton.\n",
    "North, D. C. (1990), Institutions, Institutional Change and Economic Performance, Cambridge and\n",
    "New York: Cambridge University Press.\n",
    "North, D. C. (1994), ‘Economic Performance Through Time’, American Economic Review,\n",
    "Vol. 84, No. 3, pp. 359–367.\n",
    "Olson, M., Jr. (1982), The Rise and Decline of Nations: Economic Growth, Stagflation and Social\n",
    "Rigidities, New Haven: Yale University Press.\n",
    "Ostrom, E. (1990), Governing the Commons: The Evolution of Institutions for Collective Action,\n",
    "Cambridge: Cambridge University Press.\n",
    "Ostrom, E. (2004), ‘The Ten Most Important Books’, Tidsskriftet Politik, Vol. 4, No. 7,\n",
    "pp. 36–48.\n",
    "Ouellette, J. A. and Wood, W. (1998), ‘Habit and Intention in Everyday Life: The Multiple Processes by Which Past Behavior Predicts Future Behavior’, Psychological Bulletin,\n",
    "Vol. 124, pp. 54–74.\n",
    "Robbins, L. (1932), An Essay on the Nature and Significance of Economic Science, First Edition,\n",
    "London: Palgrave Macmillan.\n",
    "Rutherford, M. H. (1995), ‘The Old and the New Institutionalism: Can Bridges Be Built?’,\n",
    "Journal of Economic Issues, Vol. 29, No. 2, pp. 443–451.\n",
    "Rutherford, M. H. (2001), ‘Institutional Economics: Then and Now’, Journal of Economic\n",
    "Perspectives, Vol. 15, No. 3, pp. 173–194.\n",
    "Rutherford, M. H. (2011), The Institutionalist Movement in American Economics, 1918–1947:\n",
    "Science and Social Control, Cambridge and New York: Cambridge University Press.\n",
    "Schotter, A. R. (1981), The Economic Theory of Social Institutions, Cambridge: Cambridge\n",
    "University Press.\n",
    "Searle, J. R. (1995), The Construction of Social Reality, London: Allen Lane.\n",
    "Sen, A. K. (1977), ‘Rational Fools: A Critique of the Behavioral Foundations of Economic\n",
    "Theory’, Philosophy and Public Affairs, Vol. 6, No. 4, pp. 317–344.\n",
    "Simon, H. A. (1957), Models of Man: Social and Rational. Mathematical Essays on Rational Human\n",
    "Behavior in a Social Setting, New York: Wiley.\n",
    "Simon, H. A. (1979), ‘Rational Decision Making in Business Organizations’, American Economic Review, Vol. 69, No. 4, pp. 493–513.\n",
    "Smith, A. (1759), The Theory of Moral Sentiments; or, an Essay Towards an Analysis of the Principles by Which Men Naturally Judge Concerning the Conduct and Character, First of Their Neighbours, and Afterwards of Themselves, London and Edinburgh: Millar, and Kincaid and Bell.\n",
    "Smith, V. L. (2013), ‘Adam Smith: From Propriety and Sentiments to Property and Wealth’,\n",
    "Forum for Social Economics, Vol. 42, No. 4, pp. 283–297.\n",
    "Solow, R. M. (1957), ‘Technical Change and the Aggregate Production Function’, Review of\n",
    "Economics and Statistics, Vol. 39, pp. 312–320.\n",
    "Tyler, T. R. (1990), Why People Obey the Law, New Haven: Yale University Press.\n",
    "Vanberg, V. J. (1989), ‘Carl Menger’s Evolutionary and John R. Commons’ Collective\n",
    "Action Approach to Institutions: A Comparison’, Review of Political Economy, Vol. 1,\n",
    "No. 3, pp. 334–360.\n",
    "Veblen, T. B. (1899), The Theory of the Leisure Class: An Economic Study in the Evolution of\n",
    "Institutions, New York: Palgrave Macmillan.\n",
    "Veblen, T. B. (1909), ‘The Limitations of Marginal Utility’, Journal of Political Economy,\n",
    "Vol. 17, No. 9, pp. 620–636.\n",
    "Williamson, O. E. (1975), Markets and Hierarchies: Analysis and Anti-Trust Implications: A Study\n",
    "in the Economics of Internal Organization, New York: Free Press.\n",
    "Williamson, O. E. (1985), The Economic Institutions of Capitalism: Firms, Markets, Relational\n",
    "Contracting, London: Palgrave Macmillan.\n",
    "Wood, W., Quinn, J. M. and Kashy, D. (2002), ‘Habits in Everyday Life: Thought, Emotion,\n",
    "and Action’, Journal of Personality and Social Psychology, Vol. 83, pp. 1281–1297."
   ]
  },
  {
   "cell_type": "markdown",
   "id": "f3e759f3",
   "metadata": {},
   "source": [
    "Recommended readings\n",
    "Acemoglu, D. and Robinson, J. A. (2012), Why Nations Fail: The Origins of Power, Prosperity, and Poverty, New York: Random House and London: Profile.\n",
    "Furubotn, E. G. and Richter, R. (1997), Institutions in Economic Theory: The Contribution of\n",
    "the New Institutional Economics, Ann Arbor: University of Michigan Press.\n",
    "Hodgson, G. M. (2004), The Evolution of Institutional Economics: Agency, Structure and Darwinism in American Institutionalism, London and New York: Routledge.\n",
    "Hodgson, G. M. (2015), Conceptualizing Capitalism: Institutions, Evolution, Future, Chicago: University of Chicago Press.\n",
    "Ostrom, E. (1990), Governing the Commons: The Evolution of Institutions for Collective\n",
    "Action, Cambridge: Cambridge University Press.\n",
    "Rutherford, M. H. (2011), The Institutionalist Movement in American Economics, 1918–\n",
    "1947: Science and Social Control, Cambridge and New York: Cambridge University\n",
    "Press."
   ]
  }
 ],
 "metadata": {
  "kernelspec": {
   "display_name": "Python 3 (ipykernel)",
   "language": "python",
   "name": "python3"
  },
  "language_info": {
   "codemirror_mode": {
    "name": "ipython",
    "version": 3
   },
   "file_extension": ".py",
   "mimetype": "text/x-python",
   "name": "python",
   "nbconvert_exporter": "python",
   "pygments_lexer": "ipython3",
   "version": "3.10.8"
  },
  "toc": {
   "base_numbering": 1,
   "nav_menu": {},
   "number_sections": true,
   "sideBar": true,
   "skip_h1_title": false,
   "title_cell": "Table of Contents",
   "title_sidebar": "Contents",
   "toc_cell": false,
   "toc_position": {},
   "toc_section_display": true,
   "toc_window_display": false
  }
 },
 "nbformat": 4,
 "nbformat_minor": 5
}
