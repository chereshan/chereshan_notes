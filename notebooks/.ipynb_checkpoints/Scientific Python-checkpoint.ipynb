{
 "cells": [
  {
   "cell_type": "code",
   "execution_count": 1,
   "id": "b809fe62",
   "metadata": {},
   "outputs": [],
   "source": [
    "import numpy as np                     # Load the library\n",
    "\n",
    "a = np.linspace(-np.pi, np.pi, 100)    # Create even grid from -π to π\n",
    "b = np.cos(a)                          # Apply cosine to each element of a\n",
    "c = np.sin(a)                          # Apply sin to each element of a"
   ]
  },
  {
   "cell_type": "code",
   "execution_count": 2,
   "id": "ce6a9f5d",
   "metadata": {},
   "outputs": [
    {
     "data": {
      "text/plain": [
       "-2.7477531812986232e-17"
      ]
     },
     "execution_count": 2,
     "metadata": {},
     "output_type": "execute_result"
    }
   ],
   "source": [
    "b @ c"
   ]
  },
  {
   "cell_type": "code",
   "execution_count": 3,
   "id": "90a4ecc7",
   "metadata": {},
   "outputs": [
    {
     "data": {
      "text/plain": [
       "0.9544997361036417"
      ]
     },
     "execution_count": 3,
     "metadata": {},
     "output_type": "execute_result"
    }
   ],
   "source": [
    "from scipy.stats import norm\n",
    "from scipy.integrate import quad\n",
    "\n",
    "ϕ = norm()\n",
    "value, error = quad(ϕ.pdf, -2, 2)  # Integrate using Gaussian quadrature\n",
    "value"
   ]
  },
  {
   "cell_type": "markdown",
   "id": "421c79bd",
   "metadata": {},
   "source": [
    "he [SciPy](http://www.scipy.org) library is built on top of NumPy and provides additional functionality.\n",
    "\n",
    "(tuple_unpacking_example)=\n",
    "For example, let's calculate $\\int_{-2}^2 \\phi(z) dz$ where $\\phi$ is the standard normal density.\n",
    "\n"
   ]
  },
  {
   "cell_type": "markdown",
   "id": "b534775b",
   "metadata": {},
   "source": [
    "## Numpy"
   ]
  },
  {
   "cell_type": "markdown",
   "id": "e88833a5",
   "metadata": {},
   "source": [
    "**Numpy** - это лучший пакет для следующих задач: \n",
    "\n",
    "* Для работы с векторами и матрицами\n",
    "\n",
    "* В ней содержаться стандартные математические функции, вроде ``cos`` и ``sqrt``\n",
    "\n",
    "* Для генерации случайных чисел\n",
    "\n",
    "* Для линейной алгебры и т.д."
   ]
  },
  {
   "cell_type": "code",
   "execution_count": null,
   "id": "c0a1df87",
   "metadata": {},
   "outputs": [],
   "source": []
  }
 ],
 "metadata": {
  "kernelspec": {
   "display_name": "Python 3 (ipykernel)",
   "language": "python",
   "name": "python3"
  },
  "language_info": {
   "codemirror_mode": {
    "name": "ipython",
    "version": 3
   },
   "file_extension": ".py",
   "mimetype": "text/x-python",
   "name": "python",
   "nbconvert_exporter": "python",
   "pygments_lexer": "ipython3",
   "version": "3.10.8"
  },
  "toc": {
   "base_numbering": 1,
   "nav_menu": {},
   "number_sections": true,
   "sideBar": true,
   "skip_h1_title": false,
   "title_cell": "Table of Contents",
   "title_sidebar": "Contents",
   "toc_cell": false,
   "toc_position": {},
   "toc_section_display": true,
   "toc_window_display": false
  }
 },
 "nbformat": 4,
 "nbformat_minor": 5
}
