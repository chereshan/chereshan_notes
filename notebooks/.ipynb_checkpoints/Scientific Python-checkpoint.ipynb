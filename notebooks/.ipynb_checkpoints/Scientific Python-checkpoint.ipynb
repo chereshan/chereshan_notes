{
 "cells": [
  {
   "cell_type": "markdown",
   "id": "929a4a07",
   "metadata": {},
   "source": [
    "**Научный Python**"
   ]
  },
  {
   "cell_type": "markdown",
   "id": "a200b5ec",
   "metadata": {},
   "source": [
    "**Источники:**\n",
    "1. [ ] Мой конспект в тетради\n",
    "2. [ ] [Лекции QuantEcon Python Programming for Economics and Finance](https://python-programming.quante\n",
    "con.org/about_py.html)\n",
    "3. [ ] Numerical Python. Robert Johansson. 2019. 2nd ed.\n",
    "4. [ ] [Практикум по математике и Python](https://stepik.org/lesson/241329/step/1?unit=213910)\n",
    "5. [ ] numpybook.pdf\n",
    "6. [ ] Машинное обучение с использованием Python. Сборник рецептов. Крис Элбон. 2019"
   ]
  },
  {
   "cell_type": "markdown",
   "id": "bedd54c6",
   "metadata": {},
   "source": [
    "**Машинное обучение с использованием Python. Сборник рецептов. Крис Элбон. 2019**\n",
    "\n",
    "- [x] Глава 1. Векторы, матрицы, массивы\n",
    "- [ ] Глава 2. Загрузка данных\n",
    "- [ ] Глава 3. Упорядочивание данных\n",
    "- [ ] Глава 4. Работа с числовыми данными\n",
    "- [ ] Глава 5. Работа с категориальными данными\n",
    "- [ ] Глава 6. Работа с текстом\n",
    "- [ ] Глава 7. Работа с датами и временем"
   ]
  },
  {
   "cell_type": "markdown",
   "id": "1784c34d",
   "metadata": {},
   "source": [
    "- [ ] [Probability Distributions in Data Science](https://www.kdnuggets.com/2020/02/probability-distributions-data-science.html)\n",
    "- [ ] [numpy.random](https://numpy.org/doc/1.16/reference/routines.random.html)\n",
    "- [ ] [new numpy.random](https://numpy.org/doc/stable/reference/random/index.html?highlight=random#module-numpy.random)\n",
    "- [ ] https://www.w3resource.com/python-exercises/numpy/python-numpy-random-exercise-5.php\n",
    "- [ ] https://pythonru.com/biblioteki/biblioteka-numpy-vvedenie-i-ustanovka\n",
    "- [ ] https://pythonworld.ru/numpy/3.html\n",
    "- [ ] [Matrices for data scientists](https://notebook.community/gmonce/datascience/src/2.%20-%20Matrices%20for%20data%20scientists)"
   ]
  },
  {
   "cell_type": "code",
   "execution_count": 1,
   "id": "b809fe62",
   "metadata": {},
   "outputs": [],
   "source": [
    "import numpy as np                     # Load the library\n",
    "\n",
    "a = np.linspace(-np.pi, np.pi, 100)    # Create even grid from -π to π\n",
    "b = np.cos(a)                          # Apply cosine to each element of a\n",
    "c = np.sin(a)                          # Apply sin to each element of a"
   ]
  },
  {
   "cell_type": "code",
   "execution_count": 2,
   "id": "ce6a9f5d",
   "metadata": {},
   "outputs": [
    {
     "data": {
      "text/plain": [
       "-2.7477531812986232e-17"
      ]
     },
     "execution_count": 2,
     "metadata": {},
     "output_type": "execute_result"
    }
   ],
   "source": [
    "b @ c"
   ]
  },
  {
   "cell_type": "code",
   "execution_count": 3,
   "id": "90a4ecc7",
   "metadata": {
    "scrolled": true
   },
   "outputs": [
    {
     "data": {
      "text/plain": [
       "0.9544997361036417"
      ]
     },
     "execution_count": 3,
     "metadata": {},
     "output_type": "execute_result"
    }
   ],
   "source": [
    "from scipy.stats import norm\n",
    "from scipy.integrate import quad\n",
    "\n",
    "ϕ = norm()\n",
    "value, error = quad(ϕ.pdf, -2, 2)  # Integrate using Gaussian quadrature\n",
    "value"
   ]
  },
  {
   "cell_type": "markdown",
   "id": "0784d3ae",
   "metadata": {},
   "source": [
    "* **Numpy** - работа с векторами, матрицами, массивами\n",
    "* **Scipy** - работа с таблицами данных"
   ]
  },
  {
   "cell_type": "markdown",
   "id": "0c908f89",
   "metadata": {
    "heading_collapsed": true
   },
   "source": [
    "## SciPy"
   ]
  },
  {
   "cell_type": "markdown",
   "id": "421c79bd",
   "metadata": {
    "hidden": true
   },
   "source": [
    "[SciPy](http://www.scipy.org)-библиотека построена поверх Numpy и предоставляет дополнительный функционал для научных вычислений.\n",
    "Например, для вычислений следующего рода: $\\int_{-2}^2 \\phi(z) dz$"
   ]
  },
  {
   "cell_type": "markdown",
   "id": "3bb8a6f7",
   "metadata": {
    "hidden": true
   },
   "source": [
    "Библиотека SciPy имеет следующий функционал:\n",
    "* Продвинутая линейная алгебра\n",
    "* Оптимизация\n",
    "* Интерполяция \n",
    "* Интеграция\n",
    "* Дифференциация\n",
    "* Продвинутая работа со случайныыми величинами\n",
    "* Процессинг сигналов"
   ]
  },
  {
   "cell_type": "markdown",
   "id": "b534775b",
   "metadata": {},
   "source": [
    "## Numpy"
   ]
  },
  {
   "cell_type": "markdown",
   "id": "e88833a5",
   "metadata": {},
   "source": [
    "**Numpy** - это лучший пакет для следующих задач: \n",
    "\n",
    "* Для работы с векторами и матрицами\n",
    "\n",
    "* В ней содержаться стандартные математические функции, вроде ``cos`` и ``sqrt``\n",
    "\n",
    "* Для генерации случайных чисел\n",
    "\n",
    "* Для линейной алгебры и т.д."
   ]
  },
  {
   "cell_type": "markdown",
   "id": "f3cf45ea",
   "metadata": {},
   "source": [
    "## Вектора"
   ]
  },
  {
   "cell_type": "markdown",
   "id": "0dded1d5",
   "metadata": {},
   "source": [
    "**Вектор (или массив) numpy** - это упорядоченный набор однородных данных. (Изменяемый тип данных)\n",
    "\n",
    "* ``(int,int,int)``\n",
    "* ``(bool,bool,bool)``\n",
    "* ``(str,str,str)``"
   ]
  },
  {
   "cell_type": "code",
   "execution_count": null,
   "id": "ba6aea32",
   "metadata": {},
   "outputs": [],
   "source": [
    "import numpy as np"
   ]
  },
  {
   "cell_type": "code",
   "execution_count": 1,
   "id": "eadc5af7",
   "metadata": {},
   "outputs": [
    {
     "data": {
      "text/plain": [
       "array([1, 2, 3, 4])"
      ]
     },
     "execution_count": 1,
     "metadata": {},
     "output_type": "execute_result"
    }
   ],
   "source": [
    "np.array((1,2,3,4))"
   ]
  },
  {
   "cell_type": "code",
   "execution_count": 4,
   "id": "d309a9da",
   "metadata": {},
   "outputs": [
    {
     "data": {
      "text/plain": [
       "array([1, 2, 3, 4])"
      ]
     },
     "execution_count": 4,
     "metadata": {},
     "output_type": "execute_result"
    }
   ],
   "source": [
    "np.array([1,2,3,4])"
   ]
  },
  {
   "cell_type": "code",
   "execution_count": 3,
   "id": "8ad7ffc1",
   "metadata": {},
   "outputs": [
    {
     "data": {
      "text/plain": [
       "array([1, 2, 3, 4])"
      ]
     },
     "execution_count": 3,
     "metadata": {},
     "output_type": "execute_result"
    }
   ],
   "source": [
    "np.array(range(1,5))"
   ]
  },
  {
   "cell_type": "markdown",
   "id": "412f7f63",
   "metadata": {
    "heading_collapsed": true
   },
   "source": [
    "## Векторыне операции"
   ]
  },
  {
   "cell_type": "markdown",
   "id": "a46924f3",
   "metadata": {
    "hidden": true
   },
   "source": [
    "**Унарные операции**"
   ]
  },
  {
   "cell_type": "code",
   "execution_count": 9,
   "id": "47969e86",
   "metadata": {
    "hidden": true
   },
   "outputs": [],
   "source": [
    "V=np.array([5,10,15])"
   ]
  },
  {
   "cell_type": "code",
   "execution_count": 10,
   "id": "69b5d546",
   "metadata": {
    "hidden": true
   },
   "outputs": [
    {
     "data": {
      "text/plain": [
       "array([25, 50, 75])"
      ]
     },
     "execution_count": 10,
     "metadata": {},
     "output_type": "execute_result"
    }
   ],
   "source": [
    "V*5"
   ]
  },
  {
   "cell_type": "code",
   "execution_count": 11,
   "id": "383aa6e5",
   "metadata": {
    "hidden": true
   },
   "outputs": [
    {
     "data": {
      "text/plain": [
       "array([0.5, 1. , 1.5])"
      ]
     },
     "execution_count": 11,
     "metadata": {},
     "output_type": "execute_result"
    }
   ],
   "source": [
    "V/10"
   ]
  },
  {
   "cell_type": "code",
   "execution_count": 12,
   "id": "52d41060",
   "metadata": {
    "hidden": true
   },
   "outputs": [
    {
     "data": {
      "text/plain": [
       "array([15, 20, 25])"
      ]
     },
     "execution_count": 12,
     "metadata": {},
     "output_type": "execute_result"
    }
   ],
   "source": [
    "V+10"
   ]
  },
  {
   "cell_type": "code",
   "execution_count": 13,
   "id": "fc63eb65",
   "metadata": {
    "hidden": true
   },
   "outputs": [
    {
     "data": {
      "text/plain": [
       "array([ 2,  7, 12])"
      ]
     },
     "execution_count": 13,
     "metadata": {},
     "output_type": "execute_result"
    }
   ],
   "source": [
    "V-3"
   ]
  },
  {
   "cell_type": "markdown",
   "id": "517ea89e",
   "metadata": {
    "hidden": true
   },
   "source": [
    "**Бинарные операции**"
   ]
  },
  {
   "cell_type": "code",
   "execution_count": 14,
   "id": "a8db0ee6",
   "metadata": {
    "hidden": true
   },
   "outputs": [],
   "source": [
    "x=np.array([1,2,3,4,5])\n",
    "y=np.array([5,4,3,2,1])"
   ]
  },
  {
   "cell_type": "code",
   "execution_count": 16,
   "id": "6e76b920",
   "metadata": {
    "hidden": true
   },
   "outputs": [
    {
     "data": {
      "text/plain": [
       "array([6, 6, 6, 6, 6])"
      ]
     },
     "execution_count": 16,
     "metadata": {},
     "output_type": "execute_result"
    }
   ],
   "source": [
    "x+y"
   ]
  },
  {
   "cell_type": "code",
   "execution_count": 17,
   "id": "320dd022",
   "metadata": {
    "hidden": true
   },
   "outputs": [
    {
     "data": {
      "text/plain": [
       "array([-4, -2,  0,  2,  4])"
      ]
     },
     "execution_count": 17,
     "metadata": {},
     "output_type": "execute_result"
    }
   ],
   "source": [
    "x-y"
   ]
  },
  {
   "cell_type": "code",
   "execution_count": 18,
   "id": "83a48b17",
   "metadata": {
    "hidden": true
   },
   "outputs": [
    {
     "data": {
      "text/plain": [
       "array([5, 8, 9, 8, 5])"
      ]
     },
     "execution_count": 18,
     "metadata": {},
     "output_type": "execute_result"
    }
   ],
   "source": [
    "x*y"
   ]
  },
  {
   "cell_type": "code",
   "execution_count": 19,
   "id": "77d14bb5",
   "metadata": {
    "hidden": true
   },
   "outputs": [
    {
     "data": {
      "text/plain": [
       "array([0.2, 0.5, 1. , 2. , 5. ])"
      ]
     },
     "execution_count": 19,
     "metadata": {},
     "output_type": "execute_result"
    }
   ],
   "source": [
    "x/y"
   ]
  },
  {
   "cell_type": "code",
   "execution_count": 20,
   "id": "23e85c32",
   "metadata": {
    "hidden": true,
    "scrolled": false
   },
   "outputs": [
    {
     "data": {
      "text/plain": [
       "array([False, False,  True, False, False])"
      ]
     },
     "execution_count": 20,
     "metadata": {},
     "output_type": "execute_result"
    }
   ],
   "source": [
    "x==y"
   ]
  },
  {
   "cell_type": "code",
   "execution_count": null,
   "id": "27d452b1",
   "metadata": {
    "hidden": true
   },
   "outputs": [],
   "source": [
    "V=np.array([5,10,15])"
   ]
  },
  {
   "cell_type": "code",
   "execution_count": 21,
   "id": "61a440f4",
   "metadata": {
    "hidden": true
   },
   "outputs": [
    {
     "data": {
      "text/plain": [
       "array([10, 15])"
      ]
     },
     "execution_count": 21,
     "metadata": {},
     "output_type": "execute_result"
    }
   ],
   "source": [
    "V[V>6]"
   ]
  },
  {
   "cell_type": "code",
   "execution_count": 22,
   "id": "d4aec528",
   "metadata": {
    "hidden": true,
    "scrolled": true
   },
   "outputs": [
    {
     "data": {
      "text/plain": [
       "array([False,  True, False])"
      ]
     },
     "execution_count": 22,
     "metadata": {},
     "output_type": "execute_result"
    }
   ],
   "source": [
    "V%2==0"
   ]
  },
  {
   "cell_type": "code",
   "execution_count": 23,
   "id": "108c5907",
   "metadata": {
    "hidden": true
   },
   "outputs": [
    {
     "data": {
      "text/plain": [
       "array([10])"
      ]
     },
     "execution_count": 23,
     "metadata": {},
     "output_type": "execute_result"
    }
   ],
   "source": [
    "V[V%2==0]"
   ]
  },
  {
   "cell_type": "markdown",
   "id": "65f6acf7",
   "metadata": {},
   "source": [
    "## Создание матриц"
   ]
  },
  {
   "cell_type": "markdown",
   "id": "1b6c8dff",
   "metadata": {},
   "source": [
    "* ``np.zeros(2)``\n",
    "* ``np.ones(5)``\n",
    "* ``np.arange(4)``\n",
    "* ``np.linspace(0,10,5)``\n",
    "* ``np.sort(y)``\n",
    "* ``np.concatenate((x,y))`` - соединяет векторы в 1\n",
    "* ``V.ndim`` - размерность вектора\n",
    "* ``V.size`` - число элементов\n",
    "* ``V.shape`` - число строкб стобцовб уровней\n",
    "* ``V.reshape(1,3)`` - переделывает вектор в размерность n,k\n",
    "* ``V.max()``\n",
    "* ``V.min()``\n",
    "* ``V.sum()``\n",
    "* ``V.tolist()`` - делает лист из вектора"
   ]
  },
  {
   "cell_type": "code",
   "execution_count": 3,
   "id": "d708c568",
   "metadata": {},
   "outputs": [
    {
     "data": {
      "text/plain": [
       "array([[1, 2],\n",
       "       [3, 4],\n",
       "       [5, 6]])"
      ]
     },
     "execution_count": 3,
     "metadata": {},
     "output_type": "execute_result"
    }
   ],
   "source": [
    "import numpy as np\n",
    "np.array([[1,2],[3,4],[5,6]])"
   ]
  },
  {
   "cell_type": "code",
   "execution_count": 25,
   "id": "bbd6e9ac",
   "metadata": {},
   "outputs": [
    {
     "data": {
      "text/plain": [
       "array([0., 0.])"
      ]
     },
     "execution_count": 25,
     "metadata": {},
     "output_type": "execute_result"
    }
   ],
   "source": [
    "np.zeros(2)"
   ]
  },
  {
   "cell_type": "code",
   "execution_count": 26,
   "id": "e18fed89",
   "metadata": {
    "scrolled": true
   },
   "outputs": [
    {
     "data": {
      "text/plain": [
       "array([1., 1., 1., 1., 1.])"
      ]
     },
     "execution_count": 26,
     "metadata": {},
     "output_type": "execute_result"
    }
   ],
   "source": [
    "np.ones(5)"
   ]
  },
  {
   "cell_type": "code",
   "execution_count": 27,
   "id": "b6f6f626",
   "metadata": {},
   "outputs": [
    {
     "data": {
      "text/plain": [
       "array([0, 1, 2, 3])"
      ]
     },
     "execution_count": 27,
     "metadata": {},
     "output_type": "execute_result"
    }
   ],
   "source": [
    "np.arange(4)"
   ]
  },
  {
   "cell_type": "code",
   "execution_count": 28,
   "id": "7a1f651b",
   "metadata": {
    "scrolled": true
   },
   "outputs": [
    {
     "data": {
      "text/plain": [
       "array([ 0. ,  2.5,  5. ,  7.5, 10. ])"
      ]
     },
     "execution_count": 28,
     "metadata": {},
     "output_type": "execute_result"
    }
   ],
   "source": [
    "np.linspace(0,10,5)"
   ]
  },
  {
   "cell_type": "code",
   "execution_count": 29,
   "id": "4ec01188",
   "metadata": {},
   "outputs": [
    {
     "data": {
      "text/plain": [
       "array([1, 2, 3, 4, 5])"
      ]
     },
     "execution_count": 29,
     "metadata": {},
     "output_type": "execute_result"
    }
   ],
   "source": [
    "np.sort(y)"
   ]
  },
  {
   "cell_type": "code",
   "execution_count": 33,
   "id": "5fde4de8",
   "metadata": {},
   "outputs": [
    {
     "data": {
      "text/plain": [
       "array([1, 2, 3, 4, 5, 5, 4, 3, 2, 1])"
      ]
     },
     "execution_count": 33,
     "metadata": {},
     "output_type": "execute_result"
    }
   ],
   "source": [
    "np.concatenate((x,y))"
   ]
  },
  {
   "cell_type": "code",
   "execution_count": 36,
   "id": "b46d91c0",
   "metadata": {},
   "outputs": [
    {
     "data": {
      "text/plain": [
       "1"
      ]
     },
     "execution_count": 36,
     "metadata": {},
     "output_type": "execute_result"
    }
   ],
   "source": [
    "V.ndim"
   ]
  },
  {
   "cell_type": "code",
   "execution_count": 38,
   "id": "1771fc77",
   "metadata": {},
   "outputs": [
    {
     "data": {
      "text/plain": [
       "3"
      ]
     },
     "execution_count": 38,
     "metadata": {},
     "output_type": "execute_result"
    }
   ],
   "source": [
    "V.size"
   ]
  },
  {
   "cell_type": "code",
   "execution_count": 41,
   "id": "5935b911",
   "metadata": {},
   "outputs": [
    {
     "data": {
      "text/plain": [
       "(3,)"
      ]
     },
     "execution_count": 41,
     "metadata": {},
     "output_type": "execute_result"
    }
   ],
   "source": [
    "V.shape"
   ]
  },
  {
   "cell_type": "code",
   "execution_count": 43,
   "id": "294f6456",
   "metadata": {},
   "outputs": [
    {
     "data": {
      "text/plain": [
       "array([[ 5, 10, 15]])"
      ]
     },
     "execution_count": 43,
     "metadata": {},
     "output_type": "execute_result"
    }
   ],
   "source": [
    "V.reshape(1,3)"
   ]
  },
  {
   "cell_type": "code",
   "execution_count": 44,
   "id": "1ee1af0e",
   "metadata": {},
   "outputs": [
    {
     "data": {
      "text/plain": [
       "15"
      ]
     },
     "execution_count": 44,
     "metadata": {},
     "output_type": "execute_result"
    }
   ],
   "source": [
    "V.max()"
   ]
  },
  {
   "cell_type": "code",
   "execution_count": 45,
   "id": "c30bd6a9",
   "metadata": {},
   "outputs": [
    {
     "data": {
      "text/plain": [
       "5"
      ]
     },
     "execution_count": 45,
     "metadata": {},
     "output_type": "execute_result"
    }
   ],
   "source": [
    "V.min()"
   ]
  },
  {
   "cell_type": "code",
   "execution_count": 46,
   "id": "bdaac58a",
   "metadata": {},
   "outputs": [
    {
     "data": {
      "text/plain": [
       "30"
      ]
     },
     "execution_count": 46,
     "metadata": {},
     "output_type": "execute_result"
    }
   ],
   "source": [
    "V.sum()"
   ]
  },
  {
   "cell_type": "code",
   "execution_count": 50,
   "id": "a3952422",
   "metadata": {},
   "outputs": [
    {
     "data": {
      "text/plain": [
       "[5, 10, 15]"
      ]
     },
     "execution_count": 50,
     "metadata": {},
     "output_type": "execute_result"
    }
   ],
   "source": [
    "V.tolist()"
   ]
  },
  {
   "cell_type": "markdown",
   "id": "d7ef38f9",
   "metadata": {},
   "source": [
    "### Создание разреженной матрица"
   ]
  },
  {
   "cell_type": "markdown",
   "id": "53ad0176",
   "metadata": {},
   "source": [
    "Имеются данные с очень малым количеством ненулевых значений, которые требуется эффективно представить."
   ]
  },
  {
   "cell_type": "code",
   "execution_count": 5,
   "id": "756efdfb",
   "metadata": {},
   "outputs": [],
   "source": [
    "import numpy as np\n",
    "\n",
    "matrix = np.array([[0,0],[0,1],[3,0]])"
   ]
  },
  {
   "cell_type": "code",
   "execution_count": 7,
   "id": "833eb40a",
   "metadata": {},
   "outputs": [
    {
     "data": {
      "text/plain": [
       "<3x2 sparse matrix of type '<class 'numpy.intc'>'\n",
       "\twith 2 stored elements in Compressed Sparse Row format>"
      ]
     },
     "execution_count": 7,
     "metadata": {},
     "output_type": "execute_result"
    }
   ],
   "source": [
    "# Создать сжатую разреженную матрицу-строку (CSR-матрицу)\n",
    "from scipy import sparse\n",
    "matrix_sparse = sparse.csr_matrix(matrix)"
   ]
  },
  {
   "cell_type": "markdown",
   "id": "7eec18cc",
   "metadata": {},
   "source": [
    "В машинном самообучении часто возникает ситуация, когда имеется огромное\n",
    "количество данных; однако большинство элементов в данных являются нулями.\n",
    "Например, представьте матрицу, в которой столбцы — все фильмы в Netflix, строки — каждый пользователь Netflix, а значения — сколько раз пользователь смотрел\n",
    "конкретный фильм. Эта матрица будет иметь десятки тысяч столбцов и миллионы\n",
    "строк! Однако, поскольку большинство пользователей не смотрят почти все фильмы, подавляющая часть элементов матрицы будет равняться нулю"
   ]
  },
  {
   "cell_type": "markdown",
   "id": "a1e44c39",
   "metadata": {},
   "source": [
    "Разреженные матрицы хранят только ненулевые элементы и исходят из того, что\n",
    "все другие значения будут равняться нулю, что приводит к значительной вычислительной экономии. В нашем решении мы создали массив NumPy с двумя ненулевыми значениями, а затем преобразовали его в разреженную матрицу. Если мы\n",
    "посмотрим на разреженную матрицу, то увидим, что в ней хранятся только ненулевые значения:\n"
   ]
  },
  {
   "cell_type": "code",
   "execution_count": 8,
   "id": "a4e5c01f",
   "metadata": {},
   "outputs": [
    {
     "name": "stdout",
     "output_type": "stream",
     "text": [
      "  (1, 1)\t1\n",
      "  (2, 0)\t3\n"
     ]
    }
   ],
   "source": [
    "print(matrix_sparse)"
   ]
  },
  {
   "cell_type": "markdown",
   "id": "5c032329",
   "metadata": {},
   "source": [
    "**Типы разреженных матриц**:\n",
    "\n",
    "* Сжатая (Compressed Sparse Row, CSR)"
   ]
  },
  {
   "cell_type": "code",
   "execution_count": 10,
   "id": "35532ce4",
   "metadata": {
    "scrolled": true
   },
   "outputs": [
    {
     "name": "stdout",
     "output_type": "stream",
     "text": [
      "  (1, 1)\t1\n",
      "  (2, 0)\t3\n"
     ]
    }
   ],
   "source": [
    "# Создать более крупную матрицу\n",
    "matrix_large = np.array([[0, 0, 0, 0, 0, 0, 0, 0, 0, 0],\n",
    "[0, 1, 0, 0, 0, 0, 0, 0, 0, 0],\n",
    "[3 , 0 , 0 , 0 , 0 , 0 , 0 , 0 , 0 , 0 ]])\n",
    "# Создать сжатую разреженную матрицу-строку (CSR-матрицу)\n",
    "matrix_large_sparse = sparse.csr_matrix(matrix_large)\n",
    "# Взглянуть на исходную разреженную матрицу\n",
    "print(matrix_sparse)\n"
   ]
  },
  {
   "cell_type": "markdown",
   "id": "83de0829",
   "metadata": {},
   "source": [
    "## Локация в матрице Numpy"
   ]
  },
  {
   "cell_type": "code",
   "execution_count": 11,
   "id": "1f02cc4b",
   "metadata": {},
   "outputs": [],
   "source": [
    "vector = np.array([1, 2, 3, 4, 5, 6])\n",
    "matrix = np.array([[1, 2, 3],[4, 5, 6],[7, 8, 9]])\n"
   ]
  },
  {
   "cell_type": "code",
   "execution_count": 12,
   "id": "352d13fa",
   "metadata": {},
   "outputs": [
    {
     "data": {
      "text/plain": [
       "2"
      ]
     },
     "execution_count": 12,
     "metadata": {},
     "output_type": "execute_result"
    }
   ],
   "source": [
    "vector[1]"
   ]
  },
  {
   "cell_type": "code",
   "execution_count": 17,
   "id": "23740564",
   "metadata": {},
   "outputs": [
    {
     "data": {
      "text/plain": [
       "array([4, 5, 6])"
      ]
     },
     "execution_count": 17,
     "metadata": {},
     "output_type": "execute_result"
    }
   ],
   "source": [
    "matrix[1]"
   ]
  },
  {
   "cell_type": "code",
   "execution_count": 20,
   "id": "6e42794e",
   "metadata": {},
   "outputs": [
    {
     "data": {
      "text/plain": [
       "array([3, 6])"
      ]
     },
     "execution_count": 20,
     "metadata": {},
     "output_type": "execute_result"
    }
   ],
   "source": [
    "matrix[:2,-1]"
   ]
  },
  {
   "cell_type": "markdown",
   "id": "f5da1678",
   "metadata": {
    "heading_collapsed": true
   },
   "source": [
    "## Случайные величины в Numpy"
   ]
  },
  {
   "cell_type": "markdown",
   "id": "2d10e601",
   "metadata": {
    "hidden": true
   },
   "source": [
    "### Основные генераторы случаных чисел"
   ]
  },
  {
   "cell_type": "code",
   "execution_count": 22,
   "id": "40232d3d",
   "metadata": {
    "hidden": true
   },
   "outputs": [],
   "source": [
    "import numpy.random"
   ]
  },
  {
   "cell_type": "markdown",
   "id": "cd29b5ed",
   "metadata": {
    "hidden": true
   },
   "source": [
    "``np.random.rand(size)`` - генерирует случайное число, имеющее распределение $U_{[0,1)}$"
   ]
  },
  {
   "cell_type": "code",
   "execution_count": 30,
   "id": "7f27fd31",
   "metadata": {
    "hidden": true
   },
   "outputs": [
    {
     "data": {
      "text/plain": [
       "0.6009890240751629"
      ]
     },
     "execution_count": 30,
     "metadata": {},
     "output_type": "execute_result"
    }
   ],
   "source": [
    "np.random.rand()"
   ]
  },
  {
   "cell_type": "markdown",
   "id": "c7a83b78",
   "metadata": {
    "hidden": true
   },
   "source": [
    "``np.random.rand(size)`` - генерирует случайное число, имеющее распределение $N_{0,1}$"
   ]
  },
  {
   "cell_type": "code",
   "execution_count": 24,
   "id": "73bf70b3",
   "metadata": {
    "hidden": true
   },
   "outputs": [
    {
     "data": {
      "text/plain": [
       "0.8871179000619971"
      ]
     },
     "execution_count": 24,
     "metadata": {},
     "output_type": "execute_result"
    }
   ],
   "source": [
    "np.random.rand()"
   ]
  },
  {
   "cell_type": "code",
   "execution_count": 27,
   "id": "b9ef7baa",
   "metadata": {
    "hidden": true
   },
   "outputs": [
    {
     "data": {
      "text/plain": [
       "array([[0.61459617, 0.46996968, 0.7126008 , 0.43966803],\n",
       "       [0.34308409, 0.44567458, 0.35006702, 0.14361763]])"
      ]
     },
     "execution_count": 27,
     "metadata": {},
     "output_type": "execute_result"
    }
   ],
   "source": [
    "np.random.rand(2,4)"
   ]
  },
  {
   "cell_type": "code",
   "execution_count": 26,
   "id": "dd9b2e94",
   "metadata": {
    "hidden": true
   },
   "outputs": [
    {
     "data": {
      "text/plain": [
       "array([-0.23316613,  0.97470094,  1.980448  ,  0.1311328 ,  0.60166512])"
      ]
     },
     "execution_count": 26,
     "metadata": {},
     "output_type": "execute_result"
    }
   ],
   "source": [
    "np.random.randn(5)"
   ]
  },
  {
   "cell_type": "markdown",
   "id": "ea360b65",
   "metadata": {
    "hidden": true
   },
   "source": [
    "``np.random.randint(low, high, size)`` - генерирует случайное число, имеющее распределение $DU_{[a,b)}$"
   ]
  },
  {
   "cell_type": "code",
   "execution_count": 28,
   "id": "c98c6b07",
   "metadata": {
    "hidden": true
   },
   "outputs": [
    {
     "data": {
      "text/plain": [
       "array([[15, 16, 12, 12, 18, 16, 11, 11, 18, 10],\n",
       "       [16, 12, 17, 19, 18, 14, 12, 16, 12, 14]])"
      ]
     },
     "execution_count": 28,
     "metadata": {},
     "output_type": "execute_result"
    }
   ],
   "source": [
    "np.random.randint(low=10, high=20, size=(2, 10))"
   ]
  },
  {
   "cell_type": "code",
   "execution_count": 32,
   "id": "00afc12a",
   "metadata": {
    "hidden": true
   },
   "outputs": [
    {
     "data": {
      "text/plain": [
       "Text(0.5, 1.0, 'randint(low=1, high=10)')"
      ]
     },
     "execution_count": 32,
     "metadata": {},
     "output_type": "execute_result"
    },
    {
     "data": {
      "image/png": "[encoded data removed]",
      "text/plain": [
       "<Figure size 1200x300 with 3 Axes>"
      ]
     },
     "metadata": {},
     "output_type": "display_data"
    }
   ],
   "source": [
    "import matplotlib.pyplot as plt\n",
    "fig, axes = plt.subplots(1, 3, figsize=(12, 3))\n",
    "axes[0].hist(np.random.rand(10000))\n",
    "axes[0].set_title(\"rand\")\n",
    "axes[1].hist(np.random.randn(10000))\n",
    "axes[1].set_title(\"randn\")\n",
    "axes[2].hist(np.random.randint(low=1, high=10, size=10000), bins=9, align='left')\n",
    "axes[2].set_title(\"randint(low=1, high=10)\")"
   ]
  },
  {
   "cell_type": "markdown",
   "id": "2ed54a61",
   "metadata": {
    "hidden": true
   },
   "source": [
    "### Случайная выборка"
   ]
  },
  {
   "cell_type": "markdown",
   "id": "01d45bfd",
   "metadata": {
    "hidden": true
   },
   "source": [
    "Рандомная выборка из набора целых чисел (популяции, **генеральной совокупности**). "
   ]
  },
  {
   "cell_type": "markdown",
   "id": "e6446f3c",
   "metadata": {
    "hidden": true
   },
   "source": [
    "**Урновая схема**"
   ]
  },
  {
   "cell_type": "markdown",
   "id": "0f37021d",
   "metadata": {
    "hidden": true
   },
   "source": [
    "| Общее количество различных наборов \t| С возвращением============                \t| ========Без_возвращения============                             \t|\n",
    "|:------------------------------------\t|:-------\t|:----------------\t|\n",
    "| **С учетом порядка**                 \t| $n^k$                         \t| $A_k^n=n(n-1)...(n-k-1)=\\frac{n!}{(n-k)!}$   \t|\n",
    "| **Без учета порядка**                 \t| $C_{n+k-1}^k=C_{n+k-1}^{n-1}$ \t| $C_k^n=\\frac{A_k^n}{k!}=\\frac{n!}{k!(n-k)!}$ \t|"
   ]
  },
  {
   "cell_type": "markdown",
   "id": "ecdd2b44",
   "metadata": {
    "hidden": true
   },
   "source": [
    "* **BitGenerator** - создание последовательности\n",
    "* **Generator** - выборка по распределению среди последовательности"
   ]
  },
  {
   "cell_type": "markdown",
   "id": "093d9c4a",
   "metadata": {
    "hidden": true
   },
   "source": [
    "**Распределения:**\n",
    "\n",
    "\n",
    "beta(a, b[, size]) Draw samples from a Beta distribution.\n",
    "\n",
    "dirichlet(alpha[, size]) Draw samples from the Dirichlet distribution.\n",
    "\n",
    "gumbel([loc, scale, size]) Draw samples from a Gumbel distribution.\n",
    "\n",
    "laplace([loc, scale, size]) Draw samples from the Laplace or double exponential distribution with specified location (or mean) and scale (decay).\n",
    "\n",
    "logistic([loc, scale, size])\n",
    "\n",
    "Draw samples from a logistic distribution.\n",
    "\n",
    "lognormal([mean, sigma, size])\n",
    "\n",
    "Draw samples from a log-normal distribution.\n",
    "\n",
    "logseries(p[, size])\n",
    "\n",
    "Draw samples from a logarithmic series distribution.\n",
    "\n",
    "multinomial(n, pvals[, size])\n",
    "\n",
    "Draw samples from a multinomial distribution.\n",
    "\n",
    "multivariate_hypergeometric(colors, nsample)\n",
    "\n",
    "Generate variates from a multivariate hypergeometric distribution.\n",
    "\n",
    "multivariate_normal(mean, cov[, size, ...])\n",
    "\n",
    "Draw random samples from a multivariate normal distribution.\n",
    "\n",
    "\n",
    "noncentral_chisquare(df, nonc[, size])\n",
    "\n",
    "Draw samples from a noncentral chi-square distribution.\n",
    "\n",
    "noncentral_f(dfnum, dfden, nonc[, size])\n",
    "\n",
    "Draw samples from the noncentral F distribution.\n",
    "\n",
    "\n",
    "\n",
    "\n",
    "\n",
    "\n",
    "\n",
    "\n",
    "power(a[, size])\n",
    "\n",
    "Draws samples in [0, 1] from a power distribution with positive exponent a - 1.\n",
    "\n",
    "rayleigh([scale, size])\n",
    "\n",
    "Draw samples from a Rayleigh distribution.\n",
    "\n",
    "standard_cauchy([size])\n",
    "\n",
    "Draw samples from a standard Cauchy distribution with mode = 0.\n",
    "\n",
    "standard_exponential([size, dtype, method, out])\n",
    "\n",
    "Draw samples from the standard exponential distribution.\n",
    "\n",
    "standard_gamma(shape[, size, dtype, out])\n",
    "\n",
    "Draw samples from a standard Gamma distribution.\n",
    "\n",
    "\n",
    "\n",
    "\n",
    "\n",
    "Draw samples from a standard Student's t distribution with df degrees of freedom.\n",
    "\n",
    "triangular(left, mode, right[, size])\n",
    "\n",
    "Draw samples from the triangular distribution over the interval [left, right].\n",
    "\n",
    "\n",
    "\n",
    "vonmises(mu, kappa[, size])\n",
    "\n",
    "Draw samples from a von Mises distribution.\n",
    "\n",
    "wald(mean, scale[, size])\n",
    "\n",
    "Draw samples from a Wald, or inverse Gaussian, distribution.\n",
    "\n",
    "weibull(a[, size])\n",
    "\n",
    "Draw samples from a Weibull distribution.\n",
    "\n",
    "zipf(a[, size])\n",
    "\n",
    "Draw samples from a Zipf distribution."
   ]
  },
  {
   "cell_type": "markdown",
   "id": "cba04f97",
   "metadata": {
    "hidden": true
   },
   "source": [
    "negative_binomial(n, p[, size])\n",
    "\n",
    "Draw samples from a negative binomial distribution.\n"
   ]
  },
  {
   "cell_type": "markdown",
   "id": "33b8014a",
   "metadata": {
    "hidden": true
   },
   "source": [
    "**Дискретные распределения**\n",
    "\n",
    "| Название               | Обозначение     | Функция                                          |   |   |\n",
    "|------------------------|-----------------|--------------------------------------------------|---|---|\n",
    "| Вырожденное            | $I_c$           |                                                  |   |   |\n",
    "| Бернулли               | $B_p$           |                                                  |   |   |\n",
    "| Биномиальное           | $B_{n,p}$       | ``binomial(n, p[, size])``                       |   |   |\n",
    "| Геометрическое         | $G_p$           | ``geometric(p[, size])``                         |   |   |\n",
    "| Пуассон                | $\\Pi_{\\lambda}$ | ``poisson([lam, size])``                         |   |   |\n",
    "| Гипергеометрическое    | $G_{n,N,K}$     | ``hypergeometric(ngood, nbad, nsample[, size])`` |   |   |\n",
    "| Дискретное равномерное | $DU_{[a,b)}$      | ``nnp.random.randint(low, high, size)``          |   |   |\n"
   ]
  },
  {
   "cell_type": "markdown",
   "id": "41b42147",
   "metadata": {
    "hidden": true
   },
   "source": [
    "**Абсолютно непрерывные распределения**\n",
    "\n",
    "| Название                         | Обозначение                | Функция                                                         |\n",
    "|----------------------------------|----------------------------|-----------------------------------------------------------------|\n",
    "| Равномерное                      | $U_{a,b}$                  | ``uniform([low, high, size])``                                  |\n",
    "| Равномерное стандартное          | $U_{[0,1)}$                | ``np.random.rand()``                                            |\n",
    "| Показательное (Экспоненциальное) | $E_{\\alpha}$               | ``exponential([scale, size])``                                  |\n",
    "| Нормальное (Гаусса)              | $N_{a,\\sigma}$             | ``normal([loc, scale, size])``                                  |\n",
    "| Стандартное нормальное           | $N_{0,1}$                  | ``standard_normal([size, dtype, out])``<br>``np.random.rand()`` |\n",
    "| Гамма                            | $\\Gamma_{\\alpha, \\lambda}$ | ``gamma(shape[, scale, size])``                                 |\n",
    "| Коши                             |                            |                                                                 |\n",
    "| Парето                           |                            | ``pareto(a[, size])``                                           |\n",
    "| Хи-квадрат                       | $\\chi^2_{n}$                   | ``chisquare(df[, size])``                                       |\n",
    "| Стандартное t-Стьюдента          | $t_n$                     | ``standard_t(df[, size])``                                      |\n",
    "| F-Фишера                         | $F_{m,n}$                  | ``f(dfnum, dfden[, size])``                                        |\n"
   ]
  },
  {
   "cell_type": "code",
   "execution_count": 3,
   "id": "5bd5e763",
   "metadata": {
    "hidden": true
   },
   "outputs": [],
   "source": [
    "from numpy.random import *\n",
    "rng=default_rng(1000)"
   ]
  },
  {
   "cell_type": "code",
   "execution_count": 4,
   "id": "0f4c22d7",
   "metadata": {
    "hidden": true
   },
   "outputs": [
    {
     "data": {
      "text/plain": [
       "array([2, 5, 8], dtype=int64)"
      ]
     },
     "execution_count": 4,
     "metadata": {},
     "output_type": "execute_result"
    }
   ],
   "source": [
    "rng.integers(low=0,high=10,size=3)"
   ]
  },
  {
   "cell_type": "code",
   "execution_count": 5,
   "id": "0b714ccb",
   "metadata": {
    "hidden": true
   },
   "outputs": [
    {
     "data": {
      "text/plain": [
       "array([[0.4709418 , 0.20324794, 0.52875903],\n",
       "       [0.19103628, 0.2815456 , 0.75368155],\n",
       "       [0.55167178, 0.86372208, 0.80537222]])"
      ]
     },
     "execution_count": 5,
     "metadata": {},
     "output_type": "execute_result"
    }
   ],
   "source": [
    "rng.random((3,3))"
   ]
  },
  {
   "cell_type": "code",
   "execution_count": null,
   "id": "cfb391fc",
   "metadata": {
    "hidden": true
   },
   "outputs": [],
   "source": []
  },
  {
   "cell_type": "markdown",
   "id": "1bd56466",
   "metadata": {
    "hidden": true
   },
   "source": [
    "#### Примеры"
   ]
  },
  {
   "cell_type": "markdown",
   "id": "052be451",
   "metadata": {
    "hidden": true
   },
   "source": [
    "**Аппроксимация $\\pi$ методом Монте Карло**"
   ]
  },
  {
   "attachments": {
    "image.png": {
     "image/png": "[encoded data removed]"
    }
   },
   "cell_type": "markdown",
   "id": "9f98b82b",
   "metadata": {
    "hidden": true
   },
   "source": [
    "![imfssdfdsgfdgfhfghfage.png](attachment:image.png)"
   ]
  },
  {
   "cell_type": "code",
   "execution_count": null,
   "id": "1a6939c1",
   "metadata": {
    "hidden": true
   },
   "outputs": [],
   "source": []
  },
  {
   "cell_type": "markdown",
   "id": "4f895b77",
   "metadata": {
    "hidden": true
   },
   "source": []
  },
  {
   "attachments": {
    "image.png": {
     "image/png": "[encoded data removed]"
    }
   },
   "cell_type": "markdown",
   "id": "de8e2eae",
   "metadata": {
    "hidden": true
   },
   "source": [
    "![imasdsdasddfsdcxdxcvcbvcnvage.png](attachment:image.png)"
   ]
  },
  {
   "cell_type": "code",
   "execution_count": 6,
   "id": "abb03f5f",
   "metadata": {
    "hidden": true
   },
   "outputs": [],
   "source": [
    "from numpy.random import uniform\n",
    "def binomial_rv(n,p):\n",
    "    "
   ]
  },
  {
   "cell_type": "code",
   "execution_count": 13,
   "id": "ea6c2169",
   "metadata": {
    "hidden": true
   },
   "outputs": [
    {
     "data": {
      "text/plain": [
       "0.3568222270916639"
      ]
     },
     "execution_count": 13,
     "metadata": {},
     "output_type": "execute_result"
    }
   ],
   "source": [
    "uniform(0,1)"
   ]
  },
  {
   "cell_type": "code",
   "execution_count": null,
   "id": "ba7b3550",
   "metadata": {
    "hidden": true
   },
   "outputs": [],
   "source": []
  },
  {
   "cell_type": "markdown",
   "id": "451fb86a",
   "metadata": {
    "hidden": true
   },
   "source": []
  },
  {
   "attachments": {
    "image.png": {
     "image/png": "[encoded data removed]"
    }
   },
   "cell_type": "markdown",
   "id": "0b997a1b",
   "metadata": {
    "hidden": true
   },
   "source": [
    "![imagewqqweqweerfdfe.png](attachment:image.png)"
   ]
  },
  {
   "cell_type": "code",
   "execution_count": null,
   "id": "22407ec1",
   "metadata": {
    "hidden": true
   },
   "outputs": [],
   "source": []
  },
  {
   "cell_type": "markdown",
   "id": "11a6b7b0",
   "metadata": {},
   "source": [
    "## Описание матрицы"
   ]
  },
  {
   "cell_type": "markdown",
   "id": "e4dabaf9",
   "metadata": {},
   "source": [
    "* ``matrix.shape`` - взглянуть на количество строк и столбцов\n",
    "* ``matrix.size`` - взглянуть на количество элементов (строки * столбцы) \n",
    "* ``matrix.ndim`` - взглянуть на количество размерностей "
   ]
  },
  {
   "cell_type": "markdown",
   "id": "738e7817",
   "metadata": {},
   "source": [
    "* ``np.max(matrix, axis=0)``\n",
    "* ``np.min(matrix)``\n",
    "* ``np.median(matrix)``\n",
    "* ``np.mean(matrix)``"
   ]
  },
  {
   "cell_type": "markdown",
   "id": "17995d0e",
   "metadata": {},
   "source": [
    "* ``x.min()``, ``x.max()``\n",
    "* ``x.var()``,  ``x.std()``\n",
    "* ``x.var(ddof=1)``, ``x.std(ddof=1)``"
   ]
  },
  {
   "cell_type": "markdown",
   "id": "c3408835",
   "metadata": {},
   "source": [
    "Typically we have incomplete\n",
    "information because we are unable to collect data from all members of a population\n",
    "or if there is uncertainty in observations that we make (e.g., due to measurement\n",
    "noise). When we are unable to survey an entire population, a randomly chosen sample\n",
    "can be studied instead, and we can use statistical methods and compute descriptive\n",
    "statistics (parameters such as the mean and the variances) to make inferences about the\n",
    "properties of the entire population (also called sample space) in a systematic manner\n",
    "and with controlled risks of error"
   ]
  },
  {
   "cell_type": "code",
   "execution_count": 21,
   "id": "ca86f86d",
   "metadata": {},
   "outputs": [],
   "source": [
    "matrix = np.array([[1, 2, 3, 4],\n",
    "[5, 6, 7, 8],\n",
    "[9, 10, 11, 12]])\n"
   ]
  },
  {
   "cell_type": "code",
   "execution_count": 14,
   "id": "ddf5db65",
   "metadata": {},
   "outputs": [
    {
     "data": {
      "text/plain": [
       "3.1"
      ]
     },
     "execution_count": 14,
     "metadata": {},
     "output_type": "execute_result"
    }
   ],
   "source": [
    "import numpy as np\n",
    "x = np.array([3.5, 1.1, 3.2, 2.8, 6.7, 4.4, 0.9, 2.2])\n",
    "np.mean(x)\n",
    "3.1"
   ]
  },
  {
   "cell_type": "code",
   "execution_count": 15,
   "id": "aad3e90e",
   "metadata": {},
   "outputs": [
    {
     "data": {
      "text/plain": [
       "3.0"
      ]
     },
     "execution_count": 15,
     "metadata": {},
     "output_type": "execute_result"
    }
   ],
   "source": [
    "np.median(x)"
   ]
  },
  {
   "cell_type": "code",
   "execution_count": 16,
   "id": "6deeedc1",
   "metadata": {},
   "outputs": [
    {
     "data": {
      "text/plain": [
       "(0.9, 6.7)"
      ]
     },
     "execution_count": 16,
     "metadata": {},
     "output_type": "execute_result"
    }
   ],
   "source": [
    "x.min(), x.max()"
   ]
  },
  {
   "cell_type": "code",
   "execution_count": 21,
   "id": "67ad43f2",
   "metadata": {
    "scrolled": true
   },
   "outputs": [
    {
     "data": {
      "text/plain": [
       "(3.0700000000000007, 1.7521415467935233)"
      ]
     },
     "execution_count": 21,
     "metadata": {},
     "output_type": "execute_result"
    }
   ],
   "source": [
    "x.var(),  x.std()"
   ]
  },
  {
   "cell_type": "code",
   "execution_count": 20,
   "id": "efe92cc2",
   "metadata": {},
   "outputs": [
    {
     "data": {
      "text/plain": [
       "(3.5085714285714293, 1.8731181032095732)"
      ]
     },
     "execution_count": 20,
     "metadata": {},
     "output_type": "execute_result"
    }
   ],
   "source": [
    "# Несмещенные дисперсия и стандартная ошибка\n",
    "x.var(ddof=1), x.std(ddof=1)"
   ]
  },
  {
   "cell_type": "markdown",
   "id": "cd4f9608",
   "metadata": {},
   "source": [
    "**Ранг матрицы, главная диагональ и след**"
   ]
  },
  {
   "cell_type": "markdown",
   "id": "c5f1a4ff",
   "metadata": {},
   "source": [
    "* ``np.linalg.matrix_rank(matrix)`` - вернуть ранг матрицы\n"
   ]
  },
  {
   "cell_type": "markdown",
   "id": "62ae1611",
   "metadata": {},
   "source": [
    "Ранг матрицы — это размерности векторного пространства, которые покрываются\n",
    "ее столбцами или строками"
   ]
  },
  {
   "cell_type": "markdown",
   "id": "7131e4e9",
   "metadata": {},
   "source": [
    "* ``np.linalg.det(matrix)`` - Вернуть определитель матрицы \n",
    "matrix.diagonal() - главная диагональ\n",
    "matrix.trace() - след матрицы"
   ]
  },
  {
   "cell_type": "markdown",
   "id": "5159b66a",
   "metadata": {},
   "source": [
    "След матрицы является суммой элементов главной диагонали и часто используется\n",
    "за кадром в методах машинного самообучения."
   ]
  },
  {
   "cell_type": "markdown",
   "id": "85138f8e",
   "metadata": {},
   "source": [
    "**Собственные числа и вектора**"
   ]
  },
  {
   "cell_type": "markdown",
   "id": "a4d8ef8f",
   "metadata": {},
   "source": [
    "``eigenvalues, eigenvectors`` = ``np.linalg.eig(matrix)`` - вычисление собственных значений и собственных векторов"
   ]
  },
  {
   "cell_type": "markdown",
   "id": "4639a39c",
   "metadata": {},
   "source": [
    "Собственные векторы широко используются в библиотеках машинного самообучения. В интуитивном плане, имея линейное преобразование, представленное матрицей А, можно сказать, что собственные векторы — это векторы, которые при применении этого преобразования изменяются только в масштабе (а не в направлении).\n",
    "Более формально:\n",
    "\n",
    "**$Av = \\lambda v$**\n",
    "\n",
    ",\n",
    "где А — это квадратная матрица; X — собственное значение; v — собственный\n",
    "вектор.\n",
    "В наборе линейно-алгебраических инструментов библиотеки NumPy метод eig позволяет вычислять собственные значения и собственные векторы любой квадратной матрицы.\n"
   ]
  },
  {
   "cell_type": "code",
   "execution_count": 25,
   "id": "6b4644cc",
   "metadata": {},
   "outputs": [],
   "source": [
    "matrix=np.array([[ 1,  2,  3,  4],\n",
    "              [ 5,  6,  7,  8],\n",
    "              [9, 10, 11, 12],\n",
    "             [13,14,15,16]])"
   ]
  },
  {
   "cell_type": "code",
   "execution_count": 27,
   "id": "631f19b7",
   "metadata": {
    "scrolled": false
   },
   "outputs": [
    {
     "data": {
      "text/plain": [
       "(array([ 3.62093727e+01, -2.20937271e+00, -5.14138333e-16, -2.08943529e-15]),\n",
       " array([[-0.15115432, -0.72704996,  0.01790738, -0.26832672],\n",
       "        [-0.34923733, -0.28320876,  0.38415354,  0.71367217],\n",
       "        [-0.54732033,  0.16063243, -0.82202921, -0.62236419],\n",
       "        [-0.74540333,  0.60447363,  0.41996829,  0.17701873]]))"
      ]
     },
     "execution_count": 27,
     "metadata": {},
     "output_type": "execute_result"
    }
   ],
   "source": [
    "eigenvalues, eigenvectors = np.linalg.eig(matrix)\n",
    "eigenvalues, eigenvectors"
   ]
  },
  {
   "cell_type": "markdown",
   "id": "d56474ae",
   "metadata": {},
   "source": [
    "**Скалярное произведение**"
   ]
  },
  {
   "cell_type": "code",
   "execution_count": 28,
   "id": "f875a7c3",
   "metadata": {},
   "outputs": [
    {
     "data": {
      "text/plain": [
       "32"
      ]
     },
     "execution_count": 28,
     "metadata": {},
     "output_type": "execute_result"
    }
   ],
   "source": [
    "vector_a = np.array([1,2,3])\n",
    "vector_b = np.array([4,5,6])\n",
    "np.dot(vector_a, vector_b)\n"
   ]
  },
  {
   "attachments": {
    "image.png": {
     "image/png": "[encoded data removed]"
    }
   },
   "cell_type": "markdown",
   "id": "c0fcc5a6",
   "metadata": {},
   "source": [
    "![imиртоьритоьage.png](attachment:image.png)"
   ]
  },
  {
   "cell_type": "markdown",
   "id": "017043a8",
   "metadata": {},
   "source": [
    "**Сложение, вычитание**"
   ]
  },
  {
   "cell_type": "code",
   "execution_count": null,
   "id": "bb497fc5",
   "metadata": {},
   "outputs": [],
   "source": [
    "matrix_a = np.array([[1, 1, 1],\n",
    "[1, 1, 1],\n",
    "[1, 1, 2]])\n",
    "# Создать матрицу\n",
    "matrix_b = np.array([[1, 3, 1],\n",
    "[1, 3, 1],\n",
    "[1, 3, 8]])"
   ]
  },
  {
   "cell_type": "code",
   "execution_count": 30,
   "id": "15a6752c",
   "metadata": {},
   "outputs": [
    {
     "data": {
      "text/plain": [
       "array([[ 2,  4,  2],\n",
       "       [ 2,  4,  2],\n",
       "       [ 2,  4, 10]])"
      ]
     },
     "execution_count": 30,
     "metadata": {},
     "output_type": "execute_result"
    }
   ],
   "source": [
    "# Сложить две матрицы\n",
    "np.add(matrix_a, matrix_b)"
   ]
  },
  {
   "cell_type": "code",
   "execution_count": 31,
   "id": "8cf49aad",
   "metadata": {},
   "outputs": [
    {
     "data": {
      "text/plain": [
       "array([[ 0, -2,  0],\n",
       "       [ 0, -2,  0],\n",
       "       [ 0, -2, -6]])"
      ]
     },
     "execution_count": 31,
     "metadata": {},
     "output_type": "execute_result"
    }
   ],
   "source": [
    "np.subtract(matrix_a, matrix_b)\n"
   ]
  },
  {
   "cell_type": "code",
   "execution_count": 32,
   "id": "85c072a7",
   "metadata": {
    "scrolled": true
   },
   "outputs": [
    {
     "data": {
      "text/plain": [
       "array([[ 2,  4,  2],\n",
       "       [ 2,  4,  2],\n",
       "       [ 2,  4, 10]])"
      ]
     },
     "execution_count": 32,
     "metadata": {},
     "output_type": "execute_result"
    }
   ],
   "source": [
    "matrix_a + matrix_b"
   ]
  },
  {
   "cell_type": "markdown",
   "id": "6919e5d4",
   "metadata": {},
   "source": [
    "**Умножение**"
   ]
  },
  {
   "cell_type": "code",
   "execution_count": 34,
   "id": "b05edf0b",
   "metadata": {},
   "outputs": [
    {
     "data": {
      "text/plain": [
       "array([[2, 5],\n",
       "       [3, 7]])"
      ]
     },
     "execution_count": 34,
     "metadata": {},
     "output_type": "execute_result"
    }
   ],
   "source": [
    "matrix_a = np.array([[1, 1],\n",
    "[1, 2]])\n",
    "# Создать матрицу\n",
    "matrix_b = np.array([[1, 3],\n",
    "[1, 2]])\n",
    "\n",
    "# Перемножить две матрицы\n",
    "np.dot(matrix_a, matrix_b)\n"
   ]
  },
  {
   "cell_type": "markdown",
   "id": "7e7f58eb",
   "metadata": {},
   "source": [
    "**Матричное умножение**"
   ]
  },
  {
   "cell_type": "code",
   "execution_count": 37,
   "id": "bc160421",
   "metadata": {},
   "outputs": [
    {
     "data": {
      "text/plain": [
       "array([[2, 5],\n",
       "       [3, 7]])"
      ]
     },
     "execution_count": 37,
     "metadata": {},
     "output_type": "execute_result"
    }
   ],
   "source": [
    "matrix_a @ matrix_b"
   ]
  },
  {
   "cell_type": "markdown",
   "id": "d736b3b7",
   "metadata": {},
   "source": [
    "**Поэлементное умножение**"
   ]
  },
  {
   "cell_type": "code",
   "execution_count": 35,
   "id": "b63ab3dc",
   "metadata": {},
   "outputs": [
    {
     "data": {
      "text/plain": [
       "array([[1, 3],\n",
       "       [1, 4]])"
      ]
     },
     "execution_count": 35,
     "metadata": {},
     "output_type": "execute_result"
    }
   ],
   "source": [
    "matrix_a * matrix_b"
   ]
  },
  {
   "cell_type": "markdown",
   "id": "6db4fd8e",
   "metadata": {},
   "source": [
    "**Обратная матрица**"
   ]
  },
  {
   "cell_type": "code",
   "execution_count": 39,
   "id": "59c1dd86",
   "metadata": {},
   "outputs": [
    {
     "data": {
      "text/plain": [
       "array([[-1.66666667,  1.33333333],\n",
       "       [ 0.66666667, -0.33333333]])"
      ]
     },
     "execution_count": 39,
     "metadata": {},
     "output_type": "execute_result"
    }
   ],
   "source": [
    "matrix = np.array([[1, 4],\n",
    "[2, 5]])\n",
    "np.linalg.inv(matrix)"
   ]
  },
  {
   "attachments": {
    "image.png": {
     "image/png": "[encoded data removed]"
    }
   },
   "cell_type": "markdown",
   "id": "b0015d8a",
   "metadata": {},
   "source": [
    "![imageваваыввыа.png](attachment:image.png)"
   ]
  },
  {
   "cell_type": "code",
   "execution_count": 43,
   "id": "97999d44",
   "metadata": {},
   "outputs": [
    {
     "data": {
      "text/plain": [
       "array([0.5488135 , 0.71518937, 0.60276338])"
      ]
     },
     "execution_count": 43,
     "metadata": {},
     "output_type": "execute_result"
    }
   ],
   "source": [
    "\n",
    "# Задать начальное значение для генератора псевдослучайных чисел\n",
    "np.random.seed(0)\n",
    "# Сгенерировать три случайных вещественных числа между 0.0 и 1.0\n",
    "np.random.random(3)"
   ]
  },
  {
   "cell_type": "markdown",
   "id": "75bdf1b8",
   "metadata": {},
   "source": [
    "## Преобразование матриц\n"
   ]
  },
  {
   "cell_type": "markdown",
   "id": "4bde4671",
   "metadata": {},
   "source": [
    "* ``matrix.T`` - транспонирование\n",
    "* ``matrix.flatten()`` - сглаживает матрицы в одномерный вектор\n"
   ]
  },
  {
   "cell_type": "markdown",
   "id": "93a7b1a8",
   "metadata": {
    "heading_collapsed": true
   },
   "source": [
    "## Модуль pynverse"
   ]
  },
  {
   "cell_type": "markdown",
   "id": "9ef868fb",
   "metadata": {
    "hidden": true
   },
   "source": [
    "Нахождение функции обратной данной. "
   ]
  },
  {
   "cell_type": "code",
   "execution_count": 52,
   "id": "64399fb4",
   "metadata": {
    "hidden": true
   },
   "outputs": [
    {
     "name": "stdout",
     "output_type": "stream",
     "text": [
      "Collecting pynverse\n",
      "  Downloading pynverse-0.1.4.4.tar.gz (8.7 kB)\n",
      "  Preparing metadata (setup.py): started\n",
      "  Preparing metadata (setup.py): finished with status 'done'\n",
      "Requirement already satisfied: scipy>=0.11 in c:\\users\\79618\\appdata\\local\\programs\\python\\python310\\lib\\site-packages (from pynverse) (1.9.2)\n",
      "Requirement already satisfied: numpy>=1.6 in c:\\users\\79618\\appdata\\local\\programs\\python\\python310\\lib\\site-packages (from pynverse) (1.23.3)\n",
      "Installing collected packages: pynverse\n",
      "  Running setup.py install for pynverse: started\n",
      "  Running setup.py install for pynverse: finished with status 'done'\n",
      "Successfully installed pynverse-0.1.4.4\n",
      "Note: you may need to restart the kernel to use updated packages.\n"
     ]
    },
    {
     "name": "stderr",
     "output_type": "stream",
     "text": [
      "  DEPRECATION: pynverse is being installed using the legacy 'setup.py install' method, because it does not have a 'pyproject.toml' and the 'wheel' package is not installed. pip 23.1 will enforce this behaviour change. A possible replacement is to enable the '--use-pep517' option. Discussion can be found at https://github.com/pypa/pip/issues/8559\n"
     ]
    }
   ],
   "source": [
    "pip install pynverse"
   ]
  },
  {
   "cell_type": "code",
   "execution_count": 53,
   "id": "9e835127",
   "metadata": {
    "hidden": true
   },
   "outputs": [],
   "source": [
    "from pynverse import *"
   ]
  },
  {
   "cell_type": "code",
   "execution_count": 57,
   "id": "4cc8ed50",
   "metadata": {
    "hidden": true
   },
   "outputs": [
    {
     "data": {
      "text/plain": [
       "array(3.00000001)"
      ]
     },
     "execution_count": 57,
     "metadata": {},
     "output_type": "execute_result"
    }
   ],
   "source": [
    "cube=lambda x :x**3\n",
    "invcube=inversefunc(cube)\n",
    "invcube(27)"
   ]
  },
  {
   "cell_type": "markdown",
   "id": "f1d79ba9",
   "metadata": {
    "hidden": true
   },
   "source": [
    "``inversefunc(f, args)`` - функция должна быть расх. рядом, она должна быть непрерывной строго монотонной в данном интервале\n",
    "**kwargs:**\n",
    "* ``y_values=float,ndarray,optional,None*`` - находит значение обратной в этих точках \n",
    "* ``domain=float,ndarray,optional,None*`` - d: (-Inf,Inf) \n",
    "* ``open_domain=bool*,ndarray`` - открытый интервал или нет [T/F,T/F] d: [F,F]\n",
    "* ``image=float,ndarray`` - d: (-Inf,Inf)\n",
    "* ``args=tuple`` - дополнительный аргумент в функцию\n",
    "* ``accuracy=int`` - число цифр после запятой d:2"
   ]
  },
  {
   "cell_type": "code",
   "execution_count": null,
   "id": "7f1054ee",
   "metadata": {
    "hidden": true
   },
   "outputs": [],
   "source": []
  }
 ],
 "metadata": {
  "kernelspec": {
   "display_name": "Python 3 (ipykernel)",
   "language": "python",
   "name": "python3"
  },
  "language_info": {
   "codemirror_mode": {
    "name": "ipython",
    "version": 3
   },
   "file_extension": ".py",
   "mimetype": "text/x-python",
   "name": "python",
   "nbconvert_exporter": "python",
   "pygments_lexer": "ipython3",
   "version": "3.10.8"
  },
  "toc": {
   "base_numbering": 1,
   "nav_menu": {},
   "number_sections": true,
   "sideBar": true,
   "skip_h1_title": false,
   "title_cell": "Table of Contents",
   "title_sidebar": "Contents",
   "toc_cell": false,
   "toc_position": {},
   "toc_section_display": true,
   "toc_window_display": false
  }
 },
 "nbformat": 4,
 "nbformat_minor": 5
}
