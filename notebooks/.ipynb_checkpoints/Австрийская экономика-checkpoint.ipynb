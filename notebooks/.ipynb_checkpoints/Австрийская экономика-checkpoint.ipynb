{
 "cells": [
  {
   "cell_type": "markdown",
   "id": "cee08b5d",
   "metadata": {},
   "source": [
    "The economics profession is said to be in a crisis, for it failed to announce the 2008\n",
    "meltdown. The widespread perception is that the few economists who predicted it, with\n",
    "various degrees of precision, are usually followers of one ‘heterodox’ school of thought\n",
    "or another. Accordingly, ‘orthodox’ or ‘mainstream’ economics has especially been targeted for criticism, but what is orthodox in economics, today? How can we define the\n",
    "mainstream? \n",
    "\n",
    "Such expressions cannot refer to some unified grand theory that most economists agree on. There is no such theory. Whether we look at textbook microeconomics\n",
    "or at Keynesian-inspired macroeconomics, ‘orthodoxy’ is simply a rhetorical shorthand\n",
    "for several more or less independent theoretical developments, which today are taken to\n",
    "be the standard approaches to the issues they are designed to deal with."
   ]
  },
  {
   "cell_type": "markdown",
   "id": "83a56a3a",
   "metadata": {},
   "source": [
    "Широко распространено мнение, что экономическая профессия находится в глубоком кризисе, т.к. та не смогла предсказать крах 2008 года. Также широко распространено мнение, что немногие экономисты, которые таки смогли это предвидеть с различной степенью точности - это обычно последователи тех или иных \"неортодокасльных\" школ. Соответсвующим образом \"ортодоксальная\" или \"мейнстримная\" экономика приняла на себя удар критики прежде всего, но что вообще из себя представялет неортодоксальная экономика в наши дни? Как мы можем определить экономический мейнстрим? Такого рода понятия не могу отсылать к некоторой Большой и всеобъемлющей теории (unified grand theory), с которйо согласно большинство экономистов. Такой теории не сущесвтует. Будем ли мы смотреть в учебники по микроэкономики или же по кейнсианской макроэкономике, \"ортодоксия\" - это просто реторическое сокращение для нескольких более или менее независимых теоретических разработок, которые в наши дни принимаются как стандартные подходы к решению соответсвующих проблем. "
   ]
  },
  {
   "cell_type": "markdown",
   "id": "cd50e9b8",
   "metadata": {},
   "source": [
    "Nevertheless, there is one view that all economists are supposed to hold, one view\n",
    "which may be considered as a defining feature of the mainstream: in order for an explanation to be truly scientific, it must be obtained and framed in a certain way. It must\n",
    "be modelled after the natural sciences, which explain observed facts by pointing out\n",
    "that these facts are always quantitatively related in a certain way to other observed\n",
    "facts (e.g., in a closed system, the speed of all particles is related to the temperature and\n",
    "the pressure prevailing in the system). And this general idea about what science is and\n",
    "does (‘positivism’) naturally leads to the idea that economic theories should be evaluated according to their predictive power. The widespread failure to predict the crisis\n",
    "then naturally leads to scepticism. After all, the mainstream failed according to its own\n",
    "standards"
   ]
  },
  {
   "cell_type": "markdown",
   "id": "54fb05e0",
   "metadata": {},
   "source": [
    "Тем не менеее, существует одно мнение, которого должны придерживаться все, один взгляд который можно назвать определяющей чертой эконмоического мейнстрима - объяснение может считатья во истину научным лишь тогда, когда оно добыто и framed определеныым образом. Оно должно бытьсмоделировано по аналогии с тем, как это происходит в естественных науках, т.е. наблюдаемые факты объясняются указанием на то, что эти факты всегда находятся в определенной количественной зависимости от других наблюдаемых фактов (например, в закрытой системе скорость частицы зависит от установившихся в системе температуре и давлении). Эта общая идея о том, что такое наука и что наука делает (\"позитивизм\") естественно приводит к идеи того, ччто эеономические теории следует оценивать в соответсветствиии с их предскзательно силой. Широко распространенный провал в том, чтобы предсказат кризит затем вполне естественно приводит к скептицизму. В конце концов, мейнстримная экономика провалилалсь в соответствии с собственными стандартами. "
   ]
  },
  {
   "cell_type": "markdown",
   "id": "34aac338",
   "metadata": {},
   "source": [
    "Among the economists who anticipated the coming meltdown, one finds some Austrian economists. This is especially noteworthy because prediction of specific events does\n",
    "not have for Austrians the central role it has for mainstream economists. Austrians typically do not conceive of economics as some junior natural science. They do not believe\n",
    "that one can explain data with other data. In the distinctive methodology of ‘a priorism’\n",
    "as put forward by Ludwig von Mises, it is held that the core of economics is made\n",
    "of propositions that cannot be falsified or verified by confronting theory to observed experience. In this view, economic laws of cause and effect are logically deduced from\n",
    "the very nature of human action."
   ]
  },
  {
   "cell_type": "markdown",
   "id": "580b694a",
   "metadata": {},
   "source": [
    "Среди экономистов, которые преугаали крах несложно найти и австрийских экономистов. Это особенно примеательно потому что "
   ]
  },
  {
   "cell_type": "markdown",
   "id": "81a6698f",
   "metadata": {},
   "source": [
    "This feature alone is sufficient for Austrian economics to be considered as a heterodox\n",
    "school and an ‘unscientific’ one according to the mainstream standards. In order to make\n",
    "the reader aware of what Austrian economics is and why it is scientific, according to its\n",
    "adherents, we will therefore first say a few things about its method, by contrasting it to\n",
    "the orthodox way of practicing economics. Then we will present Austrian-style analyses\n",
    "of the crisis and discuss why some Austrians were able to understand what was going on\n",
    "prior to 2008 and after."
   ]
  },
  {
   "cell_type": "markdown",
   "id": "575e59d9",
   "metadata": {},
   "source": [
    "**The disagreement in economics over method:\n",
    "Austrians versus the mainstream"
   ]
  },
  {
   "cell_type": "markdown",
   "id": "adb6f0d7",
   "metadata": {},
   "source": [
    "The prevailing method of causal analysis, in mainstream economics, consists of the\n",
    "following: first, one observes some phenomenon. For instance, unemployment has\n",
    "increased from one decade to the next. Then, one looks out for other observable phenomena which seem to be correlated with the first, say, spending in the economy has\n",
    "decreased or the legal minimum wage in the relevant area has been raised. Based on\n",
    "those intuitive correlations, one proposes some working hypothesis which could explain\n",
    "them, such as the Keynesian view that employment derives ultimately from the level of\n",
    "aggregate spending in the economy or the view that a minimum-wage law forces part\n",
    "of the workforce into unemployment when the minimum-wage rate is above some\n",
    "market clearing level. In order to find out how robust the hypothesised explanations\n",
    "are, one will then need to deduce from them still other predictions and observe how\n",
    "prescient they turn out to be. As data are gathered and tests are conducted to verify if the\n",
    "set of expected correlations hold between the phenomenon of unemployment and its\n",
    "hypothesised cause, as well as between the other related cause-and-effect relationships,\n",
    "the hypothesis becomes more or less confirmed or falsified. Depending on the outcome,\n",
    "more or less drastic modifications of the theory may be required, or the hypothesis may\n",
    "be discarded in favour of a new one to which the same process will be applied. As time\n",
    "goes on, ever more generalisations of non-falsified theories are proposed, and the body of\n",
    "scientific knowledge grows by filtering out the most dubious explanations."
   ]
  },
  {
   "cell_type": "markdown",
   "id": "8e6fcc90",
   "metadata": {},
   "source": [
    "Austrians criticise this method on two accounts, one which might be considered as a\n",
    "practical difficulty, whereas the other one is more fundamental"
   ]
  },
  {
   "cell_type": "markdown",
   "id": "4106f8a2",
   "metadata": {},
   "source": [
    "The practical one is that in order to test the predicted relationship, one would need to\n",
    "hold constant every variable which could have some impact on the outcome except for\n",
    "the one which is under examination. Now that might not be a problem whenever the\n",
    "scientist is able to isolate the relevant relationships in laboratory experiments, but there\n",
    "is no laboratory available in which one can reproduce a complex society. In addition,\n",
    "any variable could conceivably have some influence on the outcome, and only some of\n",
    "the virtually innumerable variables one needs to hold constant are known to begin with."
   ]
  },
  {
   "cell_type": "markdown",
   "id": "a1ee41ce",
   "metadata": {},
   "source": [
    "More fundamentally, Austrians typically point out that, in order for various tests to\n",
    "be considered as confirmations or falsifications of the previous ones, one must presuppose\n",
    "that human beings deal with a situation in always the same way whenever it presents itself\n",
    "again. This raises three serious problems. The first one is that this presupposition cannot\n",
    "be observed and tested; therefore, any ‘knowledge’ thus obtained is contingent on the\n",
    "truth of a non-falsifiable claim. Second, this presupposition flies in the face of the most\n",
    "basic facts that everyone knows about human action. It is one thing to suppose that atoms\n",
    "of hydrogen and oxygen do not make choices, and that they therefore always combine\n",
    "in the same way to produce water, but it is difficult if not entirely implausible to make\n",
    "the same supposition in respect to human beings. Last, but not least, this approach turns\n",
    "out to be downright contradictory once we apply it to the actions of scholar-economists.\n",
    "For what about explaining what they do? One would need to come up with a theory\n",
    "and with predictions of what they are going to discover and how their acts will be\n",
    "altered accordingly. But this involves a contradiction with the very meaning of scientific\n",
    "research, which is that scholars can learn something from their tests, something that is\n",
    "not known beforehand."
   ]
  },
  {
   "cell_type": "markdown",
   "id": "7c8147b0",
   "metadata": {},
   "source": [
    "**A very short introduction to Austrian economics**"
   ]
  },
  {
   "cell_type": "markdown",
   "id": "a4fe6de3",
   "metadata": {},
   "source": [
    "These criticisms of the positivistic approach in economics are fairly widely known. Austrians do not hold a monopoly knowledge about the methodological and epistemological\n",
    "shortcomings of today’s mainstream economics. What distinguishes the Austrians is the\n",
    "way they work forward from these criticisms. Indeed, among those who are aware that\n",
    "positivism is an impasse for the social sciences, two general attitudes have prevailed. The\n",
    "first is to conclude that whatever economics is, it cannot be science. Maybe it is a rhetoric, maybe an art, maybe an idle con-game, but it cannot provide any reliable knowledge\n",
    "about the causes and effects of human action. Austrians disagree. They think the right\n",
    "way out of the positivistic quagmire is to identify and use other, better methods. They\n",
    "build on the approach that prevailed before the positivistic approach became dominant,\n",
    "inherited from the ‘realist’ tradition in philosophy."
   ]
  },
  {
   "cell_type": "markdown",
   "id": "6d50dd89",
   "metadata": {},
   "source": [
    "Recall that in the course of criticising the mainstream method, we made some claims\n",
    "about action and choice. In fact, the starting point of Austrian theorising is what has been\n",
    "called the ‘axiom of action’, that humans act and that action is the purposive employment\n",
    "of chosen means to reach chosen ends, as when people decide to spend their money on\n",
    "this book (means) in order to learn something new (an end) instead of doing something\n",
    "else. This starting point is self-evident in the sense that it cannot be denied without\n",
    "contradiction. Any attempt to refute it would involve a choice and would use (argumentative) means to attain its objective. Thus the axiom is undeniable, non-falsifiable, and\n",
    "certainly tells us something about the real world."
   ]
  },
  {
   "cell_type": "markdown",
   "id": "a9a57e87",
   "metadata": {},
   "source": [
    "Austrian economists use the same method of logical inference in order to identify\n",
    "universal causes and consequences of human action in all sorts of empirical contexts. They always try to deduce such necessary causal relations from the structural features of\n",
    "human action. The truth of these deductions does not need testing and, in fact, cannot be\n",
    "tested for the aforementioned reasons. As long as they are derived according to the laws\n",
    "of logic, they are as true as the starting point. Thus the theoretical edifice built on those\n",
    "grounds is a ‘logic of action’ or, as Ludwig von Mises coined it, ‘praxeology’"
   ]
  },
  {
   "cell_type": "markdown",
   "id": "60697a11",
   "metadata": {},
   "source": [
    "So how do Austrians deal with contingent causal relationships, i.e. those relationships\n",
    "which are dependent on other factors, such as those resulting in the determination of a\n",
    "particular price for some barrel of oil last month (which could have been different)? They\n",
    "hold that these require a different ‘historical’ method, namely, the psychological understanding of the singular motivations that prompt this or that act in this or that context.\n",
    "The interpretation of the real world always involves both types of tools: universal laws\n",
    "and contingent historical understanding"
   ]
  },
  {
   "cell_type": "markdown",
   "id": "17856d72",
   "metadata": {},
   "source": [
    "Let us illustrate praxeological (deductive) analysis of the structural features of human\n",
    "action with a few more basic examples. We already said that human action always\n",
    "involves using means to attain ends, such as picking this book in order to learn something. Now consider the nature of means, also known as ‘economic goods’. Such goods\n",
    "have certain structural features; otherwise, they would not and could not be used in\n",
    "human action. For example, this book must be known to exist and must be thought to\n",
    "be useful to attain certain goals. As an inanimate object, it is also easily controllable or\n",
    "‘ownable’. It could not be used as a means otherwise. And goods must be scarce; that is,\n",
    "the available quantity of a good must be insufficient to meet all ends that depend on it.\n",
    "You cannot read this copy and wedge a piece of furniture with it simultaneously, and\n",
    "someone else cannot burn it while you are enjoying reading it. Also, it did not end up\n",
    "in your hands through mere force of will: it had to be somehow produced through the\n",
    "use of other scarce means. This latter characteristic of scarcity is at the heart of human\n",
    "action and of economic analysis. Without scarcity, consumers’ goods would be available\n",
    "in superabundance. There would then be almost no necessity to make any choice and, in\n",
    "fact, no need to produce anything. Human action as we know it would simply not exist.\n"
   ]
  },
  {
   "cell_type": "markdown",
   "id": "53db92e5",
   "metadata": {},
   "source": [
    "The necessity of choosing requires the ranking in order of preference of those different uses in relation to the ends deemed priorities. In acting, one tries to bring about a\n",
    "state of affairs preferred to some others that could have occurred if the choice had been\n",
    "different. Also, valuation and decisions are made ‘on the margin’. An acting person does\n",
    "not rank the satisfaction he or she could derive from some use over another of the whole\n",
    "stock of a good available in the world, such as water in general, but of those units, each\n",
    "one valued separately, that he or she could use in a concrete act. If I can use only two\n",
    "litres of water today but would require 30 litres in order to fulfill all the goals I can pursue\n",
    "with water as a means, I cannot avoid deciding if bathing the cat is a priority or not, for\n",
    "instance. If I am considering acquiring a third litre of water today, I then only make a\n",
    "valuation of the needs which are not already fulfilled with the first two litres, i.e. if I have\n",
    "already bathed the cat, I will not include this in my ranking of priorities of what do with\n",
    "the third litre of water. The next best reachable uses then provide me with the ‘marginal\n",
    "utility’ of water in this context, that I weigh against the satisfaction or utility that I could derive from other states of affairs which I could bring about instead, say, by buying some\n",
    "food instead of water."
   ]
  },
  {
   "cell_type": "markdown",
   "id": "9b18afcf",
   "metadata": {},
   "source": [
    "Let us throw our spotlight on another structural feature of human action: its relationship to time. Action is always oriented to improve the future, and this future improvement must be uncertain from the point of view of the acting person. The improvement\n",
    "must depend on his or her action (among other factors); otherwise, he or she would not\n",
    "act at all. These facts are at the heart of basic economic concepts such as ‘entrepreneurship’ and ‘time preference’."
   ]
  },
  {
   "cell_type": "markdown",
   "id": "f350237a",
   "metadata": {},
   "source": [
    "Whoever is faced with an uncertain future necessarily engages in entrepreneurship.\n",
    "Not all people are capitalist-entrepreneurs who invest their monetary savings, but all students are labourer-entrepreneurs who invest their time and labour to prepare for a future\n",
    "professional life in a world of uncertainty."
   ]
  },
  {
   "cell_type": "markdown",
   "id": "88016aa2",
   "metadata": {},
   "source": [
    "Whoever wishes to live in the future must survive the present. If one did not have to\n",
    "care for the present, one could spend all of one’s time with life’s most rewarding activities, the kind of activities we prefer in and for themselves, such as learning philosophy\n",
    "and foreign languages, and contemplating the beauty of nature. But such activities have\n",
    "two things in common: they absorb a lot of time and they do not put any bread on the\n",
    "table. To make it through the present, it is necessary to give priority to present consumption over future consumption, other things held constant. This necessity is known\n",
    "as time preference. In the standard textbooks, this present orientedness is portrayed as an\n",
    "unnecessary but usual feature of human action. Austrian economists usually conceive it\n",
    "as a necessary feature of action. Even people who, in their thoughts, care only about the\n",
    "future must give preference to present want satisfaction in practice, if they want to reach\n",
    "the world of their dreams. As a consequence, they may sacrifice present satisfaction but\n",
    "only if it allows them to obtain more consumer goods per unit of time in the future. Most\n",
    "notably, less present consumption makes it possible to invest the saved resources in more\n",
    "time-consuming and physically productive processes of production, through the building\n",
    "of ‘capital goods’ (i.e. machines and other produced devices which, in combination with\n",
    "labour and land sites, help produce the consumer goods that directly serve human needs)."
   ]
  },
  {
   "cell_type": "markdown",
   "id": "5268c337",
   "metadata": {},
   "source": [
    "Consider a final example for a structural feature of human action, this time involving\n",
    "the social dimension of action. As known since David Ricardo at least, production for\n",
    "exchange exists because each participant can expect to benefit from the higher productivity of the division of labour (coordination). For instance, if person A can produce 1\n",
    "kg of food or 1 cloth per day while person B can produce 3 kgs of food or 2 clothes per\n",
    "day, and A specialises in the production of clothes while B specialises in the production\n",
    "of food, they can both benefit from specialisation and exchange at a price between 1 kg\n",
    "and 1.5 kg of food per cloth, say 1.3 kg, insofar as they are interested in both goods as\n",
    "consumers. Indeed, at this price A gets more food for 1 cloth than in isolation, when she\n",
    "must sacrifice 1 cloth to get only 1 kg of food. And B must give up less food for one cloth\n",
    "than under isolation (1.3 kg instead of 1.5)."
   ]
  },
  {
   "cell_type": "markdown",
   "id": "0d4b0fab",
   "metadata": {},
   "source": [
    "However, human interaction can result in conflicts over decision-making power\n",
    "in coordinating production and over the use of the available consumers’ goods. Such conflicts can be resolved, or at least be minimised, by instituting private-property rights\n",
    "on economic goods. This is why, historically, such private-property rights can be found\n",
    "in civilisations all over the world. Accordingly, they play a central role in economic\n",
    "analysis, and in Austrian economics in particular. Austrians stress that different ways to\n",
    "acquire property (appropriation regimes) tend to entail different consequences. Fundamentally, they distinguish (A) the acquisition of property based on the consent of the\n",
    "previous owner from (B) the acquisition of property based on the coercion of, or threat\n",
    "of coercion against, the previous owner. The classic case of (A) is a market exchange.\n",
    "The classic case of (B) is a government intervention. One basic difference between (A)\n",
    "and (B) is that, in a market exchange, both parties expect to benefit; otherwise, the\n",
    "exchange would not take place at all, whereas when coercion enters the picture, only the\n",
    "aggressor expects to benefit, and the victims presumably do not."
   ]
  },
  {
   "cell_type": "markdown",
   "id": "e27ec26f",
   "metadata": {},
   "source": [
    "Other differences depend on the type of coercion that is involved. Here it is useful\n",
    "to distinguish between repressive and permissive interventions. Governments can overrule the will of present property owners by forcing them to do things that they would\n",
    "not have done voluntarily, such as paying taxes, respecting regulations, and refraining\n",
    "from selling heroin (repressive interventions). But they can also enable certain people (or\n",
    "everyone) to overstep the boundaries of their own private property, for example, by paying them subsidies and by allowing them to break contracts (permissive interventions)."
   ]
  },
  {
   "cell_type": "markdown",
   "id": "37509d0c",
   "metadata": {},
   "source": [
    "Repressive interventions are best known, both in the Austrian and in the mainstream\n",
    "literature. The classic examples are maximum buying prices and minimum selling prices.\n",
    "Here the Austrian analysis is similar to what mainstream microeconomics tells us in that\n",
    "a maximum buying price for a good below its free market clearing price makes a shortage of the good under consideration unavoidable and a minimum selling price below\n",
    "the free market clearing price for another good or service makes a surplus unavoidable\n",
    "(forced unemployment in the case of labour). Now the specific Austrian contribution,\n",
    "developed in particular by Mises, is that such price-control policies are not sustainable if\n",
    "pursued consistently"
   ]
  },
  {
   "cell_type": "markdown",
   "id": "9309355b",
   "metadata": {},
   "source": [
    "Given a shortage induced by enacting a ‘maximum price’, for instance – unless it is\n",
    "ready to live with its consequences, the government has the choice of abolishing its price\n",
    "control or of mitigating its impact by imposing another maximum price decree for the\n",
    "factors of production of the good, so that its costs of production fall and the businesspeople do not run away from the industry. But now the same issue rises again: shortages\n",
    "developing for the factors of production. If the government wants to stick to its price\n",
    "control policy, it must further control factor prices all along the chain of production up\n",
    "until the first stage of the process and make sure they are not bid up in other processes.\n",
    "Maximum prices must prevail there too in order to keep the productive resources stuck\n",
    "in the first industry. Otherwise, they would flow to uncontrolled branches. All prices\n",
    "end up being fixed by governmental decree – the market economy is in effect abolished – whereas the availability of all sorts of goods decreases instead of increasing. Mises\n",
    "offers the German experiment with price controls during World War I as a prominent example of such a development, although the Reich collapsed before its completion\n",
    "(1952, pp. 76–78)."
   ]
  },
  {
   "cell_type": "markdown",
   "id": "4ed1367a",
   "metadata": {},
   "source": [
    "Permissive interventions play an immensely important role in our present-day economies. All payments made by the welfare state and all payments made by central banks fall\n",
    "into this category. In the next two sections, we will focus on such permissive interventions, since they were at the heart of the recent financial turmoil. If Austrian economists\n",
    "have been able to anticipate this turmoil, it was because they had a firmer grasp than most\n",
    "other economists on the pervasive negative consequences of central-bank interventions."
   ]
  },
  {
   "cell_type": "markdown",
   "id": "c63fe6f9",
   "metadata": {},
   "source": [
    "**Tools for understanding crisis: government-induced\n",
    "exuberance in financial markets**"
   ]
  },
  {
   "cell_type": "markdown",
   "id": "efe1bbb3",
   "metadata": {},
   "source": [
    "Most observers pretty much agree on the presence of thoughtless or seemingly illconsidered behaviour in financial markets. Alan Greenspan, the previous chairperson of\n",
    "the US central bank, spoke of ‘irrational exuberance’. Financial-market participants have\n",
    "neglected to invest in the ‘safety valves’ of economic life while trying to maximise profits. This recklessness materialised in a change of the composition of their balance sheet,\n",
    "the accounting device conventionally used to indicate what a firm owns (its ‘assets’) and\n",
    "owes (its ‘liabilities’)."
   ]
  },
  {
   "cell_type": "markdown",
   "id": "75340ee8",
   "metadata": {},
   "source": [
    "The change affected both sides. On the asset side, keeping cash reserves is useful for\n",
    "being able to meet one’s obligations when one’s income is lower than expected, but it\n",
    "means one misses the opportunity of earning some additional revenue by investing them.\n",
    "Firms that act exuberantly reduce their cash reserves in pursuit of profit. In doing so they\n",
    "sacrifice ‘liquidity’."
   ]
  },
  {
   "cell_type": "markdown",
   "id": "aad1873a",
   "metadata": {},
   "source": [
    "On the liability side, a firm can finance its activities with funds brought by its owners\n",
    "(equity) and by borrowing money in varying proportions. A higher proportion of equity\n",
    "means that one has more of a ‘buffer’ to absorb losses in times of trouble, but equity\n",
    "finance comes at an opportunity cost to the owners if the price of debt (the interest rate)\n",
    "is lower than the return of their firm. As the difference between the interest rate and\n",
    "the rate of return is the firm’s profit, in that case, the higher the proportion of debt, the\n",
    "higher the rate of return on equity. ‘Leveraged’ investments (those that are made using\n",
    "borrowed money) therefore tend to be more profitable than ‘unleveraged’ investments,\n",
    "at the price of greater risks. Exuberant firms are taking such risks. They go into debt to\n",
    "expand their activities or to buy back their own shares."
   ]
  },
  {
   "cell_type": "markdown",
   "id": "12e23fc9",
   "metadata": {},
   "source": [
    "The consequences are twofold. On the one hand, any given exuberant firm becomes\n",
    "more vulnerable to the vicissitudes of the markets. On the other hand, if many or all\n",
    "financial firms are exuberant, the resulting debt economy makes any one firm’s fate more\n",
    "dependent on the fate of any of the other firms. When one fails, it is more likely to make\n",
    "its lenders fail too, etc. In other words, the whole marketplace becomes more fragile, and\n",
    "when one big company fails, contagion can occur (‘systemic risk’)."
   ]
  },
  {
   "cell_type": "markdown",
   "id": "05993cb4",
   "metadata": {},
   "source": [
    "Now the crucial question is this: where does the exuberance come from? Most commentators seem to assume that it is just there, an independent variable enshrined into the\n",
    "very nature of financial markets and of financial-market psychology. Austrians beg to\n",
    "differ. They argue that the level of exuberance on any market depends most notably on\n",
    "its institutional environment. Currently existing financial markets are far from being free\n",
    "markets. All market participants are subject to the legal obligation (‘legal tender laws’) to\n",
    "use government-produced money, and such ‘fiat money’ can be produced with hardly\n",
    "any technical or commercial limitations (since by definition it is not a commodity or a\n",
    "title to some commodity), whereas the money stock of older market-chosen commodity\n",
    "moneys such as gold and silver could increase only slowly. All financial-market participants therefore can expect the central banks to prevent market meltdowns by bailing out\n",
    "the ‘systemically relevant’ market participants with newly produced base money (bank\n",
    "notes, coins, and deposits at central banks) if needed. Bailouts spread the cost of failure\n",
    "to all money users. Hence, the perverse incentive for the likely beneficiaries of bailouts\n",
    "to take risks on which they would not bet their own money. Hence, the tendency to\n",
    "keep few cash reserves and toward high debt-to-equity financing. Profits are private\n",
    "while losses are socialised. What appears to be ‘irrational’ exuberance is in fact rational\n",
    "exuberance under the current institutional set-up. Or, in the more technical language\n",
    "of economic analysis, irrational exuberance is a manifestation of ‘institutionalised moral\n",
    "hazard’."
   ]
  },
  {
   "cell_type": "markdown",
   "id": "972f8b1a",
   "metadata": {},
   "source": [
    "Moral hazard normally refers to a situation in which some persons are in a position to\n",
    "decide over one course of action or another, involving a more or less uncertain outcome,\n",
    "while some other persons are made to bear the cost in case of failure, against their will.\n",
    "Legal tender laws and central banks acting as lenders of last resort institutionalise moral\n",
    "hazard because all money users are thereby forced to bear the costs of bailouts, in the\n",
    "form of money expansion-induced higher prices (lower purchasing power of money) as\n",
    "compared to the situation that would otherwise have prevailed. Without the bailout programmes that were instigated in the fall of 2008, the euro, pound, and dollar price levels\n",
    "would have declined precipitously and many commercial banks would have gone bankrupt. Thus the purchasing power of money would have increased dramatically, allowing\n",
    "the owners of money to buy bankrupt firms at bargain prices. The bailout prevented this\n",
    "outcome, and the banks anticipated the bailout. This is why in the preceding years they\n",
    "acted exuberantly. They did not have to fear any bankruptcy and any takeover at bargain\n",
    "prices. They knew the central banks would stand ready to prevent that."
   ]
  },
  {
   "cell_type": "markdown",
   "id": "0460edc8",
   "metadata": {},
   "source": [
    "The costs of exuberance can also be socialised directly through governments’ budgets.\n",
    "After the 2008 meltdown, taxpayers’ money was used in the bailouts of financial institutions, which the latter had probably anticipated, too."
   ]
  },
  {
   "cell_type": "markdown",
   "id": "cda9a828",
   "metadata": {},
   "source": [
    "It should be clear that the potential for bailouts and the accompanying redistribution of incomes and wealth from the general public toward the financial sector and its\n",
    "main clients is presently at a historical high Fiat moneys are completely unredeemable\n",
    "since 1971, when the US central bank was authorised to break its contractual obligation\n",
    "toward other central banks to redeem dollars into gold. Since then, fiat money can be issued with almost no restriction. Insofar as people realise this (and they do), fiat paper\n",
    "money entails moral hazard on a gigantic scale. Let us underscore that this state of affairs\n",
    "is not an outgrowth of the market economy. Austrians argue that it is a consequence of\n",
    "permissive government interventions in the business of money production, which makes\n",
    "participants more reckless than they otherwise would be."
   ]
  },
  {
   "cell_type": "markdown",
   "id": "f243d319",
   "metadata": {},
   "source": [
    "The government’s answer to this problem is regulation. Most notably, banks are\n",
    "legally required to keep minimum amounts of equity and reserves. The problem is that\n",
    "as long as loopholes remain and moral hazard thereby is somewhat restrained in a particular industry, it reappears where regulation is less strict, resources flowing from the more\n",
    "regulated to the less regulated industries. In the same way that the logic of price controls\n",
    "described above requires governments to expand their programme to the whole economy, they have no choice if they insist in keeping a monopoly on money production\n",
    "but to regulate ever more branches, until no investment can be independently decided\n",
    "by anyone without the regulatory bodies’ approval. Moral hazard is curbed. However,\n",
    "the reason why the patient is not sick anymore is that he is dead."
   ]
  },
  {
   "cell_type": "markdown",
   "id": "686afd21",
   "metadata": {},
   "source": [
    "**Tools for understanding crisis: Austrian business\n",
    "cycle theory**"
   ]
  },
  {
   "cell_type": "markdown",
   "id": "a44301ad",
   "metadata": {},
   "source": [
    "Pervasive fragility explains why financial crises occur, but it does not explain their cyclical recurrence. If one expects local errors to occur all the time under uncertainty, why\n",
    "would we regularly have clusters of errors in the same direction? This is the question\n",
    "that a business cycle theory needs to answer. Perhaps the piece of theorising for which\n",
    "Austrians are best known is their business cycle theory, for which the 1974 Nobel Prize\n",
    "was awarded to Friedrich Hayek"
   ]
  },
  {
   "cell_type": "markdown",
   "id": "70c2b679",
   "metadata": {},
   "source": [
    "Mises and Hayek had argued that the recurring busts were the result of recurring\n",
    "booms. The original feature of their theory was the interpretation of the meaning of\n",
    "booms and busts. Schumpeterians, Keynesians, and most other economists felt that\n",
    "booms were just fine, and all one had to do was to focus on avoiding busts. The Austrians considered that the problematic phase of the cycle was the boom, whereas the bust\n",
    "brought relief. In their eyes, the boom phase of the cycle is characterised by clusters of\n",
    "massive investment errors. Misled by artificially low interest rates caused by the governments’ central bank–induced growth of the money supply, the market participants invest\n",
    "in the wrong type of projects, which the Austrians call ‘malinvestments’. Eventually,\n",
    "these investment errors become manifest in shrinking profits, rising losses, bankruptcy,\n",
    "and massive unemployment. Such a crisis is rightly feared for the hardship it brings to\n",
    "individuals, families, and firms. However, the Austrians argued that, from an overall\n",
    "point of view, the crisis is beneficial because it puts the economy back on its rails."
   ]
  },
  {
   "cell_type": "markdown",
   "id": "2d21ed09",
   "metadata": {},
   "source": [
    "This is the Austrian theory in a nutshell. It gets more complicated once we turn to\n",
    "the details, so let us just point out the central elements of the mechanism that is here\n",
    "at stake. In the currently existing banking system, mere cash deposits are legally treated as loans to the commercial banks, so that banks need only to keep a fraction of the\n",
    "money to meet the daily request for cash from depositors. As a consequence, equity\n",
    "and money properly borrowed are not the only ways available to the banks to finance\n",
    "loans. They can simply lend money by crediting the borrowers’ checking accounts with\n",
    "new electronic entries, and when those borrowers – or the people from whom they buy\n",
    "something – request some cash, the banks gives them the cash provided by previous\n",
    "depositors. This way, banks ‘create money’ when they make loans, even though there\n",
    "is consequently less cash held in reserve than there are electronic entries which function\n",
    "as substitutes for it (‘fractional reserve banking’). The cash itself, in the form of paper\n",
    "money, is produced by a central bank, so any commercial bank operating in the area\n",
    "where the central bank’s paper money has legal tender needs a checking account at the\n",
    "central bank to withdraw it or to sell assets to the central bank in exchange for its cash.\n",
    "The amount of reserves that banks hold – cash held plus their checking accounts at the\n",
    "central bank – determines how far the money creation process is carried on by banks\n",
    "(the money multiplier process). The central bank influences the outcome, either by\n",
    "changing the ratio of reserves it may require from the banks, or by lending more or less\n",
    "reserves to the banks, or by buying/selling assets to the public (open market operations),\n",
    "which increases/decreases the reserves held by banks, ultimately backed by the amount\n",
    "of paper money it produces."
   ]
  },
  {
   "cell_type": "markdown",
   "id": "cb342e2a",
   "metadata": {},
   "source": [
    "When the banking system increases the money supply by lending newly created\n",
    "funds, then unless all market participants anticipate the long-run effects of this credit\n",
    "expansion, the new money depresses the interest rates. Projects which would otherwise\n",
    "not be considered profitable now look like they are. Investment spending is consequently\n",
    "raised relative to consumption spending, as when people become less present oriented,\n",
    "except that this occurs without an actual desire to consume less and invest more (without\n",
    "a change in their time preferences). A growth process is seemingly triggered, with money\n",
    "flowing in stages further away from the final consumption stage, bidding up factor prices\n",
    "there. Stocks and real estate prices soar in the expanding industries"
   ]
  },
  {
   "cell_type": "markdown",
   "id": "cdbc083f",
   "metadata": {},
   "source": [
    "This is the boom phase. The problem is that without the desire to actually save more,\n",
    "the new projects will be unsustainable. As the owners of factors of production are paid\n",
    "and the new money changes hands, individuals re-affirm their actual preferences by altering their spending pattern toward the original proportions of present consumption versus\n",
    "investment for the future (ignoring here for the sake of simplicity that the redistributive\n",
    "effect may alter that original pattern). So the funds required to sustain the construction\n",
    "of the new structure of production are lacking. The projects are not as profitable as the\n",
    "initially low interest rates on loans had suggested, and they must be liquidated. As a result\n",
    "of a distorted pattern of spending, real resources had been oriented toward projects of\n",
    "secondary importance, from the point of view of the public-at-large as consumers and\n",
    "savers. Eventually the cluster of errors is revealed by losses, business failures, and unemployment. Assuming no further money expansion, this leads to a reversal of the relative\n",
    "price changes which had initially occurred, including a rise in the cost of borrowing to a\n",
    "level in line with actual time preferences."
   ]
  },
  {
   "cell_type": "markdown",
   "id": "19bdfafe",
   "metadata": {},
   "source": [
    "This is the crisis, or bust, or correction phase. As Mises has put it, it is as if we had\n",
    "a homebuilder thinking he has more resources than he actually has (1949, p. 560). He\n",
    "would then try to build a bigger house than he really can. Not having enough resources\n",
    "to complete the project, he will waste at least some of them if he is under the illusion the\n",
    "plan is sound. At some point, the illusion must end since he runs out of bricks. His error\n",
    "is revealed and the resources he squandered are likely to find a new owner if his firm is\n",
    "liquidated. From now on, business can start again on a sounder basis."
   ]
  },
  {
   "cell_type": "markdown",
   "id": "40c21f35",
   "metadata": {},
   "source": [
    "When the crisis hits, governments and their central banks are tempted to stop it,\n",
    "but this boils down to tinkering with the readjustment process. New money creation\n",
    "or public spending to subsidise failed projects amount to an attempt at maintaining the\n",
    "malinvestments which have caused the problem in the first place. Worse still, ever-newer\n",
    "rounds of credit expansion under the pretext of ‘anti-crises policy’ can create even more\n",
    "malinvestments on top of the previous ones. An Austrian interpretation of the massive\n",
    "bailout plans occurring since 2008 would then be that the alleged cure is actually toxic\n",
    "in the long run. In order to ease pain in the short run, it creates ever more need for\n",
    "adjustments."
   ]
  },
  {
   "cell_type": "markdown",
   "id": "6c6f73d3",
   "metadata": {},
   "source": [
    "The cyclical nature of the boom-bust process is explained by the fact that the institutions which are ultimately responsible for it remain in place. As long as they continue and\n",
    "expand the money supply through credit expansion, one should expect new booms and\n",
    "busts on a regular basis. Since the ultimate cause of such troubles lies in legal tender laws\n",
    "forcing people to use government-produced fiat moneys, nothing but their abolition can\n",
    "prevent future catastrophes."
   ]
  },
  {
   "cell_type": "markdown",
   "id": "7af036ec",
   "metadata": {},
   "source": [
    "**Conclusion**"
   ]
  },
  {
   "cell_type": "markdown",
   "id": "4370bd1a",
   "metadata": {},
   "source": [
    "With its epistemological and methodological foundations, the Austrian approach distinctly differs from all other modern approaches to economic analysis. It can be applied to\n",
    "explain both the causes of the recent financial crises and the consequences of the various\n",
    "government programmes intended to combat those crises. While the Austrian approach\n",
    "is unorthodox by today’s methodological standards, its policy conclusions may be considered more orthodox than those of other heterodox schools of thought, in that they paint\n",
    "a picture of pure laissez-faire policies as essential to prosperity, in contrast to pervasive\n",
    "government interventions. However, it should be clear, in light of what we have presented here, that the prevailing institutions and policies are far from anything resembling\n",
    "the practice of genuine laissez-faire, which in the field of money would require the\n",
    "abolition of legal tender laws. It should also be clear that the mainstream theories which\n",
    "attempt to provide a rationale for monetary interventionism in particular are definitely\n",
    "not some sort of classical liberal or libertarian advocacy program. Also, those who think\n",
    "that laissez-faire policies are an outgrowth of mathematical and econometric modelling\n",
    "should think twice. This is not only because such modelling is hardly biased toward\n",
    "laissez-faire policy conclusions. More importantly, the core Austrian thesis essentially consists in a verbal analysis (although attempts at Austrian modelling exist), yet Austrians\n",
    "argue that pervasive government interventions have entailed the recent crises and that the\n",
    "subsequent interventions have aggravated them. They see laissez-faire policies as a path to\n",
    "recovery. They agree that such policies are likely to trigger a substantial economic downturn in the short run, but they argue that an adjustment crisis of some sort is necessary\n",
    "to get the economy back on track while new rounds of government interventions create\n",
    "additional difficulties which sow the seeds of ever-more-painful crisis"
   ]
  }
 ],
 "metadata": {
  "kernelspec": {
   "display_name": "Python 3 (ipykernel)",
   "language": "python",
   "name": "python3"
  },
  "language_info": {
   "codemirror_mode": {
    "name": "ipython",
    "version": 3
   },
   "file_extension": ".py",
   "mimetype": "text/x-python",
   "name": "python",
   "nbconvert_exporter": "python",
   "pygments_lexer": "ipython3",
   "version": "3.10.8"
  },
  "toc": {
   "base_numbering": 1,
   "nav_menu": {},
   "number_sections": true,
   "sideBar": true,
   "skip_h1_title": false,
   "title_cell": "Table of Contents",
   "title_sidebar": "Contents",
   "toc_cell": false,
   "toc_position": {},
   "toc_section_display": true,
   "toc_window_display": false
  }
 },
 "nbformat": 4,
 "nbformat_minor": 5
}
