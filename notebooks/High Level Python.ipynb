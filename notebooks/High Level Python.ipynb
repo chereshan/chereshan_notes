{
 "cells": [
  {
   "cell_type": "markdown",
   "id": "056632f2",
   "metadata": {},
   "source": [
    "# High Level Python"
   ]
  },
  {
   "cell_type": "markdown",
   "id": "0f9685e6",
   "metadata": {
    "heading_collapsed": true
   },
   "source": [
    "## Cloud Computing"
   ]
  },
  {
   "cell_type": "markdown",
   "id": "0bcb61f0",
   "metadata": {
    "hidden": true
   },
   "source": [
    "There are also commercial applications of cloud computing using Python:\n",
    "\n",
    "* [Anaconda Enterprise](https://www.anaconda.com/products/enterprise)\n",
    "\n",
    "* [Amazon Web Services](https://aws.amazon.com/ru/developer/language/python/?nc1=f_dr)\n",
    "\n",
    "* [Google Cloud](https://cloud.google.com/)\n",
    "\n",
    "* [Digital Ocean](https://www.digitalocean.com/)"
   ]
  },
  {
   "cell_type": "markdown",
   "id": "354c31cd",
   "metadata": {},
   "source": [
    "##  Parallel Processing"
   ]
  },
  {
   "cell_type": "markdown",
   "id": "b0f5be88",
   "metadata": {},
   "source": [
    "Apart from the cloud computing options listed above, you might like to consider\n",
    "\n",
    "* [Parallel computing through IPython clusters](https://ipyparallel.readthedocs.io/en/latest/)\n",
    "\n",
    "* [Dask](https://docs.dask.org/en/stable/) parallelises PyData and Machine Learning in Python.\n",
    "\n",
    "* GPU programming through [JAX](https://jax.readthedocs.io/en/latest/notebooks/quickstart.html), [PyCuda](https://wiki.tiker.net/PyCuda), [PyOpenCL](https://documen.tician.de/pyopencl/), [Rapids](https://rapids.ai/), etc."
   ]
  },
  {
   "cell_type": "markdown",
   "id": "3ef99d6c",
   "metadata": {},
   "source": [
    "There are many other interesting developments with scientific programming in Python.\n",
    "\n",
    "Some representative examples include"
   ]
  },
  {
   "cell_type": "markdown",
   "id": "fd65b603",
   "metadata": {},
   "source": [
    "* [Jupyter](http://jupyter.org/) — Python in your browser with interactive code cells, embedded images and other useful features.\n",
    "\n",
    "* [Numba](http://numba.pydata.org/) — make Python run at the same speed as native machine code!\n",
    "\n",
    "* [CVXPY](https://www.cvxpy.org/) — convex optimization in Python.\n",
    "\n",
    "* [PyTables](http://www.pytables.org/) — manage large data sets.\n",
    "\n",
    "* [scikit-image](https://scikit-image.org/) and [OpenCV](https://opencv.org/) — process and analyse scientific image data.\n",
    "\n",
    "* [FLAML](https://mlflow.org/docs/latest/index.html) — automate machine learning and hyperparameter tuning.\n",
    "\n",
    "* [BeautifulSoup](https://www.crummy.com/software/BeautifulSoup/bs4/doc/) — extract data from HTML and XML files.\n",
    "\n",
    "* [PyInstaller](https://pyinstaller.org/en/stable/) — create packaged app from python script."
   ]
  },
  {
   "cell_type": "code",
   "execution_count": null,
   "id": "6344b550",
   "metadata": {},
   "outputs": [],
   "source": []
  }
 ],
 "metadata": {
  "kernelspec": {
   "display_name": "Python 3 (ipykernel)",
   "language": "python",
   "name": "python3"
  },
  "language_info": {
   "codemirror_mode": {
    "name": "ipython",
    "version": 3
   },
   "file_extension": ".py",
   "mimetype": "text/x-python",
   "name": "python",
   "nbconvert_exporter": "python",
   "pygments_lexer": "ipython3",
   "version": "3.10.8"
  },
  "toc": {
   "base_numbering": 1,
   "nav_menu": {},
   "number_sections": true,
   "sideBar": true,
   "skip_h1_title": false,
   "title_cell": "Table of Contents",
   "title_sidebar": "Contents",
   "toc_cell": false,
   "toc_position": {},
   "toc_section_display": true,
   "toc_window_display": false
  }
 },
 "nbformat": 4,
 "nbformat_minor": 5
}
